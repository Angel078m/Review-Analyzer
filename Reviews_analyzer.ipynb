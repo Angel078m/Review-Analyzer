{
  "cells": [
    {
      "cell_type": "markdown",
      "metadata": {
        "id": "-zjmlEdeQSFa"
      },
      "source": [
        "# Sprint Challenge\n",
        "## *Data Science Sprint 13*\n",
        "\n",
        "After a sprint of Natural Language Processing, you've learned some cool new stuff: how to process text, how turn text into vectors, and how to model topics from documents. Apply your newly acquired skills to one of the most famous NLP datasets out there: [Yelp](https://www.yelp.com/dataset). As part of the job selection process, some of my friends have been asked to create analysis of this dataset, so I want to empower you to have a head start.  \n",
        "\n",
        "The real dataset is massive (almost 8 gigs uncompressed). The data is sampled for you to something more manageable for the Sprint Challenge. You can analyze the full dataset as a stretch goal or after the sprint challenge.\n",
        "\n",
        "## Challenge Objectives\n",
        "Successfully complete all these objectives to earn full credit.\n",
        "\n",
        "**Successful completion is defined as passing all the unit tests in each objective.**  \n",
        "\n",
        "There are 8 total possible points in this sprint challenge.\n",
        "\n",
        "\n",
        "There are more details on each objective further down in the notebook.*\n",
        "* <a href=\"#p1\">Part 1</a>: Write a function to tokenize the yelp reviews\n",
        "* <a href=\"#p2\">Part 2</a>: Create a vector representation of those tokens\n",
        "* <a href=\"#p3\">Part 3</a>: Use your tokens in a classification model on Yelp rating\n",
        "* <a href=\"#p4\">Part 4</a>: Estimate & Interpret a topic model of the Yelp reviews\n",
        "\n",
        "____\n",
        "\n",
        "# Before you submit your notebook you must first\n",
        "\n",
        "1) Restart your notebook's Kernel\n",
        "\n",
        "2) Run all cells sequentially, from top to bottom, so that cell numbers are sequential numbers (i.e. 1,2,3,4,5...)\n",
        "- Easiest way to do this is to click on the **Cell** tab at the top of your notebook and select **Run All** from the drop down menu.\n",
        "\n",
        "3) **Comment out the cell that generates a pyLDAvis visual in objective 4 (see instructions in that section).**\n",
        "____"
      ]
    },
    {
      "cell_type": "markdown",
      "metadata": {
        "id": "uzNfpWT1QSFc"
      },
      "source": [
        "### Part 0: Import Necessary Packages\n",
        "For this section, you will need to import:\n",
        "- `spacy`\n",
        "- `Pandas`\n",
        "- `Seaborn`\n",
        "- `Matplotlib`\n",
        "- `NearestNeighbors`\n",
        "- `Pipeline`\n",
        "- `TfidfVectorizer`\n",
        "- `KneighborsClassifier`\n",
        "- `GridSearchCV`\n",
        "- `corpora`\n",
        "- `LdaModel`\n",
        "- `gensim`\n",
        "- `re`\n",
        "\n",
        "> **Note: This assignment is optimized to work with these specific packages. You can use import different packages, but note that this may affect how CodeGrade works, and may cause CodeGrade to fail.**"
      ]
    },
    {
      "cell_type": "code",
      "execution_count": null,
      "metadata": {
        "colab": {
          "base_uri": "https://localhost:8080/"
        },
        "id": "g0_e-oZyRVSs",
        "outputId": "fef410e6-c2ea-40e8-aada-0e4e09a7742a"
      },
      "outputs": [
        {
          "output_type": "stream",
          "name": "stdout",
          "text": [
            "Collecting en-core-web-md==3.7.1\n",
            "  Downloading https://github.com/explosion/spacy-models/releases/download/en_core_web_md-3.7.1/en_core_web_md-3.7.1-py3-none-any.whl (42.8 MB)\n",
            "\u001b[2K     \u001b[90m━━━━━━━━━━━━━━━━━━━━━━━━━━━━━━━━━━━━━━━━\u001b[0m \u001b[32m42.8/42.8 MB\u001b[0m \u001b[31m8.3 MB/s\u001b[0m eta \u001b[36m0:00:00\u001b[0m\n",
            "\u001b[?25hRequirement already satisfied: spacy<3.8.0,>=3.7.2 in /usr/local/lib/python3.10/dist-packages (from en-core-web-md==3.7.1) (3.7.5)\n",
            "Requirement already satisfied: spacy-legacy<3.1.0,>=3.0.11 in /usr/local/lib/python3.10/dist-packages (from spacy<3.8.0,>=3.7.2->en-core-web-md==3.7.1) (3.0.12)\n",
            "Requirement already satisfied: spacy-loggers<2.0.0,>=1.0.0 in /usr/local/lib/python3.10/dist-packages (from spacy<3.8.0,>=3.7.2->en-core-web-md==3.7.1) (1.0.5)\n",
            "Requirement already satisfied: murmurhash<1.1.0,>=0.28.0 in /usr/local/lib/python3.10/dist-packages (from spacy<3.8.0,>=3.7.2->en-core-web-md==3.7.1) (1.0.10)\n",
            "Requirement already satisfied: cymem<2.1.0,>=2.0.2 in /usr/local/lib/python3.10/dist-packages (from spacy<3.8.0,>=3.7.2->en-core-web-md==3.7.1) (2.0.8)\n",
            "Requirement already satisfied: preshed<3.1.0,>=3.0.2 in /usr/local/lib/python3.10/dist-packages (from spacy<3.8.0,>=3.7.2->en-core-web-md==3.7.1) (3.0.9)\n",
            "Requirement already satisfied: thinc<8.3.0,>=8.2.2 in /usr/local/lib/python3.10/dist-packages (from spacy<3.8.0,>=3.7.2->en-core-web-md==3.7.1) (8.2.5)\n",
            "Requirement already satisfied: wasabi<1.2.0,>=0.9.1 in /usr/local/lib/python3.10/dist-packages (from spacy<3.8.0,>=3.7.2->en-core-web-md==3.7.1) (1.1.3)\n",
            "Requirement already satisfied: srsly<3.0.0,>=2.4.3 in /usr/local/lib/python3.10/dist-packages (from spacy<3.8.0,>=3.7.2->en-core-web-md==3.7.1) (2.4.8)\n",
            "Requirement already satisfied: catalogue<2.1.0,>=2.0.6 in /usr/local/lib/python3.10/dist-packages (from spacy<3.8.0,>=3.7.2->en-core-web-md==3.7.1) (2.0.10)\n",
            "Requirement already satisfied: weasel<0.5.0,>=0.1.0 in /usr/local/lib/python3.10/dist-packages (from spacy<3.8.0,>=3.7.2->en-core-web-md==3.7.1) (0.4.1)\n",
            "Requirement already satisfied: typer<1.0.0,>=0.3.0 in /usr/local/lib/python3.10/dist-packages (from spacy<3.8.0,>=3.7.2->en-core-web-md==3.7.1) (0.12.3)\n",
            "Requirement already satisfied: tqdm<5.0.0,>=4.38.0 in /usr/local/lib/python3.10/dist-packages (from spacy<3.8.0,>=3.7.2->en-core-web-md==3.7.1) (4.66.4)\n",
            "Requirement already satisfied: requests<3.0.0,>=2.13.0 in /usr/local/lib/python3.10/dist-packages (from spacy<3.8.0,>=3.7.2->en-core-web-md==3.7.1) (2.31.0)\n",
            "Requirement already satisfied: pydantic!=1.8,!=1.8.1,<3.0.0,>=1.7.4 in /usr/local/lib/python3.10/dist-packages (from spacy<3.8.0,>=3.7.2->en-core-web-md==3.7.1) (2.8.0)\n",
            "Requirement already satisfied: jinja2 in /usr/local/lib/python3.10/dist-packages (from spacy<3.8.0,>=3.7.2->en-core-web-md==3.7.1) (3.1.4)\n",
            "Requirement already satisfied: setuptools in /usr/local/lib/python3.10/dist-packages (from spacy<3.8.0,>=3.7.2->en-core-web-md==3.7.1) (67.7.2)\n",
            "Requirement already satisfied: packaging>=20.0 in /usr/local/lib/python3.10/dist-packages (from spacy<3.8.0,>=3.7.2->en-core-web-md==3.7.1) (24.1)\n",
            "Requirement already satisfied: langcodes<4.0.0,>=3.2.0 in /usr/local/lib/python3.10/dist-packages (from spacy<3.8.0,>=3.7.2->en-core-web-md==3.7.1) (3.4.0)\n",
            "Requirement already satisfied: numpy>=1.19.0 in /usr/local/lib/python3.10/dist-packages (from spacy<3.8.0,>=3.7.2->en-core-web-md==3.7.1) (1.25.2)\n",
            "Requirement already satisfied: language-data>=1.2 in /usr/local/lib/python3.10/dist-packages (from langcodes<4.0.0,>=3.2.0->spacy<3.8.0,>=3.7.2->en-core-web-md==3.7.1) (1.2.0)\n",
            "Requirement already satisfied: annotated-types>=0.4.0 in /usr/local/lib/python3.10/dist-packages (from pydantic!=1.8,!=1.8.1,<3.0.0,>=1.7.4->spacy<3.8.0,>=3.7.2->en-core-web-md==3.7.1) (0.7.0)\n",
            "Requirement already satisfied: pydantic-core==2.20.0 in /usr/local/lib/python3.10/dist-packages (from pydantic!=1.8,!=1.8.1,<3.0.0,>=1.7.4->spacy<3.8.0,>=3.7.2->en-core-web-md==3.7.1) (2.20.0)\n",
            "Requirement already satisfied: typing-extensions>=4.6.1 in /usr/local/lib/python3.10/dist-packages (from pydantic!=1.8,!=1.8.1,<3.0.0,>=1.7.4->spacy<3.8.0,>=3.7.2->en-core-web-md==3.7.1) (4.12.2)\n",
            "Requirement already satisfied: charset-normalizer<4,>=2 in /usr/local/lib/python3.10/dist-packages (from requests<3.0.0,>=2.13.0->spacy<3.8.0,>=3.7.2->en-core-web-md==3.7.1) (3.3.2)\n",
            "Requirement already satisfied: idna<4,>=2.5 in /usr/local/lib/python3.10/dist-packages (from requests<3.0.0,>=2.13.0->spacy<3.8.0,>=3.7.2->en-core-web-md==3.7.1) (3.7)\n",
            "Requirement already satisfied: urllib3<3,>=1.21.1 in /usr/local/lib/python3.10/dist-packages (from requests<3.0.0,>=2.13.0->spacy<3.8.0,>=3.7.2->en-core-web-md==3.7.1) (2.0.7)\n",
            "Requirement already satisfied: certifi>=2017.4.17 in /usr/local/lib/python3.10/dist-packages (from requests<3.0.0,>=2.13.0->spacy<3.8.0,>=3.7.2->en-core-web-md==3.7.1) (2024.6.2)\n",
            "Requirement already satisfied: blis<0.8.0,>=0.7.8 in /usr/local/lib/python3.10/dist-packages (from thinc<8.3.0,>=8.2.2->spacy<3.8.0,>=3.7.2->en-core-web-md==3.7.1) (0.7.11)\n",
            "Requirement already satisfied: confection<1.0.0,>=0.0.1 in /usr/local/lib/python3.10/dist-packages (from thinc<8.3.0,>=8.2.2->spacy<3.8.0,>=3.7.2->en-core-web-md==3.7.1) (0.1.5)\n",
            "Requirement already satisfied: click>=8.0.0 in /usr/local/lib/python3.10/dist-packages (from typer<1.0.0,>=0.3.0->spacy<3.8.0,>=3.7.2->en-core-web-md==3.7.1) (8.1.7)\n",
            "Requirement already satisfied: shellingham>=1.3.0 in /usr/local/lib/python3.10/dist-packages (from typer<1.0.0,>=0.3.0->spacy<3.8.0,>=3.7.2->en-core-web-md==3.7.1) (1.5.4)\n",
            "Requirement already satisfied: rich>=10.11.0 in /usr/local/lib/python3.10/dist-packages (from typer<1.0.0,>=0.3.0->spacy<3.8.0,>=3.7.2->en-core-web-md==3.7.1) (13.7.1)\n",
            "Requirement already satisfied: cloudpathlib<1.0.0,>=0.7.0 in /usr/local/lib/python3.10/dist-packages (from weasel<0.5.0,>=0.1.0->spacy<3.8.0,>=3.7.2->en-core-web-md==3.7.1) (0.18.1)\n",
            "Requirement already satisfied: smart-open<8.0.0,>=5.2.1 in /usr/local/lib/python3.10/dist-packages (from weasel<0.5.0,>=0.1.0->spacy<3.8.0,>=3.7.2->en-core-web-md==3.7.1) (7.0.4)\n",
            "Requirement already satisfied: MarkupSafe>=2.0 in /usr/local/lib/python3.10/dist-packages (from jinja2->spacy<3.8.0,>=3.7.2->en-core-web-md==3.7.1) (2.1.5)\n",
            "Requirement already satisfied: marisa-trie>=0.7.7 in /usr/local/lib/python3.10/dist-packages (from language-data>=1.2->langcodes<4.0.0,>=3.2.0->spacy<3.8.0,>=3.7.2->en-core-web-md==3.7.1) (1.2.0)\n",
            "Requirement already satisfied: markdown-it-py>=2.2.0 in /usr/local/lib/python3.10/dist-packages (from rich>=10.11.0->typer<1.0.0,>=0.3.0->spacy<3.8.0,>=3.7.2->en-core-web-md==3.7.1) (3.0.0)\n",
            "Requirement already satisfied: pygments<3.0.0,>=2.13.0 in /usr/local/lib/python3.10/dist-packages (from rich>=10.11.0->typer<1.0.0,>=0.3.0->spacy<3.8.0,>=3.7.2->en-core-web-md==3.7.1) (2.16.1)\n",
            "Requirement already satisfied: wrapt in /usr/local/lib/python3.10/dist-packages (from smart-open<8.0.0,>=5.2.1->weasel<0.5.0,>=0.1.0->spacy<3.8.0,>=3.7.2->en-core-web-md==3.7.1) (1.14.1)\n",
            "Requirement already satisfied: mdurl~=0.1 in /usr/local/lib/python3.10/dist-packages (from markdown-it-py>=2.2.0->rich>=10.11.0->typer<1.0.0,>=0.3.0->spacy<3.8.0,>=3.7.2->en-core-web-md==3.7.1) (0.1.2)\n",
            "\u001b[38;5;2m✔ Download and installation successful\u001b[0m\n",
            "You can now load the package via spacy.load('en_core_web_md')\n",
            "\u001b[38;5;3m⚠ Restart to reload dependencies\u001b[0m\n",
            "If you are in a Jupyter or Colab notebook, you may need to restart Python in\n",
            "order to load all the package's dependencies. You can do this by selecting the\n",
            "'Restart kernel' or 'Restart runtime' option.\n"
          ]
        }
      ],
      "source": [
        "!python -m spacy download en_core_web_md"
      ]
    },
    {
      "cell_type": "code",
      "execution_count": null,
      "metadata": {
        "colab": {
          "base_uri": "https://localhost:8080/"
        },
        "id": "jyfgDXZBRhbo",
        "outputId": "21d16442-3b8f-48f1-9a96-d0420aa9a633"
      },
      "outputs": [
        {
          "output_type": "stream",
          "name": "stdout",
          "text": [
            "Collecting pyLDAvis\n",
            "  Downloading pyLDAvis-3.4.1-py3-none-any.whl (2.6 MB)\n",
            "\u001b[2K     \u001b[90m━━━━━━━━━━━━━━━━━━━━━━━━━━━━━━━━━━━━━━━━\u001b[0m \u001b[32m2.6/2.6 MB\u001b[0m \u001b[31m10.3 MB/s\u001b[0m eta \u001b[36m0:00:00\u001b[0m\n",
            "\u001b[?25hRequirement already satisfied: numpy>=1.24.2 in /usr/local/lib/python3.10/dist-packages (from pyLDAvis) (1.25.2)\n",
            "Requirement already satisfied: scipy in /usr/local/lib/python3.10/dist-packages (from pyLDAvis) (1.11.4)\n",
            "Requirement already satisfied: pandas>=2.0.0 in /usr/local/lib/python3.10/dist-packages (from pyLDAvis) (2.0.3)\n",
            "Requirement already satisfied: joblib>=1.2.0 in /usr/local/lib/python3.10/dist-packages (from pyLDAvis) (1.4.2)\n",
            "Requirement already satisfied: jinja2 in /usr/local/lib/python3.10/dist-packages (from pyLDAvis) (3.1.4)\n",
            "Requirement already satisfied: numexpr in /usr/local/lib/python3.10/dist-packages (from pyLDAvis) (2.10.1)\n",
            "Collecting funcy (from pyLDAvis)\n",
            "  Downloading funcy-2.0-py2.py3-none-any.whl (30 kB)\n",
            "Requirement already satisfied: scikit-learn>=1.0.0 in /usr/local/lib/python3.10/dist-packages (from pyLDAvis) (1.2.2)\n",
            "Requirement already satisfied: gensim in /usr/local/lib/python3.10/dist-packages (from pyLDAvis) (4.3.2)\n",
            "Requirement already satisfied: setuptools in /usr/local/lib/python3.10/dist-packages (from pyLDAvis) (67.7.2)\n",
            "Requirement already satisfied: python-dateutil>=2.8.2 in /usr/local/lib/python3.10/dist-packages (from pandas>=2.0.0->pyLDAvis) (2.8.2)\n",
            "Requirement already satisfied: pytz>=2020.1 in /usr/local/lib/python3.10/dist-packages (from pandas>=2.0.0->pyLDAvis) (2023.4)\n",
            "Requirement already satisfied: tzdata>=2022.1 in /usr/local/lib/python3.10/dist-packages (from pandas>=2.0.0->pyLDAvis) (2024.1)\n",
            "Requirement already satisfied: threadpoolctl>=2.0.0 in /usr/local/lib/python3.10/dist-packages (from scikit-learn>=1.0.0->pyLDAvis) (3.5.0)\n",
            "Requirement already satisfied: smart-open>=1.8.1 in /usr/local/lib/python3.10/dist-packages (from gensim->pyLDAvis) (7.0.4)\n",
            "Requirement already satisfied: MarkupSafe>=2.0 in /usr/local/lib/python3.10/dist-packages (from jinja2->pyLDAvis) (2.1.5)\n",
            "Requirement already satisfied: six>=1.5 in /usr/local/lib/python3.10/dist-packages (from python-dateutil>=2.8.2->pandas>=2.0.0->pyLDAvis) (1.16.0)\n",
            "Requirement already satisfied: wrapt in /usr/local/lib/python3.10/dist-packages (from smart-open>=1.8.1->gensim->pyLDAvis) (1.14.1)\n",
            "Installing collected packages: funcy, pyLDAvis\n",
            "Successfully installed funcy-2.0 pyLDAvis-3.4.1\n"
          ]
        }
      ],
      "source": [
        "!pip install pyLDAvis"
      ]
    },
    {
      "cell_type": "code",
      "execution_count": null,
      "metadata": {
        "id": "KLKKieVuQSFc"
      },
      "outputs": [],
      "source": [
        "# YOUR CODE HERE\n",
        "import re\n",
        "import spacy\n",
        "import pandas as pd\n",
        "import numpy as np\n",
        "import matplotlib.pyplot as plt\n",
        "import seaborn as sns\n",
        "from sklearn.neighbors import NearestNeighbors\n",
        "from sklearn.pipeline import Pipeline\n",
        "from sklearn.feature_extraction.text import TfidfVectorizer\n",
        "from sklearn.neighbors import KNeighborsClassifier\n",
        "from sklearn.model_selection import GridSearchCV\n",
        "from gensim import corpora\n",
        "from gensim.models import LdaModel\n",
        "from gensim.corpora import Dictionary\n",
        "import pyLDAvis\n",
        "import pyLDAvis.gensim_models"
      ]
    },
    {
      "cell_type": "code",
      "execution_count": null,
      "metadata": {
        "colab": {
          "base_uri": "https://localhost:8080/"
        },
        "id": "1ekcRhGgQSFc",
        "outputId": "88810c72-e8ac-458b-97de-313f16d12a86"
      },
      "outputs": [
        {
          "output_type": "stream",
          "name": "stderr",
          "text": [
            "/usr/local/lib/python3.10/dist-packages/ipykernel/ipkernel.py:283: DeprecationWarning: `should_run_async` will not call `transform_cell` automatically in the future. Please pass the result to `transformed_cell` argument and any exception that happen during thetransform in `preprocessing_exc_tuple` in IPython 7.17 and above.\n",
            "  and should_run_async(code)\n"
          ]
        }
      ],
      "source": [
        "# Visible Testing\n",
        "assert pd.__package__ == 'pandas'\n"
      ]
    },
    {
      "cell_type": "markdown",
      "metadata": {
        "id": "lESOy5v_QSFd"
      },
      "source": [
        "\n",
        "\n",
        "### Part 0: Import Data"
      ]
    },
    {
      "cell_type": "code",
      "execution_count": null,
      "metadata": {
        "colab": {
          "base_uri": "https://localhost:8080/"
        },
        "id": "_YzmThxBQSFd",
        "outputId": "aa4460a9-d00b-4c57-9453-d52df35a5969"
      },
      "outputs": [
        {
          "output_type": "stream",
          "name": "stderr",
          "text": [
            "/usr/local/lib/python3.10/dist-packages/ipykernel/ipkernel.py:283: DeprecationWarning: `should_run_async` will not call `transform_cell` automatically in the future. Please pass the result to `transformed_cell` argument and any exception that happen during thetransform in `preprocessing_exc_tuple` in IPython 7.17 and above.\n",
            "  and should_run_async(code)\n"
          ]
        }
      ],
      "source": [
        "\n",
        "\n",
        "# Load reviews from URL\n",
        "data_url = 'https://raw.githubusercontent.com/bloominstituteoftechnology/data-science-practice-datasets/main/unit_4/unit1_nlp/review_sample.json'\n",
        "\n",
        "# Import data into a DataFrame named df\n",
        "# YOUR CODE HERe\n",
        "df = pd.read_json(data_url, lines=True)"
      ]
    },
    {
      "cell_type": "code",
      "execution_count": null,
      "metadata": {
        "colab": {
          "base_uri": "https://localhost:8080/"
        },
        "id": "Ftfg5m04QSFd",
        "outputId": "7b979473-61cc-457d-964f-75b7bfb6b6a2"
      },
      "outputs": [
        {
          "output_type": "stream",
          "name": "stderr",
          "text": [
            "/usr/local/lib/python3.10/dist-packages/ipykernel/ipkernel.py:283: DeprecationWarning: `should_run_async` will not call `transform_cell` automatically in the future. Please pass the result to `transformed_cell` argument and any exception that happen during thetransform in `preprocessing_exc_tuple` in IPython 7.17 and above.\n",
            "  and should_run_async(code)\n"
          ]
        }
      ],
      "source": [
        "# Visible Testing\n",
        "assert isinstance(df, pd.DataFrame), 'df is not a DataFrame. Did you import the data into df?'\n",
        "assert df.shape[0] == 10000, 'DataFrame df has the wrong number of rows.'"
      ]
    },
    {
      "cell_type": "code",
      "execution_count": null,
      "metadata": {
        "colab": {
          "base_uri": "https://localhost:8080/",
          "height": 262
        },
        "id": "BgsdQvu6U3jj",
        "outputId": "9c27065e-ad3a-409c-b7ef-4c4441671e82"
      },
      "outputs": [
        {
          "output_type": "stream",
          "name": "stderr",
          "text": [
            "/usr/local/lib/python3.10/dist-packages/ipykernel/ipkernel.py:283: DeprecationWarning: `should_run_async` will not call `transform_cell` automatically in the future. Please pass the result to `transformed_cell` argument and any exception that happen during thetransform in `preprocessing_exc_tuple` in IPython 7.17 and above.\n",
            "  and should_run_async(code)\n"
          ]
        },
        {
          "output_type": "execute_result",
          "data": {
            "text/plain": [
              "              business_id  cool                date  funny  \\\n",
              "0  nDuEqIyRc8YKS1q1fX0CZg     1 2015-03-31 16:50:30      0   \n",
              "1  eMYeEapscbKNqUDCx705hg     0 2015-12-16 05:31:03      0   \n",
              "2  6Q7-wkCPc1KF75jZLOTcMw     1 2010-06-20 19:14:48      1   \n",
              "3  k3zrItO4l9hwfLRwHBDc9w     3 2010-07-13 00:33:45      4   \n",
              "4  6hpfRwGlOzbNv7k5eP9rsQ     1 2018-06-30 02:30:01      0   \n",
              "\n",
              "                review_id  stars  \\\n",
              "0  eZs2tpEJtXPwawvHnHZIgQ      1   \n",
              "1  DoQDWJsNbU0KL1O29l_Xug      4   \n",
              "2  DDOdGU7zh56yQHmUnL1idQ      3   \n",
              "3  LfTMUWnfGFMOfOIyJcwLVA      1   \n",
              "4  zJSUdI7bJ8PNJAg4lnl_Gg      4   \n",
              "\n",
              "                                                text  useful  \\\n",
              "0  BEWARE!!! FAKE, FAKE, FAKE....We also own a sm...      10   \n",
              "1  Came here for lunch Togo. Service was quick. S...       0   \n",
              "2  I've been to Vegas dozens of times and had nev...       2   \n",
              "3  We went here on a night where they closed off ...       5   \n",
              "4  3.5 to 4 stars\\n\\nNot bad for the price, $12.9...       5   \n",
              "\n",
              "                  user_id  \n",
              "0  n1LM36qNg4rqGXIcvVXv8w  \n",
              "1  5CgjjDAic2-FAvCtiHpytA  \n",
              "2  BdV-cf3LScmb8kZ7iiBcMA  \n",
              "3  cZZnBqh4gAEy4CdNvJailQ  \n",
              "4  n9QO4ClYAS7h9fpQwa5bhA  "
            ],
            "text/html": [
              "\n",
              "  <div id=\"df-e33558d4-c735-4e9a-8613-815df2773a23\" class=\"colab-df-container\">\n",
              "    <div>\n",
              "<style scoped>\n",
              "    .dataframe tbody tr th:only-of-type {\n",
              "        vertical-align: middle;\n",
              "    }\n",
              "\n",
              "    .dataframe tbody tr th {\n",
              "        vertical-align: top;\n",
              "    }\n",
              "\n",
              "    .dataframe thead th {\n",
              "        text-align: right;\n",
              "    }\n",
              "</style>\n",
              "<table border=\"1\" class=\"dataframe\">\n",
              "  <thead>\n",
              "    <tr style=\"text-align: right;\">\n",
              "      <th></th>\n",
              "      <th>business_id</th>\n",
              "      <th>cool</th>\n",
              "      <th>date</th>\n",
              "      <th>funny</th>\n",
              "      <th>review_id</th>\n",
              "      <th>stars</th>\n",
              "      <th>text</th>\n",
              "      <th>useful</th>\n",
              "      <th>user_id</th>\n",
              "    </tr>\n",
              "  </thead>\n",
              "  <tbody>\n",
              "    <tr>\n",
              "      <th>0</th>\n",
              "      <td>nDuEqIyRc8YKS1q1fX0CZg</td>\n",
              "      <td>1</td>\n",
              "      <td>2015-03-31 16:50:30</td>\n",
              "      <td>0</td>\n",
              "      <td>eZs2tpEJtXPwawvHnHZIgQ</td>\n",
              "      <td>1</td>\n",
              "      <td>BEWARE!!! FAKE, FAKE, FAKE....We also own a sm...</td>\n",
              "      <td>10</td>\n",
              "      <td>n1LM36qNg4rqGXIcvVXv8w</td>\n",
              "    </tr>\n",
              "    <tr>\n",
              "      <th>1</th>\n",
              "      <td>eMYeEapscbKNqUDCx705hg</td>\n",
              "      <td>0</td>\n",
              "      <td>2015-12-16 05:31:03</td>\n",
              "      <td>0</td>\n",
              "      <td>DoQDWJsNbU0KL1O29l_Xug</td>\n",
              "      <td>4</td>\n",
              "      <td>Came here for lunch Togo. Service was quick. S...</td>\n",
              "      <td>0</td>\n",
              "      <td>5CgjjDAic2-FAvCtiHpytA</td>\n",
              "    </tr>\n",
              "    <tr>\n",
              "      <th>2</th>\n",
              "      <td>6Q7-wkCPc1KF75jZLOTcMw</td>\n",
              "      <td>1</td>\n",
              "      <td>2010-06-20 19:14:48</td>\n",
              "      <td>1</td>\n",
              "      <td>DDOdGU7zh56yQHmUnL1idQ</td>\n",
              "      <td>3</td>\n",
              "      <td>I've been to Vegas dozens of times and had nev...</td>\n",
              "      <td>2</td>\n",
              "      <td>BdV-cf3LScmb8kZ7iiBcMA</td>\n",
              "    </tr>\n",
              "    <tr>\n",
              "      <th>3</th>\n",
              "      <td>k3zrItO4l9hwfLRwHBDc9w</td>\n",
              "      <td>3</td>\n",
              "      <td>2010-07-13 00:33:45</td>\n",
              "      <td>4</td>\n",
              "      <td>LfTMUWnfGFMOfOIyJcwLVA</td>\n",
              "      <td>1</td>\n",
              "      <td>We went here on a night where they closed off ...</td>\n",
              "      <td>5</td>\n",
              "      <td>cZZnBqh4gAEy4CdNvJailQ</td>\n",
              "    </tr>\n",
              "    <tr>\n",
              "      <th>4</th>\n",
              "      <td>6hpfRwGlOzbNv7k5eP9rsQ</td>\n",
              "      <td>1</td>\n",
              "      <td>2018-06-30 02:30:01</td>\n",
              "      <td>0</td>\n",
              "      <td>zJSUdI7bJ8PNJAg4lnl_Gg</td>\n",
              "      <td>4</td>\n",
              "      <td>3.5 to 4 stars\\n\\nNot bad for the price, $12.9...</td>\n",
              "      <td>5</td>\n",
              "      <td>n9QO4ClYAS7h9fpQwa5bhA</td>\n",
              "    </tr>\n",
              "  </tbody>\n",
              "</table>\n",
              "</div>\n",
              "    <div class=\"colab-df-buttons\">\n",
              "\n",
              "  <div class=\"colab-df-container\">\n",
              "    <button class=\"colab-df-convert\" onclick=\"convertToInteractive('df-e33558d4-c735-4e9a-8613-815df2773a23')\"\n",
              "            title=\"Convert this dataframe to an interactive table.\"\n",
              "            style=\"display:none;\">\n",
              "\n",
              "  <svg xmlns=\"http://www.w3.org/2000/svg\" height=\"24px\" viewBox=\"0 -960 960 960\">\n",
              "    <path d=\"M120-120v-720h720v720H120Zm60-500h600v-160H180v160Zm220 220h160v-160H400v160Zm0 220h160v-160H400v160ZM180-400h160v-160H180v160Zm440 0h160v-160H620v160ZM180-180h160v-160H180v160Zm440 0h160v-160H620v160Z\"/>\n",
              "  </svg>\n",
              "    </button>\n",
              "\n",
              "  <style>\n",
              "    .colab-df-container {\n",
              "      display:flex;\n",
              "      gap: 12px;\n",
              "    }\n",
              "\n",
              "    .colab-df-convert {\n",
              "      background-color: #E8F0FE;\n",
              "      border: none;\n",
              "      border-radius: 50%;\n",
              "      cursor: pointer;\n",
              "      display: none;\n",
              "      fill: #1967D2;\n",
              "      height: 32px;\n",
              "      padding: 0 0 0 0;\n",
              "      width: 32px;\n",
              "    }\n",
              "\n",
              "    .colab-df-convert:hover {\n",
              "      background-color: #E2EBFA;\n",
              "      box-shadow: 0px 1px 2px rgba(60, 64, 67, 0.3), 0px 1px 3px 1px rgba(60, 64, 67, 0.15);\n",
              "      fill: #174EA6;\n",
              "    }\n",
              "\n",
              "    .colab-df-buttons div {\n",
              "      margin-bottom: 4px;\n",
              "    }\n",
              "\n",
              "    [theme=dark] .colab-df-convert {\n",
              "      background-color: #3B4455;\n",
              "      fill: #D2E3FC;\n",
              "    }\n",
              "\n",
              "    [theme=dark] .colab-df-convert:hover {\n",
              "      background-color: #434B5C;\n",
              "      box-shadow: 0px 1px 3px 1px rgba(0, 0, 0, 0.15);\n",
              "      filter: drop-shadow(0px 1px 2px rgba(0, 0, 0, 0.3));\n",
              "      fill: #FFFFFF;\n",
              "    }\n",
              "  </style>\n",
              "\n",
              "    <script>\n",
              "      const buttonEl =\n",
              "        document.querySelector('#df-e33558d4-c735-4e9a-8613-815df2773a23 button.colab-df-convert');\n",
              "      buttonEl.style.display =\n",
              "        google.colab.kernel.accessAllowed ? 'block' : 'none';\n",
              "\n",
              "      async function convertToInteractive(key) {\n",
              "        const element = document.querySelector('#df-e33558d4-c735-4e9a-8613-815df2773a23');\n",
              "        const dataTable =\n",
              "          await google.colab.kernel.invokeFunction('convertToInteractive',\n",
              "                                                    [key], {});\n",
              "        if (!dataTable) return;\n",
              "\n",
              "        const docLinkHtml = 'Like what you see? Visit the ' +\n",
              "          '<a target=\"_blank\" href=https://colab.research.google.com/notebooks/data_table.ipynb>data table notebook</a>'\n",
              "          + ' to learn more about interactive tables.';\n",
              "        element.innerHTML = '';\n",
              "        dataTable['output_type'] = 'display_data';\n",
              "        await google.colab.output.renderOutput(dataTable, element);\n",
              "        const docLink = document.createElement('div');\n",
              "        docLink.innerHTML = docLinkHtml;\n",
              "        element.appendChild(docLink);\n",
              "      }\n",
              "    </script>\n",
              "  </div>\n",
              "\n",
              "\n",
              "<div id=\"df-02de9079-fa42-40bc-86e5-797b1bc71026\">\n",
              "  <button class=\"colab-df-quickchart\" onclick=\"quickchart('df-02de9079-fa42-40bc-86e5-797b1bc71026')\"\n",
              "            title=\"Suggest charts\"\n",
              "            style=\"display:none;\">\n",
              "\n",
              "<svg xmlns=\"http://www.w3.org/2000/svg\" height=\"24px\"viewBox=\"0 0 24 24\"\n",
              "     width=\"24px\">\n",
              "    <g>\n",
              "        <path d=\"M19 3H5c-1.1 0-2 .9-2 2v14c0 1.1.9 2 2 2h14c1.1 0 2-.9 2-2V5c0-1.1-.9-2-2-2zM9 17H7v-7h2v7zm4 0h-2V7h2v10zm4 0h-2v-4h2v4z\"/>\n",
              "    </g>\n",
              "</svg>\n",
              "  </button>\n",
              "\n",
              "<style>\n",
              "  .colab-df-quickchart {\n",
              "      --bg-color: #E8F0FE;\n",
              "      --fill-color: #1967D2;\n",
              "      --hover-bg-color: #E2EBFA;\n",
              "      --hover-fill-color: #174EA6;\n",
              "      --disabled-fill-color: #AAA;\n",
              "      --disabled-bg-color: #DDD;\n",
              "  }\n",
              "\n",
              "  [theme=dark] .colab-df-quickchart {\n",
              "      --bg-color: #3B4455;\n",
              "      --fill-color: #D2E3FC;\n",
              "      --hover-bg-color: #434B5C;\n",
              "      --hover-fill-color: #FFFFFF;\n",
              "      --disabled-bg-color: #3B4455;\n",
              "      --disabled-fill-color: #666;\n",
              "  }\n",
              "\n",
              "  .colab-df-quickchart {\n",
              "    background-color: var(--bg-color);\n",
              "    border: none;\n",
              "    border-radius: 50%;\n",
              "    cursor: pointer;\n",
              "    display: none;\n",
              "    fill: var(--fill-color);\n",
              "    height: 32px;\n",
              "    padding: 0;\n",
              "    width: 32px;\n",
              "  }\n",
              "\n",
              "  .colab-df-quickchart:hover {\n",
              "    background-color: var(--hover-bg-color);\n",
              "    box-shadow: 0 1px 2px rgba(60, 64, 67, 0.3), 0 1px 3px 1px rgba(60, 64, 67, 0.15);\n",
              "    fill: var(--button-hover-fill-color);\n",
              "  }\n",
              "\n",
              "  .colab-df-quickchart-complete:disabled,\n",
              "  .colab-df-quickchart-complete:disabled:hover {\n",
              "    background-color: var(--disabled-bg-color);\n",
              "    fill: var(--disabled-fill-color);\n",
              "    box-shadow: none;\n",
              "  }\n",
              "\n",
              "  .colab-df-spinner {\n",
              "    border: 2px solid var(--fill-color);\n",
              "    border-color: transparent;\n",
              "    border-bottom-color: var(--fill-color);\n",
              "    animation:\n",
              "      spin 1s steps(1) infinite;\n",
              "  }\n",
              "\n",
              "  @keyframes spin {\n",
              "    0% {\n",
              "      border-color: transparent;\n",
              "      border-bottom-color: var(--fill-color);\n",
              "      border-left-color: var(--fill-color);\n",
              "    }\n",
              "    20% {\n",
              "      border-color: transparent;\n",
              "      border-left-color: var(--fill-color);\n",
              "      border-top-color: var(--fill-color);\n",
              "    }\n",
              "    30% {\n",
              "      border-color: transparent;\n",
              "      border-left-color: var(--fill-color);\n",
              "      border-top-color: var(--fill-color);\n",
              "      border-right-color: var(--fill-color);\n",
              "    }\n",
              "    40% {\n",
              "      border-color: transparent;\n",
              "      border-right-color: var(--fill-color);\n",
              "      border-top-color: var(--fill-color);\n",
              "    }\n",
              "    60% {\n",
              "      border-color: transparent;\n",
              "      border-right-color: var(--fill-color);\n",
              "    }\n",
              "    80% {\n",
              "      border-color: transparent;\n",
              "      border-right-color: var(--fill-color);\n",
              "      border-bottom-color: var(--fill-color);\n",
              "    }\n",
              "    90% {\n",
              "      border-color: transparent;\n",
              "      border-bottom-color: var(--fill-color);\n",
              "    }\n",
              "  }\n",
              "</style>\n",
              "\n",
              "  <script>\n",
              "    async function quickchart(key) {\n",
              "      const quickchartButtonEl =\n",
              "        document.querySelector('#' + key + ' button');\n",
              "      quickchartButtonEl.disabled = true;  // To prevent multiple clicks.\n",
              "      quickchartButtonEl.classList.add('colab-df-spinner');\n",
              "      try {\n",
              "        const charts = await google.colab.kernel.invokeFunction(\n",
              "            'suggestCharts', [key], {});\n",
              "      } catch (error) {\n",
              "        console.error('Error during call to suggestCharts:', error);\n",
              "      }\n",
              "      quickchartButtonEl.classList.remove('colab-df-spinner');\n",
              "      quickchartButtonEl.classList.add('colab-df-quickchart-complete');\n",
              "    }\n",
              "    (() => {\n",
              "      let quickchartButtonEl =\n",
              "        document.querySelector('#df-02de9079-fa42-40bc-86e5-797b1bc71026 button');\n",
              "      quickchartButtonEl.style.display =\n",
              "        google.colab.kernel.accessAllowed ? 'block' : 'none';\n",
              "    })();\n",
              "  </script>\n",
              "</div>\n",
              "\n",
              "    </div>\n",
              "  </div>\n"
            ],
            "application/vnd.google.colaboratory.intrinsic+json": {
              "type": "dataframe",
              "variable_name": "df",
              "summary": "{\n  \"name\": \"df\",\n  \"rows\": 10000,\n  \"fields\": [\n    {\n      \"column\": \"business_id\",\n      \"properties\": {\n        \"dtype\": \"string\",\n        \"num_unique_values\": 8297,\n        \"samples\": [\n          \"wIxYAU2jaT6Y9b_Inc5MXA\",\n          \"ILZfAtetYvpp0r0Xs8SoHQ\",\n          \"D6ffAaTr_m5lsKxHNp9fwg\"\n        ],\n        \"semantic_type\": \"\",\n        \"description\": \"\"\n      }\n    },\n    {\n      \"column\": \"cool\",\n      \"properties\": {\n        \"dtype\": \"number\",\n        \"std\": 2,\n        \"min\": 0,\n        \"max\": 61,\n        \"num_unique_values\": 35,\n        \"samples\": [\n          18,\n          7,\n          54\n        ],\n        \"semantic_type\": \"\",\n        \"description\": \"\"\n      }\n    },\n    {\n      \"column\": \"date\",\n      \"properties\": {\n        \"dtype\": \"date\",\n        \"min\": \"2005-07-31 03:15:21\",\n        \"max\": \"2018-11-14 17:22:35\",\n        \"num_unique_values\": 10000,\n        \"samples\": [\n          \"2015-07-15 02:41:12\",\n          \"2012-05-05 22:23:44\",\n          \"2010-10-01 22:04:55\"\n        ],\n        \"semantic_type\": \"\",\n        \"description\": \"\"\n      }\n    },\n    {\n      \"column\": \"funny\",\n      \"properties\": {\n        \"dtype\": \"number\",\n        \"std\": 1,\n        \"min\": 0,\n        \"max\": 79,\n        \"num_unique_values\": 32,\n        \"samples\": [\n          37,\n          15,\n          31\n        ],\n        \"semantic_type\": \"\",\n        \"description\": \"\"\n      }\n    },\n    {\n      \"column\": \"review_id\",\n      \"properties\": {\n        \"dtype\": \"string\",\n        \"num_unique_values\": 10000,\n        \"samples\": [\n          \"pcpmloUy9OSbQCxG-NIXKA\",\n          \"-Gb3R1WOoa_fPpsQ91rLCg\",\n          \"uBlyX9pkMmp9evijZtuQ6g\"\n        ],\n        \"semantic_type\": \"\",\n        \"description\": \"\"\n      }\n    },\n    {\n      \"column\": \"stars\",\n      \"properties\": {\n        \"dtype\": \"number\",\n        \"std\": 1,\n        \"min\": 1,\n        \"max\": 5,\n        \"num_unique_values\": 5,\n        \"samples\": [\n          4,\n          2,\n          3\n        ],\n        \"semantic_type\": \"\",\n        \"description\": \"\"\n      }\n    },\n    {\n      \"column\": \"text\",\n      \"properties\": {\n        \"dtype\": \"string\",\n        \"num_unique_values\": 10000,\n        \"samples\": [\n          \"We ordered 1/4 chicken leg and thigh take out, but it's totally burnt out. If you really want to eat here,  don't take out.\",\n          \"nice hike...keeps going up and up and up ...and up and up!\\n\\ntrails are easy to follow and nice views at the top.  cacti blossom with flowers too.\\n\\neveryone was so very nice! i sprained my ankle on my way down..and ooo i was sooo close to the bottom.  tried to be a champ and slowly limp down, but everyone who passed me offered to help.\\n\\na bit embarrassed but good memories with this mountain!\",\n          \"I have nothing against trainee teachers.. but really in order to really evaluated a studio fairly, one needs to go to a regular class lead by an experience teacher.\\n\\nPeter is quite different than the other moksha teacher I have been to since he emphasis a lot on breathing. He was walking around the room a lot and check if we are still breathing with our Ujjai \\\"Ocean\\\" breath.\\n\\nHe also go around to help with adjustment and if he is standing near you that means he is talking to you! or is he? Since most Moksha postures are quite simple so vocal instructions are given instead of real demonstrations. For newbies, you do need to peek at others.\\n\\nThe room was not too hot this time because it is not crowded... all the spaces... and you can really check yourself out in the mirror.. (Do I look Zen??)\\n\\nIt is a great Passport to Prana experience this time round!\"\n        ],\n        \"semantic_type\": \"\",\n        \"description\": \"\"\n      }\n    },\n    {\n      \"column\": \"useful\",\n      \"properties\": {\n        \"dtype\": \"number\",\n        \"std\": 3,\n        \"min\": 0,\n        \"max\": 62,\n        \"num_unique_values\": 46,\n        \"samples\": [\n          38,\n          32,\n          27\n        ],\n        \"semantic_type\": \"\",\n        \"description\": \"\"\n      }\n    },\n    {\n      \"column\": \"user_id\",\n      \"properties\": {\n        \"dtype\": \"string\",\n        \"num_unique_values\": 9667,\n        \"samples\": [\n          \"5b59DMCxPWn-c2b6q50P7w\",\n          \"ctDWPowbrCkgcK1gTLDDdw\",\n          \"2ti91j2F-kx2BmAo3eGbcg\"\n        ],\n        \"semantic_type\": \"\",\n        \"description\": \"\"\n      }\n    }\n  ]\n}"
            }
          },
          "metadata": {},
          "execution_count": 7
        }
      ],
      "source": [
        "df.head()"
      ]
    },
    {
      "cell_type": "markdown",
      "metadata": {
        "id": "ZvXV2NPYQSFd"
      },
      "source": [
        "## Part 1: Tokenize Function\n",
        "<a id=\"#p1\"></a>\n",
        "\n",
        "Complete the function `tokenize`. Your function should\n",
        "- Accept one document at a time\n",
        "- Return a list of tokens\n",
        "\n",
        "You are free to use any method you have learned this week.\n",
        "\n",
        "**TO PASS CODEGRADE RUNTIME:**\n",
        "- Do not run your tokenize function more than one time in your notebook! It is not needed until Part 4!"
      ]
    },
    {
      "cell_type": "code",
      "execution_count": null,
      "metadata": {
        "colab": {
          "base_uri": "https://localhost:8080/"
        },
        "id": "Tu2YxlXcQSFd",
        "outputId": "9e4a725b-510d-4603-f9ee-22768f2f9094"
      },
      "outputs": [
        {
          "output_type": "stream",
          "name": "stderr",
          "text": [
            "/usr/local/lib/python3.10/dist-packages/ipykernel/ipkernel.py:283: DeprecationWarning: `should_run_async` will not call `transform_cell` automatically in the future. Please pass the result to `transformed_cell` argument and any exception that happen during thetransform in `preprocessing_exc_tuple` in IPython 7.17 and above.\n",
            "  and should_run_async(code)\n"
          ]
        }
      ],
      "source": [
        "# Optional: Consider using spaCy in your function. The spaCy library can be imported by running this cell.\n",
        "# A pre-trained model (en_core_web_sm) has been made available to you in the CodeGrade container.\n",
        "# If you DON'T need use the en_core_web_sm model, you can comment it out below.\n",
        "\n",
        "nlp = spacy.load('en_core_web_sm')"
      ]
    },
    {
      "cell_type": "code",
      "execution_count": null,
      "metadata": {
        "colab": {
          "base_uri": "https://localhost:8080/"
        },
        "id": "mzmFFHdhQSFd",
        "outputId": "318fbb8b-b1a0-46b8-bd16-8f8424047f42"
      },
      "outputs": [
        {
          "output_type": "stream",
          "name": "stderr",
          "text": [
            "/usr/local/lib/python3.10/dist-packages/ipykernel/ipkernel.py:283: DeprecationWarning: `should_run_async` will not call `transform_cell` automatically in the future. Please pass the result to `transformed_cell` argument and any exception that happen during thetransform in `preprocessing_exc_tuple` in IPython 7.17 and above.\n",
            "  and should_run_async(code)\n"
          ]
        }
      ],
      "source": [
        "def tokenize(doc):\n",
        "  doc = nlp(doc)\n",
        "  tokens = []\n",
        "\n",
        "  for token in doc:\n",
        "    if (token.is_punct == False) and (token.is_stop == False) and (token.is_space == False):\n",
        "      tokens.append(token.lemma_)\n",
        "\n",
        "\n",
        "\n",
        "  return [token.lower() for token in tokens]"
      ]
    },
    {
      "cell_type": "code",
      "execution_count": null,
      "metadata": {
        "colab": {
          "base_uri": "https://localhost:8080/"
        },
        "id": "1QCQ5hZ8QSFd",
        "outputId": "5e96b848-5a65-42d4-cfc5-63b7df0dbf71"
      },
      "outputs": [
        {
          "output_type": "stream",
          "name": "stderr",
          "text": [
            "/usr/local/lib/python3.10/dist-packages/ipykernel/ipkernel.py:283: DeprecationWarning: `should_run_async` will not call `transform_cell` automatically in the future. Please pass the result to `transformed_cell` argument and any exception that happen during thetransform in `preprocessing_exc_tuple` in IPython 7.17 and above.\n",
            "  and should_run_async(code)\n"
          ]
        }
      ],
      "source": [
        "'''Testing'''\n",
        "assert isinstance(tokenize(df.sample(n=1)[\"text\"].iloc[0]), list), \"Make sure your tokenizer function accepts a single document and returns a list of tokens!\""
      ]
    },
    {
      "cell_type": "markdown",
      "metadata": {
        "id": "Ve7_V6xBQSFe"
      },
      "source": [
        "## Part 2: Vector Representation\n",
        "<a id=\"#p2\"></a>\n",
        "1. Create a vector representation of the reviews (i.e. create a doc-term matrix).\n",
        "    * Name that doc-term matrix `dtm`"
      ]
    },
    {
      "cell_type": "code",
      "execution_count": null,
      "metadata": {
        "colab": {
          "base_uri": "https://localhost:8080/",
          "height": 262
        },
        "id": "GonqJiKompz2",
        "outputId": "ce41a47d-d403-478e-abea-7eecc2f4d871"
      },
      "outputs": [
        {
          "output_type": "stream",
          "name": "stderr",
          "text": [
            "/usr/local/lib/python3.10/dist-packages/ipykernel/ipkernel.py:283: DeprecationWarning: `should_run_async` will not call `transform_cell` automatically in the future. Please pass the result to `transformed_cell` argument and any exception that happen during thetransform in `preprocessing_exc_tuple` in IPython 7.17 and above.\n",
            "  and should_run_async(code)\n"
          ]
        },
        {
          "output_type": "execute_result",
          "data": {
            "text/plain": [
              "              business_id  cool                date  funny  \\\n",
              "0  nDuEqIyRc8YKS1q1fX0CZg     1 2015-03-31 16:50:30      0   \n",
              "1  eMYeEapscbKNqUDCx705hg     0 2015-12-16 05:31:03      0   \n",
              "2  6Q7-wkCPc1KF75jZLOTcMw     1 2010-06-20 19:14:48      1   \n",
              "3  k3zrItO4l9hwfLRwHBDc9w     3 2010-07-13 00:33:45      4   \n",
              "4  6hpfRwGlOzbNv7k5eP9rsQ     1 2018-06-30 02:30:01      0   \n",
              "\n",
              "                review_id  stars  \\\n",
              "0  eZs2tpEJtXPwawvHnHZIgQ      1   \n",
              "1  DoQDWJsNbU0KL1O29l_Xug      4   \n",
              "2  DDOdGU7zh56yQHmUnL1idQ      3   \n",
              "3  LfTMUWnfGFMOfOIyJcwLVA      1   \n",
              "4  zJSUdI7bJ8PNJAg4lnl_Gg      4   \n",
              "\n",
              "                                                text  useful  \\\n",
              "0  BEWARE!!! FAKE, FAKE, FAKE....We also own a sm...      10   \n",
              "1  Came here for lunch Togo. Service was quick. S...       0   \n",
              "2  I've been to Vegas dozens of times and had nev...       2   \n",
              "3  We went here on a night where they closed off ...       5   \n",
              "4  3.5 to 4 stars\\n\\nNot bad for the price, $12.9...       5   \n",
              "\n",
              "                  user_id  \n",
              "0  n1LM36qNg4rqGXIcvVXv8w  \n",
              "1  5CgjjDAic2-FAvCtiHpytA  \n",
              "2  BdV-cf3LScmb8kZ7iiBcMA  \n",
              "3  cZZnBqh4gAEy4CdNvJailQ  \n",
              "4  n9QO4ClYAS7h9fpQwa5bhA  "
            ],
            "text/html": [
              "\n",
              "  <div id=\"df-44e05c95-f3ab-468b-95b3-45a001aa9337\" class=\"colab-df-container\">\n",
              "    <div>\n",
              "<style scoped>\n",
              "    .dataframe tbody tr th:only-of-type {\n",
              "        vertical-align: middle;\n",
              "    }\n",
              "\n",
              "    .dataframe tbody tr th {\n",
              "        vertical-align: top;\n",
              "    }\n",
              "\n",
              "    .dataframe thead th {\n",
              "        text-align: right;\n",
              "    }\n",
              "</style>\n",
              "<table border=\"1\" class=\"dataframe\">\n",
              "  <thead>\n",
              "    <tr style=\"text-align: right;\">\n",
              "      <th></th>\n",
              "      <th>business_id</th>\n",
              "      <th>cool</th>\n",
              "      <th>date</th>\n",
              "      <th>funny</th>\n",
              "      <th>review_id</th>\n",
              "      <th>stars</th>\n",
              "      <th>text</th>\n",
              "      <th>useful</th>\n",
              "      <th>user_id</th>\n",
              "    </tr>\n",
              "  </thead>\n",
              "  <tbody>\n",
              "    <tr>\n",
              "      <th>0</th>\n",
              "      <td>nDuEqIyRc8YKS1q1fX0CZg</td>\n",
              "      <td>1</td>\n",
              "      <td>2015-03-31 16:50:30</td>\n",
              "      <td>0</td>\n",
              "      <td>eZs2tpEJtXPwawvHnHZIgQ</td>\n",
              "      <td>1</td>\n",
              "      <td>BEWARE!!! FAKE, FAKE, FAKE....We also own a sm...</td>\n",
              "      <td>10</td>\n",
              "      <td>n1LM36qNg4rqGXIcvVXv8w</td>\n",
              "    </tr>\n",
              "    <tr>\n",
              "      <th>1</th>\n",
              "      <td>eMYeEapscbKNqUDCx705hg</td>\n",
              "      <td>0</td>\n",
              "      <td>2015-12-16 05:31:03</td>\n",
              "      <td>0</td>\n",
              "      <td>DoQDWJsNbU0KL1O29l_Xug</td>\n",
              "      <td>4</td>\n",
              "      <td>Came here for lunch Togo. Service was quick. S...</td>\n",
              "      <td>0</td>\n",
              "      <td>5CgjjDAic2-FAvCtiHpytA</td>\n",
              "    </tr>\n",
              "    <tr>\n",
              "      <th>2</th>\n",
              "      <td>6Q7-wkCPc1KF75jZLOTcMw</td>\n",
              "      <td>1</td>\n",
              "      <td>2010-06-20 19:14:48</td>\n",
              "      <td>1</td>\n",
              "      <td>DDOdGU7zh56yQHmUnL1idQ</td>\n",
              "      <td>3</td>\n",
              "      <td>I've been to Vegas dozens of times and had nev...</td>\n",
              "      <td>2</td>\n",
              "      <td>BdV-cf3LScmb8kZ7iiBcMA</td>\n",
              "    </tr>\n",
              "    <tr>\n",
              "      <th>3</th>\n",
              "      <td>k3zrItO4l9hwfLRwHBDc9w</td>\n",
              "      <td>3</td>\n",
              "      <td>2010-07-13 00:33:45</td>\n",
              "      <td>4</td>\n",
              "      <td>LfTMUWnfGFMOfOIyJcwLVA</td>\n",
              "      <td>1</td>\n",
              "      <td>We went here on a night where they closed off ...</td>\n",
              "      <td>5</td>\n",
              "      <td>cZZnBqh4gAEy4CdNvJailQ</td>\n",
              "    </tr>\n",
              "    <tr>\n",
              "      <th>4</th>\n",
              "      <td>6hpfRwGlOzbNv7k5eP9rsQ</td>\n",
              "      <td>1</td>\n",
              "      <td>2018-06-30 02:30:01</td>\n",
              "      <td>0</td>\n",
              "      <td>zJSUdI7bJ8PNJAg4lnl_Gg</td>\n",
              "      <td>4</td>\n",
              "      <td>3.5 to 4 stars\\n\\nNot bad for the price, $12.9...</td>\n",
              "      <td>5</td>\n",
              "      <td>n9QO4ClYAS7h9fpQwa5bhA</td>\n",
              "    </tr>\n",
              "  </tbody>\n",
              "</table>\n",
              "</div>\n",
              "    <div class=\"colab-df-buttons\">\n",
              "\n",
              "  <div class=\"colab-df-container\">\n",
              "    <button class=\"colab-df-convert\" onclick=\"convertToInteractive('df-44e05c95-f3ab-468b-95b3-45a001aa9337')\"\n",
              "            title=\"Convert this dataframe to an interactive table.\"\n",
              "            style=\"display:none;\">\n",
              "\n",
              "  <svg xmlns=\"http://www.w3.org/2000/svg\" height=\"24px\" viewBox=\"0 -960 960 960\">\n",
              "    <path d=\"M120-120v-720h720v720H120Zm60-500h600v-160H180v160Zm220 220h160v-160H400v160Zm0 220h160v-160H400v160ZM180-400h160v-160H180v160Zm440 0h160v-160H620v160ZM180-180h160v-160H180v160Zm440 0h160v-160H620v160Z\"/>\n",
              "  </svg>\n",
              "    </button>\n",
              "\n",
              "  <style>\n",
              "    .colab-df-container {\n",
              "      display:flex;\n",
              "      gap: 12px;\n",
              "    }\n",
              "\n",
              "    .colab-df-convert {\n",
              "      background-color: #E8F0FE;\n",
              "      border: none;\n",
              "      border-radius: 50%;\n",
              "      cursor: pointer;\n",
              "      display: none;\n",
              "      fill: #1967D2;\n",
              "      height: 32px;\n",
              "      padding: 0 0 0 0;\n",
              "      width: 32px;\n",
              "    }\n",
              "\n",
              "    .colab-df-convert:hover {\n",
              "      background-color: #E2EBFA;\n",
              "      box-shadow: 0px 1px 2px rgba(60, 64, 67, 0.3), 0px 1px 3px 1px rgba(60, 64, 67, 0.15);\n",
              "      fill: #174EA6;\n",
              "    }\n",
              "\n",
              "    .colab-df-buttons div {\n",
              "      margin-bottom: 4px;\n",
              "    }\n",
              "\n",
              "    [theme=dark] .colab-df-convert {\n",
              "      background-color: #3B4455;\n",
              "      fill: #D2E3FC;\n",
              "    }\n",
              "\n",
              "    [theme=dark] .colab-df-convert:hover {\n",
              "      background-color: #434B5C;\n",
              "      box-shadow: 0px 1px 3px 1px rgba(0, 0, 0, 0.15);\n",
              "      filter: drop-shadow(0px 1px 2px rgba(0, 0, 0, 0.3));\n",
              "      fill: #FFFFFF;\n",
              "    }\n",
              "  </style>\n",
              "\n",
              "    <script>\n",
              "      const buttonEl =\n",
              "        document.querySelector('#df-44e05c95-f3ab-468b-95b3-45a001aa9337 button.colab-df-convert');\n",
              "      buttonEl.style.display =\n",
              "        google.colab.kernel.accessAllowed ? 'block' : 'none';\n",
              "\n",
              "      async function convertToInteractive(key) {\n",
              "        const element = document.querySelector('#df-44e05c95-f3ab-468b-95b3-45a001aa9337');\n",
              "        const dataTable =\n",
              "          await google.colab.kernel.invokeFunction('convertToInteractive',\n",
              "                                                    [key], {});\n",
              "        if (!dataTable) return;\n",
              "\n",
              "        const docLinkHtml = 'Like what you see? Visit the ' +\n",
              "          '<a target=\"_blank\" href=https://colab.research.google.com/notebooks/data_table.ipynb>data table notebook</a>'\n",
              "          + ' to learn more about interactive tables.';\n",
              "        element.innerHTML = '';\n",
              "        dataTable['output_type'] = 'display_data';\n",
              "        await google.colab.output.renderOutput(dataTable, element);\n",
              "        const docLink = document.createElement('div');\n",
              "        docLink.innerHTML = docLinkHtml;\n",
              "        element.appendChild(docLink);\n",
              "      }\n",
              "    </script>\n",
              "  </div>\n",
              "\n",
              "\n",
              "<div id=\"df-c4d9207e-078e-486b-93be-4bf61b673a13\">\n",
              "  <button class=\"colab-df-quickchart\" onclick=\"quickchart('df-c4d9207e-078e-486b-93be-4bf61b673a13')\"\n",
              "            title=\"Suggest charts\"\n",
              "            style=\"display:none;\">\n",
              "\n",
              "<svg xmlns=\"http://www.w3.org/2000/svg\" height=\"24px\"viewBox=\"0 0 24 24\"\n",
              "     width=\"24px\">\n",
              "    <g>\n",
              "        <path d=\"M19 3H5c-1.1 0-2 .9-2 2v14c0 1.1.9 2 2 2h14c1.1 0 2-.9 2-2V5c0-1.1-.9-2-2-2zM9 17H7v-7h2v7zm4 0h-2V7h2v10zm4 0h-2v-4h2v4z\"/>\n",
              "    </g>\n",
              "</svg>\n",
              "  </button>\n",
              "\n",
              "<style>\n",
              "  .colab-df-quickchart {\n",
              "      --bg-color: #E8F0FE;\n",
              "      --fill-color: #1967D2;\n",
              "      --hover-bg-color: #E2EBFA;\n",
              "      --hover-fill-color: #174EA6;\n",
              "      --disabled-fill-color: #AAA;\n",
              "      --disabled-bg-color: #DDD;\n",
              "  }\n",
              "\n",
              "  [theme=dark] .colab-df-quickchart {\n",
              "      --bg-color: #3B4455;\n",
              "      --fill-color: #D2E3FC;\n",
              "      --hover-bg-color: #434B5C;\n",
              "      --hover-fill-color: #FFFFFF;\n",
              "      --disabled-bg-color: #3B4455;\n",
              "      --disabled-fill-color: #666;\n",
              "  }\n",
              "\n",
              "  .colab-df-quickchart {\n",
              "    background-color: var(--bg-color);\n",
              "    border: none;\n",
              "    border-radius: 50%;\n",
              "    cursor: pointer;\n",
              "    display: none;\n",
              "    fill: var(--fill-color);\n",
              "    height: 32px;\n",
              "    padding: 0;\n",
              "    width: 32px;\n",
              "  }\n",
              "\n",
              "  .colab-df-quickchart:hover {\n",
              "    background-color: var(--hover-bg-color);\n",
              "    box-shadow: 0 1px 2px rgba(60, 64, 67, 0.3), 0 1px 3px 1px rgba(60, 64, 67, 0.15);\n",
              "    fill: var(--button-hover-fill-color);\n",
              "  }\n",
              "\n",
              "  .colab-df-quickchart-complete:disabled,\n",
              "  .colab-df-quickchart-complete:disabled:hover {\n",
              "    background-color: var(--disabled-bg-color);\n",
              "    fill: var(--disabled-fill-color);\n",
              "    box-shadow: none;\n",
              "  }\n",
              "\n",
              "  .colab-df-spinner {\n",
              "    border: 2px solid var(--fill-color);\n",
              "    border-color: transparent;\n",
              "    border-bottom-color: var(--fill-color);\n",
              "    animation:\n",
              "      spin 1s steps(1) infinite;\n",
              "  }\n",
              "\n",
              "  @keyframes spin {\n",
              "    0% {\n",
              "      border-color: transparent;\n",
              "      border-bottom-color: var(--fill-color);\n",
              "      border-left-color: var(--fill-color);\n",
              "    }\n",
              "    20% {\n",
              "      border-color: transparent;\n",
              "      border-left-color: var(--fill-color);\n",
              "      border-top-color: var(--fill-color);\n",
              "    }\n",
              "    30% {\n",
              "      border-color: transparent;\n",
              "      border-left-color: var(--fill-color);\n",
              "      border-top-color: var(--fill-color);\n",
              "      border-right-color: var(--fill-color);\n",
              "    }\n",
              "    40% {\n",
              "      border-color: transparent;\n",
              "      border-right-color: var(--fill-color);\n",
              "      border-top-color: var(--fill-color);\n",
              "    }\n",
              "    60% {\n",
              "      border-color: transparent;\n",
              "      border-right-color: var(--fill-color);\n",
              "    }\n",
              "    80% {\n",
              "      border-color: transparent;\n",
              "      border-right-color: var(--fill-color);\n",
              "      border-bottom-color: var(--fill-color);\n",
              "    }\n",
              "    90% {\n",
              "      border-color: transparent;\n",
              "      border-bottom-color: var(--fill-color);\n",
              "    }\n",
              "  }\n",
              "</style>\n",
              "\n",
              "  <script>\n",
              "    async function quickchart(key) {\n",
              "      const quickchartButtonEl =\n",
              "        document.querySelector('#' + key + ' button');\n",
              "      quickchartButtonEl.disabled = true;  // To prevent multiple clicks.\n",
              "      quickchartButtonEl.classList.add('colab-df-spinner');\n",
              "      try {\n",
              "        const charts = await google.colab.kernel.invokeFunction(\n",
              "            'suggestCharts', [key], {});\n",
              "      } catch (error) {\n",
              "        console.error('Error during call to suggestCharts:', error);\n",
              "      }\n",
              "      quickchartButtonEl.classList.remove('colab-df-spinner');\n",
              "      quickchartButtonEl.classList.add('colab-df-quickchart-complete');\n",
              "    }\n",
              "    (() => {\n",
              "      let quickchartButtonEl =\n",
              "        document.querySelector('#df-c4d9207e-078e-486b-93be-4bf61b673a13 button');\n",
              "      quickchartButtonEl.style.display =\n",
              "        google.colab.kernel.accessAllowed ? 'block' : 'none';\n",
              "    })();\n",
              "  </script>\n",
              "</div>\n",
              "\n",
              "    </div>\n",
              "  </div>\n"
            ],
            "application/vnd.google.colaboratory.intrinsic+json": {
              "type": "dataframe",
              "variable_name": "df",
              "summary": "{\n  \"name\": \"df\",\n  \"rows\": 10000,\n  \"fields\": [\n    {\n      \"column\": \"business_id\",\n      \"properties\": {\n        \"dtype\": \"string\",\n        \"num_unique_values\": 8297,\n        \"samples\": [\n          \"wIxYAU2jaT6Y9b_Inc5MXA\",\n          \"ILZfAtetYvpp0r0Xs8SoHQ\",\n          \"D6ffAaTr_m5lsKxHNp9fwg\"\n        ],\n        \"semantic_type\": \"\",\n        \"description\": \"\"\n      }\n    },\n    {\n      \"column\": \"cool\",\n      \"properties\": {\n        \"dtype\": \"number\",\n        \"std\": 2,\n        \"min\": 0,\n        \"max\": 61,\n        \"num_unique_values\": 35,\n        \"samples\": [\n          18,\n          7,\n          54\n        ],\n        \"semantic_type\": \"\",\n        \"description\": \"\"\n      }\n    },\n    {\n      \"column\": \"date\",\n      \"properties\": {\n        \"dtype\": \"date\",\n        \"min\": \"2005-07-31 03:15:21\",\n        \"max\": \"2018-11-14 17:22:35\",\n        \"num_unique_values\": 10000,\n        \"samples\": [\n          \"2015-07-15 02:41:12\",\n          \"2012-05-05 22:23:44\",\n          \"2010-10-01 22:04:55\"\n        ],\n        \"semantic_type\": \"\",\n        \"description\": \"\"\n      }\n    },\n    {\n      \"column\": \"funny\",\n      \"properties\": {\n        \"dtype\": \"number\",\n        \"std\": 1,\n        \"min\": 0,\n        \"max\": 79,\n        \"num_unique_values\": 32,\n        \"samples\": [\n          37,\n          15,\n          31\n        ],\n        \"semantic_type\": \"\",\n        \"description\": \"\"\n      }\n    },\n    {\n      \"column\": \"review_id\",\n      \"properties\": {\n        \"dtype\": \"string\",\n        \"num_unique_values\": 10000,\n        \"samples\": [\n          \"pcpmloUy9OSbQCxG-NIXKA\",\n          \"-Gb3R1WOoa_fPpsQ91rLCg\",\n          \"uBlyX9pkMmp9evijZtuQ6g\"\n        ],\n        \"semantic_type\": \"\",\n        \"description\": \"\"\n      }\n    },\n    {\n      \"column\": \"stars\",\n      \"properties\": {\n        \"dtype\": \"number\",\n        \"std\": 1,\n        \"min\": 1,\n        \"max\": 5,\n        \"num_unique_values\": 5,\n        \"samples\": [\n          4,\n          2,\n          3\n        ],\n        \"semantic_type\": \"\",\n        \"description\": \"\"\n      }\n    },\n    {\n      \"column\": \"text\",\n      \"properties\": {\n        \"dtype\": \"string\",\n        \"num_unique_values\": 10000,\n        \"samples\": [\n          \"We ordered 1/4 chicken leg and thigh take out, but it's totally burnt out. If you really want to eat here,  don't take out.\",\n          \"nice hike...keeps going up and up and up ...and up and up!\\n\\ntrails are easy to follow and nice views at the top.  cacti blossom with flowers too.\\n\\neveryone was so very nice! i sprained my ankle on my way down..and ooo i was sooo close to the bottom.  tried to be a champ and slowly limp down, but everyone who passed me offered to help.\\n\\na bit embarrassed but good memories with this mountain!\",\n          \"I have nothing against trainee teachers.. but really in order to really evaluated a studio fairly, one needs to go to a regular class lead by an experience teacher.\\n\\nPeter is quite different than the other moksha teacher I have been to since he emphasis a lot on breathing. He was walking around the room a lot and check if we are still breathing with our Ujjai \\\"Ocean\\\" breath.\\n\\nHe also go around to help with adjustment and if he is standing near you that means he is talking to you! or is he? Since most Moksha postures are quite simple so vocal instructions are given instead of real demonstrations. For newbies, you do need to peek at others.\\n\\nThe room was not too hot this time because it is not crowded... all the spaces... and you can really check yourself out in the mirror.. (Do I look Zen??)\\n\\nIt is a great Passport to Prana experience this time round!\"\n        ],\n        \"semantic_type\": \"\",\n        \"description\": \"\"\n      }\n    },\n    {\n      \"column\": \"useful\",\n      \"properties\": {\n        \"dtype\": \"number\",\n        \"std\": 3,\n        \"min\": 0,\n        \"max\": 62,\n        \"num_unique_values\": 46,\n        \"samples\": [\n          38,\n          32,\n          27\n        ],\n        \"semantic_type\": \"\",\n        \"description\": \"\"\n      }\n    },\n    {\n      \"column\": \"user_id\",\n      \"properties\": {\n        \"dtype\": \"string\",\n        \"num_unique_values\": 9667,\n        \"samples\": [\n          \"5b59DMCxPWn-c2b6q50P7w\",\n          \"ctDWPowbrCkgcK1gTLDDdw\",\n          \"2ti91j2F-kx2BmAo3eGbcg\"\n        ],\n        \"semantic_type\": \"\",\n        \"description\": \"\"\n      }\n    }\n  ]\n}"
            }
          },
          "metadata": {},
          "execution_count": 11
        }
      ],
      "source": [
        "df.head()"
      ]
    },
    {
      "cell_type": "code",
      "execution_count": null,
      "metadata": {
        "colab": {
          "base_uri": "https://localhost:8080/"
        },
        "id": "xx0k53maQSFe",
        "outputId": "1edf49f0-e253-4539-c458-59290449bdcf"
      },
      "outputs": [
        {
          "output_type": "stream",
          "name": "stderr",
          "text": [
            "/usr/local/lib/python3.10/dist-packages/ipykernel/ipkernel.py:283: DeprecationWarning: `should_run_async` will not call `transform_cell` automatically in the future. Please pass the result to `transformed_cell` argument and any exception that happen during thetransform in `preprocessing_exc_tuple` in IPython 7.17 and above.\n",
            "  and should_run_async(code)\n"
          ]
        },
        {
          "output_type": "stream",
          "name": "stdout",
          "text": [
            "CPU times: user 2.05 s, sys: 20.9 ms, total: 2.07 s\n",
            "Wall time: 2.08 s\n"
          ]
        }
      ],
      "source": [
        "%%time\n",
        "# YOUR CODE HERE\n",
        "tfidf = TfidfVectorizer()\n",
        "tfidf = tfidf.fit(df.text)\n",
        "dtm= tfidf.transform(df.text)"
      ]
    },
    {
      "cell_type": "markdown",
      "metadata": {
        "id": "cVKXXiTfQSFe"
      },
      "source": [
        "\n",
        "2. Write a fake review. Assign the text of the review to an object called `fake_review`.\n",
        "3. Query the fake review for the 10 most similar reviews, print the text of the reviews.\n",
        "    - Given the size of the dataset, use `NearestNeighbors` model for this. Name the model `nn`."
      ]
    },
    {
      "cell_type": "code",
      "execution_count": null,
      "metadata": {
        "colab": {
          "base_uri": "https://localhost:8080/"
        },
        "id": "tfMD_a0pbxtd",
        "outputId": "f853486b-f59e-4e8e-bb21-dbaf244900fd"
      },
      "outputs": [
        {
          "output_type": "stream",
          "name": "stderr",
          "text": [
            "/usr/local/lib/python3.10/dist-packages/ipykernel/ipkernel.py:283: DeprecationWarning: `should_run_async` will not call `transform_cell` automatically in the future. Please pass the result to `transformed_cell` argument and any exception that happen during thetransform in `preprocessing_exc_tuple` in IPython 7.17 and above.\n",
            "  and should_run_async(code)\n"
          ]
        }
      ],
      "source": [
        "fake_review = \"\"\"This Porduct is really good, it lets you try a varierity of different sounds from the pad, the keyboard.\n",
        "                  And one of the best things about this product is that it brings an internal speaker for you to try out\n",
        "                  the internal sounds it brings, it also comes with its own software that also gives you millions of things to try and create music in the most professional way\"\"\""
      ]
    },
    {
      "cell_type": "code",
      "execution_count": null,
      "metadata": {
        "colab": {
          "base_uri": "https://localhost:8080/",
          "height": 131
        },
        "id": "GoKZAbQnQSFe",
        "outputId": "3d4e42b2-d145-4391-d6a0-aac9c4d20caa"
      },
      "outputs": [
        {
          "output_type": "stream",
          "name": "stderr",
          "text": [
            "/usr/local/lib/python3.10/dist-packages/ipykernel/ipkernel.py:283: DeprecationWarning: `should_run_async` will not call `transform_cell` automatically in the future. Please pass the result to `transformed_cell` argument and any exception that happen during thetransform in `preprocessing_exc_tuple` in IPython 7.17 and above.\n",
            "  and should_run_async(code)\n"
          ]
        },
        {
          "output_type": "execute_result",
          "data": {
            "text/plain": [
              "NearestNeighbors(n_neighbors=10)"
            ],
            "text/html": [
              "<style>#sk-container-id-3 {color: black;background-color: white;}#sk-container-id-3 pre{padding: 0;}#sk-container-id-3 div.sk-toggleable {background-color: white;}#sk-container-id-3 label.sk-toggleable__label {cursor: pointer;display: block;width: 100%;margin-bottom: 0;padding: 0.3em;box-sizing: border-box;text-align: center;}#sk-container-id-3 label.sk-toggleable__label-arrow:before {content: \"▸\";float: left;margin-right: 0.25em;color: #696969;}#sk-container-id-3 label.sk-toggleable__label-arrow:hover:before {color: black;}#sk-container-id-3 div.sk-estimator:hover label.sk-toggleable__label-arrow:before {color: black;}#sk-container-id-3 div.sk-toggleable__content {max-height: 0;max-width: 0;overflow: hidden;text-align: left;background-color: #f0f8ff;}#sk-container-id-3 div.sk-toggleable__content pre {margin: 0.2em;color: black;border-radius: 0.25em;background-color: #f0f8ff;}#sk-container-id-3 input.sk-toggleable__control:checked~div.sk-toggleable__content {max-height: 200px;max-width: 100%;overflow: auto;}#sk-container-id-3 input.sk-toggleable__control:checked~label.sk-toggleable__label-arrow:before {content: \"▾\";}#sk-container-id-3 div.sk-estimator input.sk-toggleable__control:checked~label.sk-toggleable__label {background-color: #d4ebff;}#sk-container-id-3 div.sk-label input.sk-toggleable__control:checked~label.sk-toggleable__label {background-color: #d4ebff;}#sk-container-id-3 input.sk-hidden--visually {border: 0;clip: rect(1px 1px 1px 1px);clip: rect(1px, 1px, 1px, 1px);height: 1px;margin: -1px;overflow: hidden;padding: 0;position: absolute;width: 1px;}#sk-container-id-3 div.sk-estimator {font-family: monospace;background-color: #f0f8ff;border: 1px dotted black;border-radius: 0.25em;box-sizing: border-box;margin-bottom: 0.5em;}#sk-container-id-3 div.sk-estimator:hover {background-color: #d4ebff;}#sk-container-id-3 div.sk-parallel-item::after {content: \"\";width: 100%;border-bottom: 1px solid gray;flex-grow: 1;}#sk-container-id-3 div.sk-label:hover label.sk-toggleable__label {background-color: #d4ebff;}#sk-container-id-3 div.sk-serial::before {content: \"\";position: absolute;border-left: 1px solid gray;box-sizing: border-box;top: 0;bottom: 0;left: 50%;z-index: 0;}#sk-container-id-3 div.sk-serial {display: flex;flex-direction: column;align-items: center;background-color: white;padding-right: 0.2em;padding-left: 0.2em;position: relative;}#sk-container-id-3 div.sk-item {position: relative;z-index: 1;}#sk-container-id-3 div.sk-parallel {display: flex;align-items: stretch;justify-content: center;background-color: white;position: relative;}#sk-container-id-3 div.sk-item::before, #sk-container-id-3 div.sk-parallel-item::before {content: \"\";position: absolute;border-left: 1px solid gray;box-sizing: border-box;top: 0;bottom: 0;left: 50%;z-index: -1;}#sk-container-id-3 div.sk-parallel-item {display: flex;flex-direction: column;z-index: 1;position: relative;background-color: white;}#sk-container-id-3 div.sk-parallel-item:first-child::after {align-self: flex-end;width: 50%;}#sk-container-id-3 div.sk-parallel-item:last-child::after {align-self: flex-start;width: 50%;}#sk-container-id-3 div.sk-parallel-item:only-child::after {width: 0;}#sk-container-id-3 div.sk-dashed-wrapped {border: 1px dashed gray;margin: 0 0.4em 0.5em 0.4em;box-sizing: border-box;padding-bottom: 0.4em;background-color: white;}#sk-container-id-3 div.sk-label label {font-family: monospace;font-weight: bold;display: inline-block;line-height: 1.2em;}#sk-container-id-3 div.sk-label-container {text-align: center;}#sk-container-id-3 div.sk-container {/* jupyter's `normalize.less` sets `[hidden] { display: none; }` but bootstrap.min.css set `[hidden] { display: none !important; }` so we also need the `!important` here to be able to override the default hidden behavior on the sphinx rendered scikit-learn.org. See: https://github.com/scikit-learn/scikit-learn/issues/21755 */display: inline-block !important;position: relative;}#sk-container-id-3 div.sk-text-repr-fallback {display: none;}</style><div id=\"sk-container-id-3\" class=\"sk-top-container\"><div class=\"sk-text-repr-fallback\"><pre>NearestNeighbors(n_neighbors=10)</pre><b>In a Jupyter environment, please rerun this cell to show the HTML representation or trust the notebook. <br />On GitHub, the HTML representation is unable to render, please try loading this page with nbviewer.org.</b></div><div class=\"sk-container\" hidden><div class=\"sk-item\"><div class=\"sk-estimator sk-toggleable\"><input class=\"sk-toggleable__control sk-hidden--visually\" id=\"sk-estimator-id-6\" type=\"checkbox\" checked><label for=\"sk-estimator-id-6\" class=\"sk-toggleable__label sk-toggleable__label-arrow\">NearestNeighbors</label><div class=\"sk-toggleable__content\"><pre>NearestNeighbors(n_neighbors=10)</pre></div></div></div></div></div>"
            ]
          },
          "metadata": {},
          "execution_count": 32
        }
      ],
      "source": [
        "# Create and fit a NearestNeighbors model named \"nn\"\n",
        "# YOUR CODE HERE)\n",
        "top_n_neighbors = 10\n",
        "nn = NearestNeighbors(n_neighbors=top_n_neighbors)\n",
        "nn.fit(dtm)"
      ]
    },
    {
      "cell_type": "code",
      "execution_count": null,
      "metadata": {
        "colab": {
          "base_uri": "https://localhost:8080/"
        },
        "id": "m3htEOYZQSFe",
        "outputId": "66a82b70-12e1-4eb5-c864-d65ed71d14b6"
      },
      "outputs": [
        {
          "output_type": "stream",
          "name": "stderr",
          "text": [
            "/usr/local/lib/python3.10/dist-packages/ipykernel/ipkernel.py:283: DeprecationWarning: `should_run_async` will not call `transform_cell` automatically in the future. Please pass the result to `transformed_cell` argument and any exception that happen during thetransform in `preprocessing_exc_tuple` in IPython 7.17 and above.\n",
            "  and should_run_async(code)\n"
          ]
        }
      ],
      "source": [
        "'''Testing.'''\n",
        "assert nn.__module__ == 'sklearn.neighbors._unsupervised', ' nn is not a NearestNeighbors instance.'\n",
        "assert nn.n_neighbors == 10, 'nn has the wrong value for n_neighbors'"
      ]
    },
    {
      "cell_type": "code",
      "execution_count": null,
      "metadata": {
        "colab": {
          "base_uri": "https://localhost:8080/"
        },
        "id": "GvyQVa0-QSFe",
        "outputId": "20341053-6c1f-4ed9-800f-6155af4e6fef"
      },
      "outputs": [
        {
          "output_type": "stream",
          "name": "stderr",
          "text": [
            "/usr/local/lib/python3.10/dist-packages/ipykernel/ipkernel.py:283: DeprecationWarning: `should_run_async` will not call `transform_cell` automatically in the future. Please pass the result to `transformed_cell` argument and any exception that happen during thetransform in `preprocessing_exc_tuple` in IPython 7.17 and above.\n",
            "  and should_run_async(code)\n"
          ]
        }
      ],
      "source": [
        "# Create a fake review and find the 10 most similar reviews\n",
        "\n",
        "# YOUR CODE HERE\n",
        "fake_review_dtm = tfidf.transform([fake_review])\n",
        "n_dis, n_ind = nn.kneighbors(fake_review_dtm)"
      ]
    },
    {
      "cell_type": "code",
      "execution_count": null,
      "metadata": {
        "colab": {
          "base_uri": "https://localhost:8080/"
        },
        "id": "0pA1uctx1STo",
        "outputId": "ee44211c-0752-475a-c63b-63a161a4a3f0"
      },
      "outputs": [
        {
          "output_type": "stream",
          "name": "stdout",
          "text": [
            "I have found my new spot for a simple romantic night. This is a little hidden gem in Vegas. And thank you Yelp for informing me of this place. And also thank you restaurant.com for the coupons for this place. (which i forgot to bring for the occasion, but it will come in handy when I go back)\n",
            "\n",
            "I had set up for an early Valentine's Day and Anniversary dinner here with the bf on a Wednesday evening. Our reservation was at 5:30pm. I had planned it that way in hopes to see the sunset from the wonderful outdoor seating at the lake. But we were too busy admiring the restaurant, wine, and food to notice the sunset. But that's okay. I picked a wednesday for an early celebration because I figured it would be quieter and they had live jazz. Which the gentleman was very nice and I liked his music selection.\n",
            "\n",
            "So when we arrived, the hostess was very welcoming. After getting seated (we were the only table in that section at the time), the server told us if we wanted a bottle of wine to pick any out and just bring it back to the table, and so we did. The pricing is great for bottles.\n",
            "\n",
            "The restaurant is quite nice. When you enter through the double glass sliding doors, you enter into the wine shop and bar area. There is 3 sections of seating, 1 area inside and 2 areas outside.\n",
            "\n",
            "So for the first course, we ordered the \"Bacchus\". It looked different from the one I saw in the pictures posted here... so I posted my own. It was quite nice, with the lobster salad, different cheeses, and other stuff that I don't remember the names of. It came with a small basket of bread, which definitely was not enough for us so we had asked for another basket. It was yummy.\n",
            "\n",
            "For the main course I could not decide for a while because I really wanted to try everything! But I ended up ordering the Lobster Pot Pie because that is their signature item, and the original plan since I had looked at their menu before we went. And the bf went with Moule Frites.\n",
            "\n",
            "I was slightly disappointed that the frites were just regular fries and not the thinner ones like what they have at Mon Ami Babi. Oh well, still good. The flavor of the moules (mussels) were great. They were cooked perfectly and you can really taste the wine through the dish. It was great to dip the bread in it also. Mmmm\n",
            "\n",
            "And my pot pie. I was told it was similar to Michael Mina. It was very rich and had lots of spinach. Good amount of lobster as well. I liked that their was corn in it. Picture of the item has been posted. The small metal pot that it was served it was topped with a cute round pastry puff. Very flakey. \n",
            "\n",
            "While enjoying the appetizer, the server had asked us if we wanted the bread pudding. It mentions on the menu it takes half an hour to make so I went ahead and ordered that too. Came out just in time. And the flavor of the dessert was amazing. It was very strong in scent and taste of cinnamon which I love. And there were raisins.\n",
            "\n",
            "Overall a fantastic experience. A small menu, but with plenty of good options. I nice hidden gem.\n",
            "\n",
            "And on the drive home I realized how close it was to our house, so I will definitely be going back soon. Probably to try their lunch cause it seems the items are completely different. And it would be a completely different feel. This place is great with service, food, and price. Worth a try :)\n",
            "Reminiscent of my visits to beautiful Italy,this coffee shop is so very pleasant ! \n",
            "I had the cappuccino it was Outstanding in every way! It was creamy smooth strong but not bitter with  excellent taste. \n",
            "\n",
            "I also enjoyed the breakfast sandwich with fried egg ,prosciutto lettuce and tomato on a croissant. Oh my ...this changes what breakfast looks like for me!!\n",
            "It was delicious!\n",
            "\n",
            "The people are very friendly with the typical Italian hospitality. It seems that they really care and that the value of their customers\n",
            "\n",
            "I'm going to order a  Caprese   salad to take to work with me today I can't wait to try \n",
            "It's in a slightly out-of-the-way location but well worth the extra few steps or manoeuvres in the car that it would take to get here. Try it try it try it!!!\n",
            "\n",
            "\n",
            "Food is a high priority for me and I would not lead you astray. It is clean fresh and well-made fare!\n",
            "\n",
            "\n",
            "My takeout capris he salad was absolutely wonderful!\n",
            "For the budget traveler, it's absolutely perfect; great location and reasonably clean.  But there are a few things that could have been better, and may affect your choice if it happens to be something you care about.\n",
            "\n",
            "THE GOOD:\n",
            "\n",
            "The location is amazing; you're in the heart of the Downtown area and can walk to food, shopping, bars, anything.  There's even a Bixi bikeshare station across the street, so you can bike around the city instead of taking taxis or the metro.  There's absolutely nothing bad I can say about the convenient location.\n",
            "\n",
            "The lobby is also very nice and clean, and so are the rooms.  I stayed in a room with one queen-sized bed, shared with a friend.  The bed area was exactly what you'd expect and clean as well.  I actually love that it had hardwood floors - carpet is hard to clean, so hotel carpets skeeve me out a bit.  The interior of the drawers were also bright and clean, and the AC is VERY strong if you switch it on.\n",
            "\n",
            "The price we paid was extremely cheap and reasonable; $200 for 3 nights, total.  Divide that by two and the value is even better.  It was the cheapest in the area, even during Nascar weekend.\n",
            "\n",
            "There's free wi-fi in the entire building!  Lobby, rooms, just outside the building...it's pretty good.  A little bit slow in your room, but they also have a handful of computers and a printer in the lobby.\n",
            "\n",
            "THE BAD:\n",
            " \n",
            " The bathroom was so tiny!!!  I'm a short person, 5'2\" and 106lb, and even I felt I must sit on the toilet sideways, or else my feet and knees would knock against the bath tub.  This was my main annoyance.  I live in a small apartment in NYC and do not have this problem at home...it's just bad planning to put the toilet where they did.  There was also some strange dark smudge on the toilet seat....I'm not sure if it was old gum or something.  I kept trying to scrub it off, so did my roommate....to no avail.  The tub is very slippery; we tried asking the front desk for a mat of some kind to put on it.  They didn't understand what we wanted, I suppose, because they simply gave us an extra towel.  So instead I just showered with my rubber flip flops.\n",
            "\n",
            "  The concierge was not very nice.  There was between 1-3 people behind the front desk at varying hours of the day, and they all spoke English and French well.  But we asked her if there was a bus we could take to the top of Mont Royal, and she told us there's only one, took out a map and circled where to find it.  While that sounds like a job well done, the devil is in the details.  She didn't specify which side of the street to be on or even what bus number to take.  Maybe 3 or 4 different buses went to that same station.  Luckily we chatted with the bus drivers to figure it out, but the bus number is something she should have told us while giving us directions.  What's a little tricky too is that once you take that bus to the base of Mont Royal, you need to cross the street and take a different bus to the top....do not stay at the same bus station, even if you see the correct bus number there! It goes the opposite way.  This was also not told to us, we figured it out when we saw the bus we needed pass us by on the other side of the street.\n",
            "   Another thing was that after asking the front desk for more directions to a post office, we could hear the concierge gossiping about us to her coworker behind the desk, in French.  I suppose she assumed we couldn't understand.  That isn't a great way to treat your guests at all....\n",
            "\n",
            "THE MEH:\n",
            "\n",
            "The parking lot is a bit iffy.  Some people may be totally okay with outdoor parking.  We weren't, however....so we parked nearby in an underground garage instead, for basically the same price that Best Western offers.\n",
            "\n",
            "Chez Cora is the restaurant / breakfast place in the lobby, which also seems like a place local budget-strapped residents (students probably) sometimes go.  It's definitely cheaper than places like Eggspectations, but the taste is not all there.  The sausages didn't taste like any sort of animal, just bland fat, and the service was pretty bad.  I suppose this should go in a Chez Cora review instead, so I'll cut it off here and just say it's alright and it's cheap. But nothing that great.  You'll probably end up walking elsewhere for breakfast.\n",
            "\n",
            "This may be a little nitpicky, but the AC is a huuuge box that obscures the lower half of the window.  So I couldn't see out there and tell you what the view is.  But this doesn't really matter to me, most of my time was spent outside.\n",
            "\n",
            "CONCLUSION:\n",
            "\n",
            "3 stars overall...pretty much all of it for the location and cleanliness.  I'd definitely recommend it to others, just know that the service may not be that stellar.  But hey, hotel is just a place to close your eyes for the night, right?\n",
            "I work in the area and never knew this place was here.  We have been on a journey as a family to eat all the BBQ places Arizona has to offer.  I happen to find this place by mistake.  I was looking for a place for the family to try today.  I typed in BBQ and JL Smokehouse popped up.  I never heard of it at all.  I looked at the reviews and website.  The reviews were positive, but reviews have little sway on me when it comes to a place. I like to try it for myself! \n",
            "\n",
            "I met my family here today at 11 am.  We looked at the menus and ordered.  We all got different things with out sauce on the meat.  We wanted to experience the flavours of the meats.  I got the pulled pork sandwhich and it was good.  The BBQ sauce is thin.  Probably the way the family that runs it is used to making it where they are from.  It was great sauce!  I tried a 1/4 pound of the smoked sausage.  It was some of the best I have ever had.  It like melted in my mouth.  I tried a piece of the brisket my father had.  Holy shit that was some good stuff.  I have had smoked brisket but this one is different.  There is something that just sets it apart. The beans were pretty good too.  I was to stuffed for sweets after the meal.  I think this place is really good and worth a visit.  The place is cozy so get there early.  \n",
            "\n",
            "Just remember there are numerous BBQ places here now.  They are all different and really good.  There are places that do Memphis style, Texas style, Kansas Style and other styles here in AZ now.  Stop by and give this place a try.  I have a feeling you will not be disappointed.\n",
            "I wish, I could write a review about some of the entrees on their menu, which looked really yummy.  Alas, I can't:  dinner consisted of appetizers and a salad (with way too much pita bread ... my bad) and that was more than enough for me.  It also helped that it was a beautiful afternoon turning into evening when we got there, so a light meal of spicy hummus, fatoush salad, tzaziki, and babaganoush was just right.\n",
            "\n",
            "My first compliment might seem to be a strange one, but I really enjoyed the music.  This might seem something odd to rave about in a restaurant review -- especially when we're not talking about live entertainment -- but when you consider that there are way too many restaurants that either blast their music or try and drown out customer groans with loud TVs, it's nice to be able to sit in a spaciously airy, subtly decorated restaurant with light jazz playing in the background, which compliments the atmosphere; not dominates it.  So subtle is the music, in fact, that the person with me didn't even know there was music playing when we talked about it afterwards.\n",
            "\n",
            "For the food and its portions, the prices are reasonable and service was more than friendly.  To be fair, it was a slow, holiday night and that might have accounted for the constant and attentive service we received (in comparison to other reviews, which have stated that the place was so busy, service was lacking).\n",
            "\n",
            "As much as I'm sure that I'm a fan, I'm not sure this restaurant is in the right place.  It's across from Estrella Community College, which should be a good thing, since students tend to be more open-minded and willing to try other cultures and cuisines.  But that only means this restaurant should be in Tempe, near ASU, not Estrella.  Most of the students at the community college simply couldn't afford to eat here, though, like I said, prices are far from unreasonable.  Also, Goodyear/Avondale does not (yet) have the \"yuppie\" base which would patronize a restaurant like this.  It was starting to get that way before the Great Depression of 2008 struck, but then all those plans for a mall and upscale restaurants pretty much came to a grinding halt.  Things are very slowly starting to turn around, so maybe we'll get that base soon enough.  For now, we can only hope, that enough people dare to walk away from Taco Bell and the Olive Garden to try something \"new\".  \n",
            "\n",
            "The West Valley is a real culinary desert when it comes to food other than tacos, hamburgers and pizza.  Do your part to keep places like this alive:  your taste buds will thank you.\n",
            "The future is here! This is a perfect activity for a date night or first date. Or, just something fun to do with a buddy or group of friends.\n",
            "\n",
            "This is for you if: You are into tech, cool gadgets, fun stuff, mind expanding experiences, games and fun.\n",
            "\n",
            "This is NOT for you if: You aren't really adventurous, get scared easily, hate cool and fun things, think the earth is flat, and think technology is evil. \n",
            "\n",
            "How it works:\n",
            "You put on a sorta bulky VR mask that is tethered to the ceiling, take off your shoes (you need to feel the carpet to know when you're walking into the wall*), and you start with a main menu where you use your controller to laser point to the game you want to try out. Yes, the mask is bulky but you get used to it, I was good after a few minutes.\n",
            "* I was half joking about walking into the wall, for starters the wall is really just a soft sheet so you won't get hurt. Also, the VR screen will turn into a grid if you go off your carpet so you also have a visual warning if you're going out of bounds.\n",
            "\n",
            "You are also equipped with a speaker and mic built into the VR mask. I loved how you can hear and talk to your friend the entire time even if you aren't playing the same games. \n",
            "\n",
            "\n",
            "Note: If you choose a multi-player game, it can be tricky to \"find\" your friend and play it simultaneously with them (it would be good to know their username, ask the guide before you start so you can easily find your friend.. I found that a little tricky and wasted quite a bit of time figuring this out).\n",
            "\n",
            "The Birdly is a gimmick.. do not waste your time on it. You lie on your stomach and flap your \"wings\" and the entire thing hurt my neck and felt awkward. I never felt like I was flying. You're  much better off to go in a booth and try VR the old fashioned way and there is a game where you fly and I swear you will feel as if you are zooming in the air (the mind is a powerful thing). I also loved the zombie game (Arizona Sunshine). It was hilarious and not scary at ALL! \n",
            "\n",
            "I also highly recommend you go for 2 hours as the 1st hour I was just warming up and would have really enjoyed a second hour but they were all booked so I had to leave :(\n",
            "\n",
            "One more tip: leave a little bit of a gap between your VR mask and the outside world, that way if you want to know which way you're facing or if you feel disoriented you can always look out of this gap. This really helped me but might be a distraction for others.\n",
            "\n",
            "It's located in the Alexis Nihon shopping center (2nd floor) and they generally validate parking (call to inquire). Definitely reserve first (via phone) at least a day ahead and don't be a jerk and cancel last minute.\n",
            "We have been coming here for years on the recommendation of a friend. Kids and I.\n",
            "\n",
            "Both Dr David (chiropractic) and the PT rehab center are wonderful.\n",
            "\n",
            "Dr David uses some PT/sports rehab movements along with his manipulations on me. He always checks my usual bad spots and even uses some deep blue stuff (Sombra) when he loosens my neck. He has even adjusted internal organs (I know - sounds weird and voodooish, but it's not - I was having an internal issue I didn't even tell him about, and he said he thought he should adjust it, and the issue went away right after that and never came back!)\n",
            "\n",
            "They take insurances or have a discount plan you can sign up for, both for chiro and PT. They also recommended my orthopedic Dr to me.\n",
            "\n",
            "Front desk staff is friendly and helpful and tries to get us in within a day or 2 if we don't have an appointment scheduled but call needing the doc.\n",
            "I have been to this place a couple of times once for dinner and a couple of times for happy hour. And I love it. The servers are friendly, the place is beautiful, the best part is the outside patio. The only two negative things are the small bar area (happy hour is only in the bar) and the birds. The birds are cute, very chatty and will join you at your table to try and share your chips.\n",
            "\n",
            "The food was great, I got the enchiladas which were tasty and I asked to change the side and the waiter was more then happy to let me do that. A friend got the Tuna salad which she enjoyed. I am not a fish person but she let me try her tuna and it was actually pretty good. The chips that come to your table are okay, I'm not a fan of the sweet potato chips, the texture and taste just do not work for me. So when I go I ask if I can just get corn tortilla chips, and they are happy to do that too. The salsa is a red smokey salsa which is good, but you can ask for green salsa which is just as good.. maybe better\n",
            "\n",
            "The best part of this place is the Happy hour. The drinks are cheap and tasty. The best is the Grand Canyon Margarita which a mixture of orange, cranberry and prickly pear juices, its strong and only 3 bucks. The regular margaritas are excellent, on mondays that have a 10 dollar pitcher deal, a friend and I were able to get three each out of the pitcher. Good thing she lives in walking distance to the place. \n",
            "\n",
            "Another good thing about the happy hour is the food. The bar has its own list of items in addition to the restaurants main menu. The best thing on that list is the chicken nachos, so good, best nachos I've had in a long time. Another is the cheese crisp with carnitas, very tasty.  Most of the items on this menu are around five dollars, and for five dollars you get a lot of food enough for two. \n",
            "\n",
            "I would highly recommend this place.\n",
            "What happens when you take a former service station with three garage doors and turn it into a cafe and a small grocery store? The answer is Block 292! It is named for it's address on Beverly Road in Mt. Lebanon.\n",
            "\n",
            "I arrived at 11 and was please that they have their own private lot. It is small so if you plan on dining there it is good to get there early since it is small. Once inside I was told that the sit down lunch hours don't start until 11:30 and run till about 2. I was however, welcome to browse the grocery store.\n",
            "\n",
            "A lot of the food is farm fresh and home grown. The meats in the display looked good quality as well as the fruits and vegetables. They even sell plants there. I was looking at their honey with is raw and farm made. Mind you these prices are not cheap but you are paying for quality. I saw on the chalkboard that you can order some takeout sandwiches. The also sell scones for $2.00 brought in from the Strip district and they also sell artisan bread from the North side. They also sell a different type of \"pie\" brought in that day for about $15.00. Today's was a potato pie which really caught my eye but was saving for my lunch.\n",
            "\n",
            "What's really neat is how they rearranged the garage doors so that part of them can stay open while it is warm and cool you off.\n",
            "\n",
            "At 11:30 I returned and asked to be seated. They do have outdoor seating available if you prefer. The menu lists a soup of the day as well as a salad as \"starters.\" The waitress told me what they were but i wasn't in the mood for soup. There are 4 menu options to choose from as well as their daily special. Today it was a turkey club sandwich with chips. I opted for the grilled chicken with this special type of lettuce, cut potatoes, and green beans.\n",
            "\n",
            "The portion wasn't all that big but it was delicious! They are a little on the pricey side but I remember that I had recently dined at one of the other restaurants in this small business district and this place is right on par both with size and pricing.\n",
            "\n",
            "My waitress was very attentive to my needs and I inquired about dessert. At this point dessert is not listed on their menu but they do have two offerings. The one I choose was a flourless chocolate cake with a scoop of vanilla ice cream. The other was a type of sponge cake with frills on it which I can remember for the moment. Desserts run $8.00 for either one so I decided once to indulge.\n",
            "\n",
            "I got my cake and it wasn't too heavy but full of flavor. Nothing special about the ice cream but it was a nice touch. The cake also had a mint spring on it.\n",
            "\n",
            "I really wanted to get the scones since they are huge and sell for only $2.00.  I decided to do that next visit. When I completely my meal I stopped back and saw they had 3 different types so I purchased a blueberry lemon one for my daughter. I took it home to her and she literally devoured it! I was able to sneak a couple of bites and believe me it was so good!! \n",
            "\n",
            "As I had noted they also have in their freezer small pints of Millie's ice cream from Shadyside as well as a flavor which I recall named Black and Gold from Betsey's ice cream over in the business district on Washington Road.\n",
            "\n",
            "For me however, it seemed the best part was the free parking because if you park anywhere else in that section you have to pay metered and you never know how long you'll be. The Yelp app does say get on the waitlist so I would imagine this place gets pretty crowded.  They have a full bar and they are family friendly. Over at the next table I saw some kids eating macaroni and cheese for lunch.\n",
            "\n",
            "The way the remodeled it is worth a mention as well since from my vantage point I could see that the garage door was split into thirds with the two outer ends capable of opening up and the center just a regular door.\n",
            "\n",
            "I was very pleased with my visit and will most certainly return especially to get some great home grown food from their grocery section and perhaps grab a scone for myself next time.\n",
            "This place is beyond disappointing. \n",
            "\n",
            "My boyfriend and I decided to give this place a try after looking at the mixed yelp reviews. Perhaps, it's because we came here about an hour before it closed, but the food quality was definitely questionable. \n",
            "\n",
            "We came here for the buffet and when we arrived it was completely empty, we sat ourselves since the waitress was on the phone. The food that was left out on the heat table looked like it's been left out for hours, and had developed a skin on top. Most of the selection looked like mush, it was the kind of quality that made you contemplate whether you're going to get food poisoning from it or not. We sat there hoping some other people will come into the restaurant, praying that we didn't make a mistake.\n",
            "\n",
            "The flavors of most of the dishes that we tried tasted exactly the same. They were mildly seasoned, dried out, and had no flavor. This is saying a lot for a cuisine that is suppose to be packed with flavor. The one thing that I was most excited for was the butter chicken and it was not good. It was tough chicken in a watery tomato sauce. The only thing that was salvageable was the fresh garlic naan bread that was brought to the table. Everything else was beyond disappointing. I can't begin to understand where everyone elses positive reviews emerged from other than this being a cheap eat.\n",
            "\n",
            "Overall impression: I would not try this place again and recommend most of you all to stay clear.\n"
          ]
        },
        {
          "output_type": "stream",
          "name": "stderr",
          "text": [
            "/usr/local/lib/python3.10/dist-packages/ipykernel/ipkernel.py:283: DeprecationWarning: `should_run_async` will not call `transform_cell` automatically in the future. Please pass the result to `transformed_cell` argument and any exception that happen during thetransform in `preprocessing_exc_tuple` in IPython 7.17 and above.\n",
            "  and should_run_async(code)\n"
          ]
        }
      ],
      "source": [
        "for index in n_ind[0]:\n",
        "    print(df['text'].iloc[index])"
      ]
    },
    {
      "cell_type": "code",
      "execution_count": null,
      "metadata": {
        "colab": {
          "base_uri": "https://localhost:8080/"
        },
        "id": "GYKotAodQSFe",
        "outputId": "9d3a0276-2c2a-406f-a776-1c0e62627753"
      },
      "outputs": [
        {
          "output_type": "stream",
          "name": "stderr",
          "text": [
            "/usr/local/lib/python3.10/dist-packages/ipykernel/ipkernel.py:283: DeprecationWarning: `should_run_async` will not call `transform_cell` automatically in the future. Please pass the result to `transformed_cell` argument and any exception that happen during thetransform in `preprocessing_exc_tuple` in IPython 7.17 and above.\n",
            "  and should_run_async(code)\n"
          ]
        }
      ],
      "source": [
        "# Visible Testing\n",
        "assert isinstance(fake_review, str), \"Did you write a review in the correct data type?\""
      ]
    },
    {
      "cell_type": "markdown",
      "metadata": {
        "id": "vOJFqV8qQSFe"
      },
      "source": [
        "## Part 3: Classification\n",
        "<a id=\"#p3\"></a>\n",
        "Your goal in this section will be to predict `stars` from the review dataset.\n",
        "\n",
        "1. Create a pipeline object with a sklearn `CountVectorizer` or `TfidfVector` and any sklearn classifier.\n",
        "    - Use that pipeline to train a model to predict the `stars` feature (i.e. the labels).\n",
        "    - Use that pipeline to predict a star rating for your fake review from Part 2.\n",
        "\n",
        "\n",
        "\n",
        "2. Create a parameter dict including `one parameter for the vectorizer` and `one parameter for the model`.\n",
        "    - Include 2 possible values for each parameter\n",
        "        - **Keep the values for each parameter low. Extreme values will compromise runtime**\n",
        "    - **Use `n_jobs` = 1**\n",
        "    - Due to limited computational resources on CodeGrader `DO NOT INCLUDE ADDITIONAL PARAMETERS OR VALUES PLEASE.`\n",
        "    \n",
        "    \n",
        "3. Train the entire pipeline with a GridSearch\n",
        "    - Name your GridSearch object as `gs`"
      ]
    },
    {
      "cell_type": "code",
      "execution_count": null,
      "metadata": {
        "colab": {
          "base_uri": "https://localhost:8080/",
          "height": 227
        },
        "id": "ZaT6ARVHQSFf",
        "outputId": "5e0f1383-bdef-472e-f310-af144bdfcdbe"
      },
      "outputs": [
        {
          "output_type": "stream",
          "name": "stderr",
          "text": [
            "/usr/local/lib/python3.10/dist-packages/ipykernel/ipkernel.py:283: DeprecationWarning: `should_run_async` will not call `transform_cell` automatically in the future. Please pass the result to `transformed_cell` argument and any exception that happen during thetransform in `preprocessing_exc_tuple` in IPython 7.17 and above.\n",
            "  and should_run_async(code)\n"
          ]
        },
        {
          "output_type": "stream",
          "name": "stdout",
          "text": [
            "[5]\n"
          ]
        },
        {
          "output_type": "execute_result",
          "data": {
            "text/plain": [
              "GridSearchCV(cv=5,\n",
              "             estimator=Pipeline(steps=[('vectorizer', TfidfVectorizer()),\n",
              "                                       ('classifier',\n",
              "                                        RandomForestClassifier())]),\n",
              "             n_jobs=1,\n",
              "             param_grid={'classifier__n_estimators': [50, 100],\n",
              "                         'vectorizer__max_features': [500, 1000]})"
            ],
            "text/html": [
              "<style>#sk-container-id-4 {color: black;background-color: white;}#sk-container-id-4 pre{padding: 0;}#sk-container-id-4 div.sk-toggleable {background-color: white;}#sk-container-id-4 label.sk-toggleable__label {cursor: pointer;display: block;width: 100%;margin-bottom: 0;padding: 0.3em;box-sizing: border-box;text-align: center;}#sk-container-id-4 label.sk-toggleable__label-arrow:before {content: \"▸\";float: left;margin-right: 0.25em;color: #696969;}#sk-container-id-4 label.sk-toggleable__label-arrow:hover:before {color: black;}#sk-container-id-4 div.sk-estimator:hover label.sk-toggleable__label-arrow:before {color: black;}#sk-container-id-4 div.sk-toggleable__content {max-height: 0;max-width: 0;overflow: hidden;text-align: left;background-color: #f0f8ff;}#sk-container-id-4 div.sk-toggleable__content pre {margin: 0.2em;color: black;border-radius: 0.25em;background-color: #f0f8ff;}#sk-container-id-4 input.sk-toggleable__control:checked~div.sk-toggleable__content {max-height: 200px;max-width: 100%;overflow: auto;}#sk-container-id-4 input.sk-toggleable__control:checked~label.sk-toggleable__label-arrow:before {content: \"▾\";}#sk-container-id-4 div.sk-estimator input.sk-toggleable__control:checked~label.sk-toggleable__label {background-color: #d4ebff;}#sk-container-id-4 div.sk-label input.sk-toggleable__control:checked~label.sk-toggleable__label {background-color: #d4ebff;}#sk-container-id-4 input.sk-hidden--visually {border: 0;clip: rect(1px 1px 1px 1px);clip: rect(1px, 1px, 1px, 1px);height: 1px;margin: -1px;overflow: hidden;padding: 0;position: absolute;width: 1px;}#sk-container-id-4 div.sk-estimator {font-family: monospace;background-color: #f0f8ff;border: 1px dotted black;border-radius: 0.25em;box-sizing: border-box;margin-bottom: 0.5em;}#sk-container-id-4 div.sk-estimator:hover {background-color: #d4ebff;}#sk-container-id-4 div.sk-parallel-item::after {content: \"\";width: 100%;border-bottom: 1px solid gray;flex-grow: 1;}#sk-container-id-4 div.sk-label:hover label.sk-toggleable__label {background-color: #d4ebff;}#sk-container-id-4 div.sk-serial::before {content: \"\";position: absolute;border-left: 1px solid gray;box-sizing: border-box;top: 0;bottom: 0;left: 50%;z-index: 0;}#sk-container-id-4 div.sk-serial {display: flex;flex-direction: column;align-items: center;background-color: white;padding-right: 0.2em;padding-left: 0.2em;position: relative;}#sk-container-id-4 div.sk-item {position: relative;z-index: 1;}#sk-container-id-4 div.sk-parallel {display: flex;align-items: stretch;justify-content: center;background-color: white;position: relative;}#sk-container-id-4 div.sk-item::before, #sk-container-id-4 div.sk-parallel-item::before {content: \"\";position: absolute;border-left: 1px solid gray;box-sizing: border-box;top: 0;bottom: 0;left: 50%;z-index: -1;}#sk-container-id-4 div.sk-parallel-item {display: flex;flex-direction: column;z-index: 1;position: relative;background-color: white;}#sk-container-id-4 div.sk-parallel-item:first-child::after {align-self: flex-end;width: 50%;}#sk-container-id-4 div.sk-parallel-item:last-child::after {align-self: flex-start;width: 50%;}#sk-container-id-4 div.sk-parallel-item:only-child::after {width: 0;}#sk-container-id-4 div.sk-dashed-wrapped {border: 1px dashed gray;margin: 0 0.4em 0.5em 0.4em;box-sizing: border-box;padding-bottom: 0.4em;background-color: white;}#sk-container-id-4 div.sk-label label {font-family: monospace;font-weight: bold;display: inline-block;line-height: 1.2em;}#sk-container-id-4 div.sk-label-container {text-align: center;}#sk-container-id-4 div.sk-container {/* jupyter's `normalize.less` sets `[hidden] { display: none; }` but bootstrap.min.css set `[hidden] { display: none !important; }` so we also need the `!important` here to be able to override the default hidden behavior on the sphinx rendered scikit-learn.org. See: https://github.com/scikit-learn/scikit-learn/issues/21755 */display: inline-block !important;position: relative;}#sk-container-id-4 div.sk-text-repr-fallback {display: none;}</style><div id=\"sk-container-id-4\" class=\"sk-top-container\"><div class=\"sk-text-repr-fallback\"><pre>GridSearchCV(cv=5,\n",
              "             estimator=Pipeline(steps=[(&#x27;vectorizer&#x27;, TfidfVectorizer()),\n",
              "                                       (&#x27;classifier&#x27;,\n",
              "                                        RandomForestClassifier())]),\n",
              "             n_jobs=1,\n",
              "             param_grid={&#x27;classifier__n_estimators&#x27;: [50, 100],\n",
              "                         &#x27;vectorizer__max_features&#x27;: [500, 1000]})</pre><b>In a Jupyter environment, please rerun this cell to show the HTML representation or trust the notebook. <br />On GitHub, the HTML representation is unable to render, please try loading this page with nbviewer.org.</b></div><div class=\"sk-container\" hidden><div class=\"sk-item sk-dashed-wrapped\"><div class=\"sk-label-container\"><div class=\"sk-label sk-toggleable\"><input class=\"sk-toggleable__control sk-hidden--visually\" id=\"sk-estimator-id-7\" type=\"checkbox\" ><label for=\"sk-estimator-id-7\" class=\"sk-toggleable__label sk-toggleable__label-arrow\">GridSearchCV</label><div class=\"sk-toggleable__content\"><pre>GridSearchCV(cv=5,\n",
              "             estimator=Pipeline(steps=[(&#x27;vectorizer&#x27;, TfidfVectorizer()),\n",
              "                                       (&#x27;classifier&#x27;,\n",
              "                                        RandomForestClassifier())]),\n",
              "             n_jobs=1,\n",
              "             param_grid={&#x27;classifier__n_estimators&#x27;: [50, 100],\n",
              "                         &#x27;vectorizer__max_features&#x27;: [500, 1000]})</pre></div></div></div><div class=\"sk-parallel\"><div class=\"sk-parallel-item\"><div class=\"sk-item\"><div class=\"sk-label-container\"><div class=\"sk-label sk-toggleable\"><input class=\"sk-toggleable__control sk-hidden--visually\" id=\"sk-estimator-id-8\" type=\"checkbox\" ><label for=\"sk-estimator-id-8\" class=\"sk-toggleable__label sk-toggleable__label-arrow\">estimator: Pipeline</label><div class=\"sk-toggleable__content\"><pre>Pipeline(steps=[(&#x27;vectorizer&#x27;, TfidfVectorizer()),\n",
              "                (&#x27;classifier&#x27;, RandomForestClassifier())])</pre></div></div></div><div class=\"sk-serial\"><div class=\"sk-item\"><div class=\"sk-serial\"><div class=\"sk-item\"><div class=\"sk-estimator sk-toggleable\"><input class=\"sk-toggleable__control sk-hidden--visually\" id=\"sk-estimator-id-9\" type=\"checkbox\" ><label for=\"sk-estimator-id-9\" class=\"sk-toggleable__label sk-toggleable__label-arrow\">TfidfVectorizer</label><div class=\"sk-toggleable__content\"><pre>TfidfVectorizer()</pre></div></div></div><div class=\"sk-item\"><div class=\"sk-estimator sk-toggleable\"><input class=\"sk-toggleable__control sk-hidden--visually\" id=\"sk-estimator-id-10\" type=\"checkbox\" ><label for=\"sk-estimator-id-10\" class=\"sk-toggleable__label sk-toggleable__label-arrow\">RandomForestClassifier</label><div class=\"sk-toggleable__content\"><pre>RandomForestClassifier()</pre></div></div></div></div></div></div></div></div></div></div></div></div>"
            ]
          },
          "metadata": {},
          "execution_count": 37
        }
      ],
      "source": [
        "from os import pipe\n",
        "# YOUR CODE HERE\n",
        "from sklearn.ensemble import RandomForestClassifier\n",
        "pipe = Pipeline([\n",
        "    ('vectorizer', TfidfVectorizer()),\n",
        "    ('classifier', RandomForestClassifier())\n",
        "])\n",
        "\n",
        "#Train the model\n",
        "pipe.fit(df.text, df.stars)\n",
        "\n",
        "#predict the star rating\n",
        "prediction = pipe.predict([fake_review])\n",
        "print(prediction)\n",
        "\n",
        "#Create parameter dict\n",
        "param_grid = {\n",
        "    'vectorizer__max_features': [500, 1000],\n",
        "    'classifier__n_estimators': [50, 100]\n",
        "}\n",
        "\n",
        "# Train the pipeline with gridsearch\n",
        "gs = GridSearchCV(pipe, param_grid, cv=5, n_jobs=1)\n",
        "gs.fit(df['text'], df['stars'])\n"
      ]
    },
    {
      "cell_type": "code",
      "execution_count": null,
      "metadata": {
        "colab": {
          "base_uri": "https://localhost:8080/"
        },
        "id": "QIomi4OyQSFf",
        "outputId": "d513fdc2-89d1-4f74-9cbd-b91c62c4520a"
      },
      "outputs": [
        {
          "output_type": "stream",
          "name": "stderr",
          "text": [
            "/usr/local/lib/python3.10/dist-packages/ipykernel/ipkernel.py:283: DeprecationWarning: `should_run_async` will not call `transform_cell` automatically in the future. Please pass the result to `transformed_cell` argument and any exception that happen during thetransform in `preprocessing_exc_tuple` in IPython 7.17 and above.\n",
            "  and should_run_async(code)\n"
          ]
        }
      ],
      "source": [
        "# Visible Testing\n",
        "prediction = gs.predict([\"This is your prediction statement.\"])[0]\n",
        "assert prediction in df.stars.values, 'You gs object should be able to accept raw text within a list. Did you include a vectorizer in your pipeline?'"
      ]
    },
    {
      "cell_type": "markdown",
      "metadata": {
        "id": "3TDqCnyGQSFf"
      },
      "source": [
        "## Part 4: Topic Modeling\n",
        "\n",
        "Let's find out what those yelp reviews are saying! :D\n",
        "\n",
        "1. Estimate a LDA topic model of the review text\n",
        "    - Set num_topics to `5`\n",
        "    - Name your LDA model `lda`\n",
        "2. Create 1-2 visualizations of the results\n",
        "    - You can use the most important 3 words of a topic in relevant visualizations.\n",
        "3. In markdown, write 1-2 paragraphs of analysis on the results of your topic model\n",
        "\n",
        "When you instantiate your LDA model, it should look like this:\n",
        "\n",
        "```python\n",
        "lda = LdaModel(corpus=corpus,\n",
        "               id2word=id2word,\n",
        "               random_state=723812,\n",
        "               num_topics = num_topics,\n",
        "               passes=1\n",
        "              )\n",
        "\n",
        "```\n",
        "\n",
        "__*Note*__: You can pass the DataFrame column of text reviews to gensim. You do not have to use a generator."
      ]
    },
    {
      "cell_type": "markdown",
      "metadata": {
        "id": "PeXqpSBQQSFf"
      },
      "source": [
        "## Note about  pyLDAvis\n",
        "\n",
        "**pyLDAvis** is the Topic modeling package that we used in class to visualize the topics that LDA generates for us.\n",
        "\n",
        "You are welcomed to use pyLDAvis if you'd like for your visualization. However, **you MUST comment out the code that imports the package and the cell that generates the visualization before you submit your notebook to CodeGrade.**\n",
        "\n",
        "Although you should leave the print out of the visualization for graders to see (i.e. comment out the cell after you run it to create the viz)."
      ]
    },
    {
      "cell_type": "markdown",
      "metadata": {
        "id": "ydNiFOocQSFf"
      },
      "source": [
        "### 1. Estimate a LDA topic model of the review text\n",
        "\n",
        "* Use the `tokenize` function you created earlier to create tokens.\n",
        "* Create an `id2word` object.\n",
        "> Hint: Use `corpora.Dictionary`\n",
        "* Create a `corpus` object.\n",
        "> Hint: Use `id2word.doc2bow`\n",
        "* Instantiate an `lda` model.\n",
        "\n",
        ">> Remember to read the LDA docs for more information on the various class attributes and methods available to you in the LDA model: https://radimrehurek.com/gensim/models/ldamodel.html"
      ]
    },
    {
      "cell_type": "code",
      "execution_count": null,
      "metadata": {
        "colab": {
          "base_uri": "https://localhost:8080/"
        },
        "id": "XPf6iIQpQSFf",
        "outputId": "6cfdbf8e-b75f-4c00-ee61-c7b5cd533715"
      },
      "outputs": [
        {
          "output_type": "stream",
          "name": "stderr",
          "text": [
            "/usr/local/lib/python3.10/dist-packages/ipykernel/ipkernel.py:283: DeprecationWarning: `should_run_async` will not call `transform_cell` automatically in the future. Please pass the result to `transformed_cell` argument and any exception that happen during thetransform in `preprocessing_exc_tuple` in IPython 7.17 and above.\n",
            "  and should_run_async(code)\n"
          ]
        }
      ],
      "source": [
        "# Do not change this value\n",
        "num_topics = 5"
      ]
    },
    {
      "cell_type": "code",
      "execution_count": null,
      "metadata": {
        "colab": {
          "base_uri": "https://localhost:8080/"
        },
        "id": "ScGaN7WV9XOA",
        "outputId": "2eb146d2-f004-4811-848f-a2dcb9577923"
      },
      "outputs": [
        {
          "output_type": "stream",
          "name": "stderr",
          "text": [
            "/usr/local/lib/python3.10/dist-packages/ipykernel/ipkernel.py:283: DeprecationWarning: `should_run_async` will not call `transform_cell` automatically in the future. Please pass the result to `transformed_cell` argument and any exception that happen during thetransform in `preprocessing_exc_tuple` in IPython 7.17 and above.\n",
            "  and should_run_async(code)\n"
          ]
        }
      ],
      "source": [
        "tokens = df['text'].apply(tokenize)"
      ]
    },
    {
      "cell_type": "code",
      "execution_count": null,
      "metadata": {
        "colab": {
          "base_uri": "https://localhost:8080/"
        },
        "id": "L8jvKMQrQSFf",
        "outputId": "290ee48c-b02f-432c-bee9-cb53fd643a30"
      },
      "outputs": [
        {
          "output_type": "stream",
          "name": "stderr",
          "text": [
            "/usr/local/lib/python3.10/dist-packages/ipykernel/ipkernel.py:283: DeprecationWarning: `should_run_async` will not call `transform_cell` automatically in the future. Please pass the result to `transformed_cell` argument and any exception that happen during thetransform in `preprocessing_exc_tuple` in IPython 7.17 and above.\n",
            "  and should_run_async(code)\n",
            "WARNING:gensim.models.ldamodel:too few updates, training might not converge; consider increasing the number of passes or iterations to improve accuracy\n"
          ]
        }
      ],
      "source": [
        "# YOUR CODE HERE\n",
        "id2word = corpora.Dictionary(tokens)\n",
        "corpus = [id2word.doc2bow(text) for text in tokens]\n",
        "lda = LdaModel(corpus=corpus,\n",
        "               id2word=id2word,\n",
        "               num_topics=num_topics)"
      ]
    },
    {
      "cell_type": "markdown",
      "metadata": {
        "id": "wMXX3T63QSFf"
      },
      "source": [
        "#### Testing"
      ]
    },
    {
      "cell_type": "code",
      "execution_count": null,
      "metadata": {
        "colab": {
          "base_uri": "https://localhost:8080/"
        },
        "id": "pND1r6v8QSFf",
        "outputId": "aec6f0c1-fcd5-4336-adf7-377764c7889a"
      },
      "outputs": [
        {
          "output_type": "stream",
          "name": "stderr",
          "text": [
            "/usr/local/lib/python3.10/dist-packages/ipykernel/ipkernel.py:283: DeprecationWarning: `should_run_async` will not call `transform_cell` automatically in the future. Please pass the result to `transformed_cell` argument and any exception that happen during thetransform in `preprocessing_exc_tuple` in IPython 7.17 and above.\n",
            "  and should_run_async(code)\n"
          ]
        }
      ],
      "source": [
        "# Visible Testing\n",
        "\n",
        "assert lda.get_topics().shape[0] == 5, 'Did your model complete its training? Did you set num_topics to 5?'"
      ]
    },
    {
      "cell_type": "markdown",
      "metadata": {
        "id": "fMuJ_dJ1QSFf"
      },
      "source": [
        "#### 2. Create 2 visualizations of the results:\n",
        "1. Create a visualization using pyLDAvis. Run the cell, then comment out your code before submission, leaving the visualization in the cell.\n",
        "\n",
        "2. Create a visualization using the matplotlib library and utilizing the subplots function. Assign this visualization to a variable called `visual_plot`.\n"
      ]
    },
    {
      "cell_type": "code",
      "execution_count": null,
      "metadata": {
        "colab": {
          "base_uri": "https://localhost:8080/",
          "height": 917
        },
        "id": "qhv5HFXVQSFg",
        "outputId": "a3e2724e-ac21-47b2-e023-72e793244722"
      },
      "outputs": [
        {
          "output_type": "stream",
          "name": "stderr",
          "text": [
            "/usr/local/lib/python3.10/dist-packages/ipykernel/ipkernel.py:283: DeprecationWarning: `should_run_async` will not call `transform_cell` automatically in the future. Please pass the result to `transformed_cell` argument and any exception that happen during thetransform in `preprocessing_exc_tuple` in IPython 7.17 and above.\n",
            "  and should_run_async(code)\n"
          ]
        },
        {
          "output_type": "execute_result",
          "data": {
            "text/plain": [
              "PreparedData(topic_coordinates=              x         y  topics  cluster       Freq\n",
              "topic                                                \n",
              "3     -0.031577  0.023021       1        1  33.422854\n",
              "0      0.024187  0.046172       2        1  19.948639\n",
              "2     -0.129637 -0.014113       3        1  18.805165\n",
              "1      0.082676  0.027338       4        1  15.023643\n",
              "4      0.054351 -0.082419       5        1  12.799700, topic_info=         Term         Freq        Total Category  logprob  loglift\n",
              "103      room  1198.000000  1198.000000  Default  30.0000  30.0000\n",
              "757       car   689.000000   689.000000  Default  29.0000  29.0000\n",
              "1166  chicken  1494.000000  1494.000000  Default  28.0000  28.0000\n",
              "374     pizza   973.000000   973.000000  Default  27.0000  27.0000\n",
              "13       call   812.000000   812.000000  Default  26.0000  26.0000\n",
              "...       ...          ...          ...      ...      ...      ...\n",
              "41       come   257.167766  3839.552803   Topic5  -5.5025  -0.6476\n",
              "350      find   223.068806  1574.299235   Topic5  -5.6448   0.1017\n",
              "40       wait   224.022668  1663.754408   Topic5  -5.6405   0.0507\n",
              "92       need   217.111723  1371.060582   Topic5  -5.6718   0.2128\n",
              "205     great   226.002835  4218.949228   Topic5  -5.6317  -0.8710\n",
              "\n",
              "[482 rows x 6 columns], token_table=       Topic      Freq  Term\n",
              "term                        \n",
              "0          1  0.227666     $\n",
              "0          2  0.343089     $\n",
              "0          3  0.156321     $\n",
              "0          4  0.117695     $\n",
              "0          5  0.154958     $\n",
              "...      ...       ...   ...\n",
              "7639       2  0.924050  yoga\n",
              "7639       5  0.028877  yoga\n",
              "11618      1  0.988878   yuk\n",
              "3481       4  0.018694     à\n",
              "3481       5  0.953376     à\n",
              "\n",
              "[1267 rows x 3 columns], R=30, lambda_step=0.01, plot_opts={'xlab': 'PC1', 'ylab': 'PC2'}, topic_order=[4, 1, 3, 2, 5])"
            ],
            "text/html": [
              "\n",
              "<link rel=\"stylesheet\" type=\"text/css\" href=\"https://cdn.jsdelivr.net/gh/bmabey/pyLDAvis@3.4.0/pyLDAvis/js/ldavis.v1.0.0.css\">\n",
              "\n",
              "\n",
              "<div id=\"ldavis_el14361336644214140489455039788\" style=\"background-color:white;\"></div>\n",
              "<script type=\"text/javascript\">\n",
              "\n",
              "var ldavis_el14361336644214140489455039788_data = {\"mdsDat\": {\"x\": [-0.031577293586669004, 0.024186638232501917, -0.12963683814690796, 0.0826761640922425, 0.054351329408832444], \"y\": [0.02302123259804145, 0.046172177171881726, -0.014112874725577882, 0.027338211540850837, -0.08241874658519627], \"topics\": [1, 2, 3, 4, 5], \"cluster\": [1, 1, 1, 1, 1], \"Freq\": [33.42285391763842, 19.94863877405864, 18.80516460179562, 15.02364259919053, 12.799700107316788]}, \"tinfo\": {\"Term\": [\"room\", \"car\", \"chicken\", \"pizza\", \"call\", \"sauce\", \"great\", \"dish\", \"hotel\", \"cheese\", \"cream\", \"day\", \"flavor\", \"tell\", \"good\", \"drink\", \"noodle\", \"appointment\", \"say\", \"sushi\", \"delicious\", \"service\", \"ask\", \"bar\", \"stay\", \"check\", \"time\", \"soup\", \"minute\", \"customer\", \"yuk\", \"church\", \"brake\", \"acrylic\", \"shawarma\", \"chai\", \"grub\", \"hall\", \"cat\", \"ikea\", \"curly\", \"pearl\", \"tequila\", \"stunning\", \"doughnut\", \"maze\", \"powder\", \"frost\", \"cannoli\", \"milkshake\", \"develop\", \"relleno\", \"ihop\", \"nordstrom\", \"contractor\", \"inexpensive\", \"persian\", \"kink\", \"festival\", \"renovate\", \"stretch\", \"muffin\", \"audience\", \"donut\", \"makeup\", \"poutine\", \"enchilada\", \"latte\", \"bagel\", \"produce\", \"pho\", \"mexican\", \"coffee\", \"milk\", \"seating\", \"chile\", \"little\", \"good\", \"taco\", \"burger\", \"pretty\", \"sandwich\", \"breakfast\", \"chocolate\", \"food\", \"pancake\", \"location\", \"place\", \"like\", \"taste\", \"nice\", \"thing\", \"come\", \"eat\", \"go\", \"chip\", \"look\", \"lot\", \"love\", \"service\", \"want\", \"try\", \"fry\", \"big\", \"great\", \"think\", \"order\", \"time\", \"get\", \"well\", \"restaurant\", \"menu\", \"price\", \"know\", \"people\", \"find\", \"chicken\", \"keg\", \"iphone\", \"anybody\", \"mojito\", \"uptown\", \"yoga\", \"massage\", \"charles\", \"patronize\", \"lion\", \"cha\", \"accent\", \"knife\", \"suzi\", \"lash\", \"photography\", \"recline\", \"came\", \"sporting\", \"hills\", \"hahaha\", \"howard\", \"albeit\", \"therapist\", \"pond\", \"pup\", \"tiki\", \"vaccination\", \"dishonest\", \"mel\", \"sampling\", \"bride\", \"pedicure\", \"pistachio\", \"meatloaf\", \"overrate\", \"relaxing\", \"gel\", \"hair\", \"spa\", \"bartender\", \"barber\", \"movie\", \"theater\", \"haircut\", \"manicure\", \"sushi\", \"library\", \"studio\", \"wine\", \"bar\", \"salon\", \"drink\", \"relax\", \"great\", \"beer\", \"dog\", \"environment\", \"atmosphere\", \"club\", \"knowledgeable\", \"place\", \"$\", \"time\", \"amazing\", \"service\", \"friendly\", \"price\", \"new\", \"come\", \"wait\", \"fun\", \"minute\", \"experience\", \"year\", \"food\", \"night\", \"staff\", \"day\", \"look\", \"good\", \"go\", \"love\", \"like\", \"people\", \"order\", \"definitely\", \"recommend\", \"work\", \"get\", \"concoction\", \"asia\", \"teriyaki\", \"thrill\", \"froyo\", \"balsamic\", \"specially\", \"grilled\", \"rick\", \"lentil\", \"umami\", \"ponzu\", \"helping\", \"cobbler\", \"toro\", \"met\", \"roti\", \"crate\", \"trout\", \"crunchiness\", \"pepperoni\", \"mahi\", \"alfredo\", \"variation\", \"teppan\", \"uni\", \"kale\", \"firmly\", \"justice\", \"buttercream\", \"crust\", \"yellowtail\", \"halibut\", \"freshness\", \"chorizo\", \"noodle\", \"bbq\", \"raman\", \"tempura\", \"dough\", \"pizza\", \"brisket\", \"taiwanese\", \"tofu\", \"italian\", \"pork\", \"shrimp\", \"cream\", \"savory\", \"fried\", \"sauce\", \"soup\", \"dish\", \"tomato\", \"scallop\", \"chicken\", \"beef\", \"tender\", \"fish\", \"spicy\", \"cheese\", \"crispy\", \"flavor\", \"portion\", \"garlic\", \"delicious\", \"rice\", \"chinese\", \"pepper\", \"ice\", \"order\", \"salad\", \"meat\", \"dessert\", \"good\", \"try\", \"fresh\", \"fry\", \"sweet\", \"eat\", \"place\", \"like\", \"love\", \"food\", \"menu\", \"taste\", \"time\", \"great\", \"get\", \"come\", \"definitely\", \"restaurant\", \"$\", \"dunkin\", \"unorganized\", \"biryani\", \"carl\", \"exhibit\", \"roach\", \"lump\", \"iffy\", \"lense\", \"accomodate\", \"floral\", \"smog\", \"airline\", \"involved\", \"tai\", \"grubhub\", \"und\", \"pakora\", \"enterprise\", \"mystere\", \"tick\", \"informed\", \"goodyear\", \"citizen\", \"contest\", \"porter\", \"isle\", \"outfit\", \"ache\", \"h\", \"attorney\", \"elevator\", \"harness\", \"walkway\", \"alex\", \"mgm\", \"mattress\", \"suite\", \"housekeeping\", \"room\", \"shower\", \"direct\", \"hotel\", \"=\", \"male\", \"furniture\", \"bed\", \"desk\", \"airport\", \"fly\", \"rude\", \"tub\", \"sleep\", \"stay\", \"pool\", \"check\", \"guy\", \"min\", \"fridge\", \"help\", \"lobby\", \"daughter\", \"floor\", \"free\", \"go\", \"ask\", \"away\", \"walk\", \"get\", \"3\", \"time\", \"say\", \"minute\", \"tell\", \"come\", \"know\", \"right\", \"manager\", \"need\", \"leave\", \"food\", \"service\", \"people\", \"bad\", \"wait\", \"order\", \"take\", \"like\", \"work\", \"great\", \"place\", \"want\", \"good\", \"et\", \"cox\", \"est\", \"\\u00e0\", \"des\", \"une\", \"freezer\", \"mais\", \"surgery\", \"incompetent\", \"vous\", \"les\", \"johnny\", \"avec\", \"je\", \"heartbeat\", \"installer\", \"tr\\u00e8s\", \"dans\", \"sont\", \"le\", \"sur\", \"dash\", \"pas\", \"instruct\", \"thread\", \"inspector\", \"capacity\", \"lawyer\", \"a.m.\", \"de\", \"tart\", \"que\", \"en\", \"un\", \"owe\", \"dr.\", \"au\", \"car\", \"la\", \"procedure\", \"warranty\", \"repair\", \"appointment\", \"call\", \"doctor\", \"company\", \"office\", \"insurance\", \"phone\", \"dr\", \"issue\", \"dealership\", \"schedule\", \"email\", \"tire\", \"day\", \"fix\", \"tell\", \"patient\", \"week\", \"service\", \"say\", \"care\", \"2\", \"customer\", \"hour\", \"problem\", \"get\", \"work\", \"$\", \"time\", \"take\", \"ask\", \"leave\", \"experience\", \"review\", \"go\", \"like\", \"order\", \"try\", \"good\", \"know\", \"food\", \"come\", \"find\", \"wait\", \"need\", \"great\"], \"Freq\": [1198.0, 689.0, 1494.0, 973.0, 812.0, 993.0, 4218.0, 966.0, 524.0, 919.0, 634.0, 1561.0, 788.0, 1519.0, 6221.0, 1381.0, 363.0, 383.0, 1505.0, 555.0, 1308.0, 3681.0, 1458.0, 1057.0, 653.0, 994.0, 4297.0, 577.0, 1059.0, 1115.0, 48.60135160719462, 37.78604103559743, 37.58684186608386, 28.15339552778496, 38.55469745695575, 30.46731377313634, 21.75851440286235, 26.606309465326476, 64.15357182904158, 18.134607159466352, 17.83174521965212, 19.403664657120537, 26.110008730548497, 16.175988720461604, 17.29893814112914, 19.659802360339743, 19.43280452937507, 20.849151903705067, 14.999672533911669, 29.03884635980347, 16.641205486538983, 16.181894123168007, 14.585951550638816, 13.343804566799154, 22.97680605281414, 39.206712885869116, 12.276219944551382, 14.464387990928747, 13.255356568561627, 12.257210468821008, 26.114611277005285, 32.504784380448136, 19.208432786766338, 147.1623286071315, 23.865030398504786, 51.80255211450878, 56.66620678497191, 54.479815033867716, 62.89835672957215, 44.45113478640644, 88.67539279840865, 167.17902368638067, 435.37005775074846, 97.28260533860676, 133.78716559685608, 32.85557992388211, 851.6333342681161, 3239.4590596725293, 297.7063398688332, 456.44235644850005, 645.9123947798356, 378.5660430539496, 307.3846704445485, 207.0311502235892, 2351.614040519031, 105.64462680495801, 540.8969744300741, 2249.6671762465626, 1684.6496749549608, 643.0819054180195, 852.1496632714599, 607.6164467314974, 1508.725314391486, 705.2857810361356, 1198.8557291149186, 200.61404982621454, 835.7397441344331, 510.63780123180754, 905.2358176495742, 1315.8691059227851, 742.2957776044477, 990.1731276908038, 453.8900910199967, 392.67718200858053, 1342.4983657942457, 616.6378980414447, 1154.99837076463, 1276.3191940922954, 956.2719211267281, 534.5191874503512, 621.4189082370931, 530.2864172468136, 600.4788943954203, 579.7830839978338, 547.7465607761716, 559.9263178193196, 549.1555536648091, 27.6194732381849, 23.01701557014174, 28.25812715191671, 16.704890242886915, 16.006047131659574, 32.41705361676452, 161.8303181579853, 12.461663418705726, 16.777003391412393, 11.23120653178099, 16.84365962258387, 11.004983398453799, 19.880189470180948, 9.847367916722913, 38.20771855426916, 23.586984435500195, 12.656469931356707, 10.238776545401713, 10.05132914507645, 17.126319070811014, 9.164936334207953, 9.256132955116128, 9.086999993854798, 35.48314868203412, 8.622688437316645, 14.546191540336014, 9.161482480381904, 10.107314770682613, 8.4112407590274, 9.917817807140361, 10.698257857318184, 14.203042435084148, 122.68954113568509, 23.981723872674042, 14.520786971762975, 11.288408303100551, 46.91347904374865, 84.5970359340242, 292.7796233810555, 88.40729771511998, 184.60724510290746, 48.160337444068126, 89.65081672238644, 55.08959805972595, 66.24133948445406, 54.66671128770543, 370.53445184034655, 31.260038338712185, 48.88336897815511, 272.6975494301716, 576.7817994904855, 149.03461098852188, 690.5407448402368, 63.495099326365946, 1682.2026937094731, 319.0984130404056, 213.9096265023303, 78.18918992380738, 232.37977227884878, 108.22901346864113, 109.3648077193745, 1459.2836537329035, 754.9634342712026, 1222.3581863141146, 494.7665350297889, 1011.0489483298446, 495.67178239149405, 578.8937838900454, 424.2264666923135, 933.7228212498438, 518.646669243364, 206.25760333540208, 367.90592886427663, 433.3372237349896, 330.5019109354036, 896.5240772713149, 344.8572605981143, 448.28044392796, 438.0263611156854, 457.97508826599443, 825.4132617352245, 575.9047094789447, 485.0414441261296, 606.3236213810006, 384.54488540962177, 549.9745370361712, 367.07638585785065, 362.06401125413043, 361.08019801782046, 369.93488341908363, 21.188043198625408, 26.53403611365732, 43.59770339614221, 18.09397258158677, 16.104378919176675, 31.0448213628059, 13.92798511640712, 36.97178039643171, 10.972884691659743, 10.931942121238643, 11.430331866043286, 14.43155337613902, 12.44940210085449, 12.042522831383092, 11.423714912212548, 12.612028644901612, 25.476866467551638, 12.327051846104867, 14.863113370875134, 9.185883650735104, 39.479921505129795, 10.974134980326905, 22.115889566886295, 8.76306084044977, 7.7662341446880045, 41.19827401036814, 27.045141172819747, 8.714316441770638, 7.312330803608633, 9.685436015638013, 156.25425296096017, 33.59725263250965, 21.871709673811562, 28.612746899469826, 40.3727355132603, 307.5753928527139, 228.84493937358286, 153.28789386884588, 58.396438365009836, 48.91618591425492, 722.5824072538687, 80.02315215368233, 25.878145738591474, 70.2829475599349, 151.73467657747224, 292.4921693315409, 280.048411737776, 426.00877779378214, 58.85259006769456, 180.81020292343524, 613.2497642725457, 377.7268645342508, 595.2442263482712, 171.04624419375895, 75.54019155955376, 830.6000540717024, 319.06272682225256, 150.8125650823643, 273.79464855676014, 257.066320294034, 506.7340391920517, 153.4166722528163, 429.4273880116389, 313.90369319975133, 123.78417804743397, 616.669324008441, 312.4745390720888, 132.16736490949998, 127.88992641580516, 276.16602669798226, 1152.464398606391, 374.78366073430243, 334.74652050277155, 283.16729795480074, 1547.8894593398209, 761.2356896841642, 388.34433208075404, 380.3923774678512, 310.9047915348633, 482.74347327160984, 897.5950256739171, 705.2209015191565, 541.9548139131997, 740.1405063824594, 409.7682644233311, 390.7820470049381, 614.7254447840943, 604.844155836798, 513.1784612792056, 543.2026532554212, 365.61899894660235, 364.6119919068711, 344.33360991782337, 23.14755021461908, 18.39301931002174, 14.204293101633333, 17.911735929709224, 28.756455423358446, 19.777735778151037, 12.082577481587874, 12.39091219020286, 12.753200893330408, 16.751480448776487, 13.69921358745727, 15.336321652540285, 25.557286980718597, 9.560119407772394, 12.631054446015442, 9.848895901129401, 9.147272001646684, 18.483880802138636, 8.773341144546636, 8.982165041785413, 10.898690728613778, 11.00378529137927, 9.81721657059199, 12.573420692530592, 9.547704127280827, 8.05227270903627, 7.496609708712306, 7.974080255313714, 11.900290950079553, 7.96908160176395, 22.31602381948098, 58.81646142191894, 27.29388538414108, 19.448449610251377, 21.16961780913999, 49.58008753178691, 19.360521150029815, 64.75191803186055, 26.78812163952654, 805.9203758647686, 84.36062626361425, 44.871133917089956, 358.41992845983384, 45.30317533392529, 20.27921742550178, 54.75299895007151, 115.4729959170061, 109.45029399975316, 85.94180845748798, 68.25310471251639, 197.6635751084686, 43.218921061004444, 62.20293875523836, 301.4364762039396, 144.7198538422532, 400.95674396806834, 287.52146603394056, 124.2481359949654, 46.02135653249093, 241.31265837704112, 58.792842002688324, 112.13614091463596, 124.02924259623437, 209.84126493111793, 638.9178412371891, 383.43161763160776, 221.17508635005856, 266.6447096277517, 578.7619734100355, 271.740383821107, 726.7732536636568, 369.95403220957894, 291.9112644013403, 349.6580204287793, 596.7342481093904, 359.76740770671444, 280.73831363994776, 171.19251615637856, 307.7192417192832, 256.80237695119047, 560.5326435714626, 462.08466295949984, 290.6499874144255, 267.0884616216034, 307.4166373058994, 415.9891423126474, 282.57328390738667, 407.75317151009585, 283.95377861983417, 363.4011777733106, 374.9865546272833, 278.8040728499323, 286.57384459013707, 64.64840599557961, 26.211013765638864, 29.17836468298074, 51.486922704972315, 31.76685331847593, 28.79780038784929, 23.12299065722035, 22.397038844220507, 31.390563335024027, 20.421906590561882, 23.891599292922454, 42.943565121611186, 19.346788680038795, 16.060806921850013, 19.873094518339887, 16.754486580042567, 17.042828194180945, 23.15365810910327, 13.666539667472291, 17.469047572741765, 71.03365479892467, 12.658330891926, 12.76523091293895, 23.347726180501994, 13.626117310970201, 13.167020800927522, 13.56027767193556, 11.968191127598637, 13.407488471814917, 11.951179256951376, 133.89821867686157, 36.990319237114974, 26.958375693971682, 39.13970680558557, 51.865254369948126, 18.248415429424167, 156.80823551209718, 28.087734032173945, 494.8929670249563, 142.74298867541208, 49.38901415319892, 58.35930717248986, 137.3437398529072, 233.7762653297782, 439.090755798487, 98.51425480419417, 209.07562035629527, 178.0666348129865, 70.26611474114246, 178.4458147305379, 64.17454493340159, 168.16183551790886, 55.42150004777495, 92.18868479244357, 79.09657093649116, 84.42470608203206, 427.6744365113295, 150.32739488603568, 373.52187457946394, 89.14123276013456, 195.92808733207167, 560.2672568998879, 325.5895965214832, 192.60926791735852, 255.5231699840638, 260.5086037448923, 243.44941455785207, 144.63183785215122, 399.83474291573117, 279.16877970215717, 341.38610116030316, 457.0016787015471, 265.40235278577677, 261.84362844782646, 219.08576454266398, 251.14715612558692, 208.59084584539596, 318.60919020974126, 310.85162296684905, 302.82149858469353, 264.5617675321788, 322.56605713320954, 235.2677797805951, 287.71270278723534, 257.16776648410485, 223.0688061170359, 224.02266797431992, 217.11172289945966, 226.00283466209595], \"Total\": [1198.0, 689.0, 1494.0, 973.0, 812.0, 993.0, 4218.0, 966.0, 524.0, 919.0, 634.0, 1561.0, 788.0, 1519.0, 6221.0, 1381.0, 363.0, 383.0, 1505.0, 555.0, 1308.0, 3681.0, 1458.0, 1057.0, 653.0, 994.0, 4297.0, 577.0, 1059.0, 1115.0, 49.551113818293025, 38.864825700030416, 38.71622886093089, 29.051488511225745, 39.87494993117821, 31.614802604918356, 22.633734063100547, 27.79297046684337, 67.09264609907672, 19.035688050358974, 18.720740251333932, 20.41902453624562, 27.48940893114481, 17.054010788457138, 18.25809090507507, 20.793395502249187, 20.561131950522128, 22.09109355028387, 15.910203652391303, 30.803743781323178, 17.68439644224408, 17.209622268139434, 15.556495188341515, 14.23922009242968, 24.569679352856006, 41.92746505643163, 13.136223219486547, 15.507593859872083, 14.217553293973928, 13.151804570003893, 28.191592352206058, 35.30755410333926, 20.69040897754856, 165.77093184008547, 25.91053890291165, 57.925714888762464, 63.643914119374415, 61.259594687377394, 72.67700738264779, 50.49134085409829, 106.77254832503058, 213.2985885340761, 610.5419664509734, 119.59749469673747, 172.57918594056525, 36.81188882107794, 1383.1389896373112, 6221.901682470921, 429.29857083035216, 703.5117651293091, 1052.6000406003302, 575.4892599357338, 465.66086170528996, 296.1152036276345, 4836.523970531503, 138.05335814590472, 934.4877465974694, 5197.703858052408, 3714.798992332063, 1197.5240549224325, 1726.723641143832, 1161.9076752456574, 3839.552803490246, 1541.5276284631236, 3038.5127993024607, 316.19782932153345, 1928.9952303417635, 1055.07693612396, 2210.5642983752555, 3681.5583866327324, 1740.3189642992998, 2572.49537124791, 934.9436588151665, 777.1678533596142, 4218.949227775924, 1443.7208925994112, 3576.247947304533, 4297.177757555708, 2817.981982150784, 1198.7000520270526, 1686.9024119256428, 1299.8002625036788, 1749.659557162431, 1657.9025072941263, 1443.6284554134263, 1574.2992353201103, 1494.7827635677847, 28.514071277028442, 24.144625379834544, 29.70317504487821, 17.567762531368338, 16.854588815061444, 34.63015852150001, 174.29736770571805, 13.423936756397477, 18.08877143532641, 12.130777278187368, 18.225550701036845, 11.939017296197393, 21.575545712261185, 10.689724477150913, 41.49252515841348, 25.638305806332315, 13.774197683127719, 11.1661463694799, 10.972391157310604, 18.70061663697088, 10.017791521876312, 10.139862373243336, 9.985609538957346, 38.99534493741874, 9.480130702791893, 16.018876894670765, 10.089042267085837, 11.137464181369443, 9.283429048437469, 10.953332897782932, 11.817812036790503, 15.746518767041675, 145.08981142068177, 27.04454008862452, 16.177518389233885, 12.48539474980549, 55.33175656279192, 103.15861996279921, 389.84366198970054, 109.46094311803282, 240.76014981967478, 57.68319008040288, 113.22605194521746, 67.48671131068338, 83.16877162169791, 68.00315129396034, 555.9327119058812, 37.34387623754155, 62.660370108420636, 442.9660447313868, 1057.6051005037668, 229.24254251125868, 1381.6582656092307, 85.4317087744023, 4218.949227775924, 600.1108604755631, 377.0974946586658, 114.14562553531817, 449.45456512033894, 174.16909974254685, 177.3071363871416, 5197.703858052408, 2200.5945983686056, 4297.177757555708, 1373.637371728581, 3681.5583866327324, 1401.7558463068701, 1749.659557162431, 1137.8442673881066, 3839.552803490246, 1663.7544077764242, 449.82860935606146, 1059.0645583135515, 1429.46189976003, 951.1670762386707, 4836.523970531503, 1039.317237147735, 1610.1779780116506, 1561.4432228574528, 1928.9952303417635, 6221.901682470921, 3038.5127993024607, 2210.5642983752555, 3714.798992332063, 1443.6284554134263, 3576.247947304533, 1422.5669547379866, 1393.8787804071626, 1463.8950298928244, 2817.981982150784, 22.01551860471083, 27.664888917751693, 45.8163853660783, 19.020384134047823, 16.989234087206547, 32.81089736367668, 14.747164456440391, 39.26322205902948, 11.80451239909921, 11.784052155574878, 12.323479616014616, 15.568878274310057, 13.45536166662538, 13.049865457866993, 12.403824217472573, 13.71541252758392, 27.73749849842855, 13.430273096171751, 16.198371437251023, 10.048402663333812, 43.20906606959844, 12.02689337397682, 24.35374964438964, 9.651052250615706, 8.55767343476134, 45.47988059378558, 29.862851000028737, 9.672510268238929, 8.117309411451965, 10.76847032191836, 174.5267571135656, 37.56584764127112, 24.45229331870874, 32.083614935536794, 45.67511670270248, 363.14509999695355, 273.52421383510904, 183.95827365030885, 68.32633244580815, 57.064879375183104, 973.7486702223956, 97.46996472724314, 29.51564262642328, 86.69732251619894, 199.36763300115572, 412.7034754988762, 400.00571959095134, 634.8914723728731, 72.25382636528319, 248.34674474026502, 993.8783344369793, 577.3022933110776, 966.7688531602175, 240.33963365638104, 95.56502962674433, 1494.7827635677847, 512.554359689911, 215.31469523342744, 433.47081776679386, 405.8746474583603, 919.4095887244049, 222.87351474812098, 788.6556130005526, 548.7007440667154, 174.77913655342562, 1308.3289979626345, 560.4456405760426, 194.76918406683188, 186.91196413123794, 511.4654273373471, 3576.247947304533, 795.246180762319, 698.0598048521524, 556.934784258157, 6221.901682470921, 2572.49537124791, 961.2035701753803, 934.9436588151665, 663.6196073729341, 1541.5276284631236, 5197.703858052408, 3714.798992332063, 2210.5642983752555, 4836.523970531503, 1299.8002625036788, 1197.5240549224325, 4297.177757555708, 4218.949227775924, 2817.981982150784, 3839.552803490246, 1422.5669547379866, 1686.9024119256428, 2200.5945983686056, 24.10757610826361, 19.28078186513433, 15.043923840199504, 19.007169018291332, 30.62881173464742, 21.113155412652624, 12.921470252037164, 13.261652316389982, 13.65577590855091, 18.0219466916444, 14.752277940152139, 16.522678642200734, 27.546499464858947, 10.397569242249338, 13.745268113329612, 10.728496835371066, 9.966354626691638, 20.2326748088904, 9.614362708515602, 9.93716651485029, 12.079358784879489, 12.220543934370362, 10.910236201834929, 13.99977066151051, 10.635445271406144, 8.974740882248524, 8.356620148323149, 8.891713132440218, 13.278507181905445, 8.898993143313724, 24.940374088039786, 66.76369489501694, 30.753017255319723, 21.86995885945002, 23.831923575568855, 57.068445560286825, 22.03005476174571, 80.25964288558856, 31.41494022819529, 1198.3798905366987, 107.6514087125984, 54.853704471464546, 524.2252552883738, 56.09297984908581, 23.594642690005383, 71.65838741101184, 166.4611380796529, 162.96707066479397, 128.32073789952727, 98.56115919715936, 349.61792428864754, 57.74246894651605, 90.38649401750564, 653.8903305778567, 269.3717969896451, 994.1114145335464, 678.5636232330124, 236.9808641980744, 66.48945542514006, 614.356169508759, 93.06711658462058, 225.5855155773533, 276.5500097083637, 588.1742392382861, 3038.5127993024607, 1458.6996385301838, 654.4675030694932, 875.7389770201413, 2817.981982150784, 929.1161801026873, 4297.177757555708, 1505.2544514824954, 1059.0645583135515, 1519.3781654172756, 3839.552803490246, 1657.9025072941263, 1119.3152767019094, 478.3330485024917, 1371.0605822604882, 1031.2754299871567, 4836.523970531503, 3681.5583866327324, 1443.6284554134263, 1217.6200109598174, 1663.7544077764242, 3576.247947304533, 1427.179321670219, 3714.798992332063, 1463.8950298928244, 4218.949227775924, 5197.703858052408, 1740.3189642992998, 6221.901682470921, 66.78275260860374, 27.17888184483176, 30.311034039276066, 53.4941350164945, 33.03422698470399, 29.996687601258937, 24.09864585336272, 23.408919180454763, 32.915691586089686, 21.416252349752515, 25.05834610264238, 45.061706119047535, 20.389687818609524, 16.93260598290338, 20.958254566970904, 17.678206200139154, 17.988577540612866, 24.563590203658865, 14.49976368946229, 18.54333070384273, 75.47466371571053, 13.504716555239714, 13.629437798422664, 24.974361617176925, 14.594917409547639, 14.139175109242082, 14.565474922103233, 12.865160884432221, 14.421246682099074, 12.864031276571387, 146.11034946625227, 39.93534394621971, 29.296240482127853, 42.89999280378863, 57.72823740485692, 19.72500619773079, 193.61423913469457, 31.308274899761205, 689.1772922272426, 189.2903021083062, 60.17126136654965, 73.2278987927912, 199.05805821084184, 383.3988975225771, 812.2902835458665, 146.78429262562094, 396.46976715377997, 323.70478919454246, 103.75489636801638, 377.9389385342856, 95.69883805111867, 355.91434887254, 78.93232070712646, 158.67182424102282, 130.79082821921725, 144.03854166008693, 1561.4432228574528, 364.2927850149887, 1519.3781654172756, 171.59998092098374, 638.8945571577437, 3681.5583866327324, 1505.2544514824954, 634.6188899139964, 1073.926370287614, 1115.5529978094348, 1008.0611260986578, 400.6274717317525, 2817.981982150784, 1463.8950298928244, 2200.5945983686056, 4297.177757555708, 1427.179321670219, 1458.6996385301838, 1031.2754299871567, 1429.46189976003, 925.4857560555323, 3038.5127993024607, 3714.798992332063, 3576.247947304533, 2572.49537124791, 6221.901682470921, 1657.9025072941263, 4836.523970531503, 3839.552803490246, 1574.2992353201103, 1663.7544077764242, 1371.0605822604882, 4218.949227775924], \"Category\": [\"Default\", \"Default\", \"Default\", \"Default\", \"Default\", \"Default\", \"Default\", \"Default\", \"Default\", \"Default\", \"Default\", \"Default\", \"Default\", \"Default\", \"Default\", \"Default\", \"Default\", \"Default\", \"Default\", \"Default\", \"Default\", \"Default\", \"Default\", \"Default\", \"Default\", \"Default\", \"Default\", \"Default\", \"Default\", \"Default\", \"Topic1\", \"Topic1\", \"Topic1\", \"Topic1\", \"Topic1\", \"Topic1\", \"Topic1\", \"Topic1\", \"Topic1\", \"Topic1\", \"Topic1\", \"Topic1\", \"Topic1\", \"Topic1\", \"Topic1\", \"Topic1\", \"Topic1\", \"Topic1\", \"Topic1\", \"Topic1\", \"Topic1\", \"Topic1\", \"Topic1\", \"Topic1\", \"Topic1\", \"Topic1\", \"Topic1\", \"Topic1\", \"Topic1\", \"Topic1\", \"Topic1\", \"Topic1\", \"Topic1\", \"Topic1\", \"Topic1\", \"Topic1\", \"Topic1\", \"Topic1\", \"Topic1\", \"Topic1\", \"Topic1\", \"Topic1\", \"Topic1\", \"Topic1\", \"Topic1\", \"Topic1\", \"Topic1\", \"Topic1\", \"Topic1\", \"Topic1\", \"Topic1\", \"Topic1\", \"Topic1\", \"Topic1\", \"Topic1\", \"Topic1\", \"Topic1\", \"Topic1\", \"Topic1\", \"Topic1\", \"Topic1\", \"Topic1\", \"Topic1\", \"Topic1\", \"Topic1\", \"Topic1\", \"Topic1\", \"Topic1\", \"Topic1\", \"Topic1\", \"Topic1\", \"Topic1\", \"Topic1\", \"Topic1\", \"Topic1\", \"Topic1\", \"Topic1\", \"Topic1\", \"Topic1\", \"Topic1\", \"Topic1\", \"Topic1\", \"Topic1\", \"Topic1\", \"Topic1\", \"Topic1\", \"Topic1\", \"Topic2\", \"Topic2\", \"Topic2\", \"Topic2\", \"Topic2\", \"Topic2\", \"Topic2\", \"Topic2\", \"Topic2\", \"Topic2\", \"Topic2\", \"Topic2\", \"Topic2\", \"Topic2\", \"Topic2\", \"Topic2\", \"Topic2\", \"Topic2\", \"Topic2\", \"Topic2\", \"Topic2\", \"Topic2\", \"Topic2\", \"Topic2\", \"Topic2\", \"Topic2\", \"Topic2\", \"Topic2\", \"Topic2\", \"Topic2\", \"Topic2\", \"Topic2\", \"Topic2\", \"Topic2\", \"Topic2\", \"Topic2\", \"Topic2\", \"Topic2\", \"Topic2\", \"Topic2\", \"Topic2\", \"Topic2\", \"Topic2\", \"Topic2\", \"Topic2\", \"Topic2\", \"Topic2\", \"Topic2\", \"Topic2\", \"Topic2\", \"Topic2\", \"Topic2\", \"Topic2\", \"Topic2\", \"Topic2\", \"Topic2\", \"Topic2\", \"Topic2\", \"Topic2\", \"Topic2\", \"Topic2\", \"Topic2\", \"Topic2\", \"Topic2\", \"Topic2\", \"Topic2\", \"Topic2\", \"Topic2\", \"Topic2\", \"Topic2\", \"Topic2\", \"Topic2\", \"Topic2\", \"Topic2\", \"Topic2\", \"Topic2\", \"Topic2\", \"Topic2\", \"Topic2\", \"Topic2\", \"Topic2\", \"Topic2\", \"Topic2\", \"Topic2\", \"Topic2\", \"Topic2\", \"Topic2\", \"Topic2\", \"Topic2\", \"Topic2\", \"Topic3\", \"Topic3\", \"Topic3\", \"Topic3\", \"Topic3\", \"Topic3\", \"Topic3\", \"Topic3\", \"Topic3\", \"Topic3\", \"Topic3\", \"Topic3\", \"Topic3\", \"Topic3\", \"Topic3\", \"Topic3\", \"Topic3\", \"Topic3\", \"Topic3\", \"Topic3\", \"Topic3\", \"Topic3\", \"Topic3\", \"Topic3\", \"Topic3\", \"Topic3\", \"Topic3\", \"Topic3\", \"Topic3\", \"Topic3\", \"Topic3\", \"Topic3\", \"Topic3\", \"Topic3\", \"Topic3\", \"Topic3\", \"Topic3\", \"Topic3\", \"Topic3\", \"Topic3\", \"Topic3\", \"Topic3\", \"Topic3\", \"Topic3\", \"Topic3\", \"Topic3\", \"Topic3\", \"Topic3\", \"Topic3\", \"Topic3\", \"Topic3\", \"Topic3\", \"Topic3\", \"Topic3\", \"Topic3\", \"Topic3\", \"Topic3\", \"Topic3\", \"Topic3\", \"Topic3\", \"Topic3\", \"Topic3\", \"Topic3\", \"Topic3\", \"Topic3\", \"Topic3\", \"Topic3\", \"Topic3\", \"Topic3\", \"Topic3\", \"Topic3\", \"Topic3\", \"Topic3\", \"Topic3\", \"Topic3\", \"Topic3\", \"Topic3\", \"Topic3\", \"Topic3\", \"Topic3\", \"Topic3\", \"Topic3\", \"Topic3\", \"Topic3\", \"Topic3\", \"Topic3\", \"Topic3\", \"Topic3\", \"Topic3\", \"Topic3\", \"Topic3\", \"Topic3\", \"Topic3\", \"Topic4\", \"Topic4\", \"Topic4\", \"Topic4\", \"Topic4\", \"Topic4\", \"Topic4\", \"Topic4\", \"Topic4\", \"Topic4\", \"Topic4\", \"Topic4\", \"Topic4\", \"Topic4\", \"Topic4\", \"Topic4\", \"Topic4\", \"Topic4\", \"Topic4\", \"Topic4\", \"Topic4\", \"Topic4\", \"Topic4\", \"Topic4\", \"Topic4\", \"Topic4\", \"Topic4\", \"Topic4\", \"Topic4\", \"Topic4\", \"Topic4\", \"Topic4\", \"Topic4\", \"Topic4\", \"Topic4\", \"Topic4\", \"Topic4\", \"Topic4\", \"Topic4\", \"Topic4\", \"Topic4\", \"Topic4\", \"Topic4\", \"Topic4\", \"Topic4\", \"Topic4\", \"Topic4\", \"Topic4\", \"Topic4\", \"Topic4\", \"Topic4\", \"Topic4\", \"Topic4\", \"Topic4\", \"Topic4\", \"Topic4\", \"Topic4\", \"Topic4\", \"Topic4\", \"Topic4\", \"Topic4\", \"Topic4\", \"Topic4\", \"Topic4\", \"Topic4\", \"Topic4\", \"Topic4\", \"Topic4\", \"Topic4\", \"Topic4\", \"Topic4\", \"Topic4\", \"Topic4\", \"Topic4\", \"Topic4\", \"Topic4\", \"Topic4\", \"Topic4\", \"Topic4\", \"Topic4\", \"Topic4\", \"Topic4\", \"Topic4\", \"Topic4\", \"Topic4\", \"Topic4\", \"Topic4\", \"Topic4\", \"Topic4\", \"Topic4\", \"Topic4\", \"Topic4\", \"Topic4\", \"Topic5\", \"Topic5\", \"Topic5\", \"Topic5\", \"Topic5\", \"Topic5\", \"Topic5\", \"Topic5\", \"Topic5\", \"Topic5\", \"Topic5\", \"Topic5\", \"Topic5\", \"Topic5\", \"Topic5\", \"Topic5\", \"Topic5\", \"Topic5\", \"Topic5\", \"Topic5\", \"Topic5\", \"Topic5\", \"Topic5\", \"Topic5\", \"Topic5\", \"Topic5\", \"Topic5\", \"Topic5\", \"Topic5\", \"Topic5\", \"Topic5\", \"Topic5\", \"Topic5\", \"Topic5\", \"Topic5\", \"Topic5\", \"Topic5\", \"Topic5\", \"Topic5\", \"Topic5\", \"Topic5\", \"Topic5\", \"Topic5\", \"Topic5\", \"Topic5\", \"Topic5\", \"Topic5\", \"Topic5\", \"Topic5\", \"Topic5\", \"Topic5\", \"Topic5\", \"Topic5\", \"Topic5\", \"Topic5\", \"Topic5\", \"Topic5\", \"Topic5\", \"Topic5\", \"Topic5\", \"Topic5\", \"Topic5\", \"Topic5\", \"Topic5\", \"Topic5\", \"Topic5\", \"Topic5\", \"Topic5\", \"Topic5\", \"Topic5\", \"Topic5\", \"Topic5\", \"Topic5\", \"Topic5\", \"Topic5\", \"Topic5\", \"Topic5\", \"Topic5\", \"Topic5\", \"Topic5\", \"Topic5\", \"Topic5\", \"Topic5\", \"Topic5\", \"Topic5\", \"Topic5\", \"Topic5\", \"Topic5\", \"Topic5\"], \"logprob\": [30.0, 29.0, 28.0, 27.0, 26.0, 25.0, 24.0, 23.0, 22.0, 21.0, 20.0, 19.0, 18.0, 17.0, 16.0, 15.0, 14.0, 13.0, 12.0, 11.0, 10.0, 9.0, 8.0, 7.0, 6.0, 5.0, 4.0, 3.0, 2.0, 1.0, -8.1284, -8.3801, -8.3854, -8.6744, -8.36, -8.5954, -8.9321, -8.7309, -7.8508, -9.1143, -9.1311, -9.0466, -8.7498, -9.2285, -9.1614, -9.0335, -9.0451, -8.9748, -9.304, -8.6434, -9.2002, -9.2282, -9.332, -9.421, -8.8776, -8.3432, -9.5044, -9.3404, -9.4277, -9.506, -8.7496, -8.5307, -9.0567, -7.0205, -8.8397, -8.0646, -7.9749, -8.0142, -7.8706, -8.2177, -7.5271, -6.893, -5.9359, -7.4345, -7.1158, -8.52, -5.2649, -3.9289, -6.316, -5.8886, -5.5414, -6.0757, -6.284, -6.6792, -4.2492, -7.352, -5.7188, -4.2935, -4.5828, -5.5458, -5.2643, -5.6025, -4.6931, -5.4535, -4.9229, -6.7107, -5.2838, -5.7764, -5.2039, -4.8298, -5.4023, -5.1142, -5.8942, -6.0391, -4.8098, -5.5878, -4.9602, -4.8603, -5.149, -5.7307, -5.5801, -5.7387, -5.6143, -5.6494, -5.7063, -5.6843, -5.7037, -8.1775, -8.3598, -8.1546, -8.6803, -8.723, -8.0173, -6.4094, -8.9733, -8.676, -9.0773, -8.672, -9.0976, -8.5063, -9.2088, -7.853, -8.3353, -8.9578, -9.1698, -9.1883, -8.6554, -9.2806, -9.2707, -9.2891, -7.9269, -9.3416, -8.8187, -9.281, -9.1827, -9.3664, -9.2017, -9.1259, -8.8425, -6.6863, -8.3187, -8.8204, -9.0722, -7.6477, -7.0581, -5.8166, -7.014, -6.2778, -7.6215, -7.0001, -7.487, -7.3027, -7.4947, -5.581, -8.0537, -7.6066, -5.8876, -5.1385, -6.4918, -4.9585, -7.345, -4.0681, -5.7305, -6.1304, -7.1369, -6.0476, -6.8117, -6.8013, -4.2103, -4.8693, -4.3875, -5.2919, -4.5772, -5.2901, -5.1349, -5.4457, -4.6568, -5.2448, -6.1669, -5.5882, -5.4245, -5.6954, -4.6975, -5.6529, -5.3906, -5.4137, -5.3692, -4.7801, -5.1401, -5.3118, -5.0886, -5.5439, -5.1861, -5.5904, -5.6042, -5.6069, -5.5827, -8.3835, -8.1585, -7.662, -8.5414, -8.6579, -8.0015, -8.8031, -7.8268, -9.0415, -9.0453, -9.0007, -8.7675, -8.9153, -8.9485, -9.0013, -8.9023, -8.1992, -8.9252, -8.7381, -9.2193, -7.7612, -9.0414, -8.3407, -9.2664, -9.3872, -7.7186, -8.1395, -9.272, -9.4474, -9.1663, -6.3855, -7.9225, -8.3518, -8.0831, -7.7388, -5.7082, -6.0039, -6.4046, -7.3697, -7.5469, -4.8541, -7.0546, -8.1836, -7.1844, -6.4148, -5.7585, -5.802, -5.3825, -7.3619, -6.2395, -5.0182, -5.5028, -5.048, -6.295, -7.1123, -4.7148, -5.6716, -6.4209, -5.8246, -5.8876, -5.209, -6.4038, -5.3745, -5.6879, -6.6184, -5.0126, -5.6924, -6.5529, -6.5858, -5.816, -4.3873, -5.5106, -5.6236, -5.7909, -4.0923, -4.802, -5.4751, -5.4958, -5.6975, -5.2575, -4.6372, -4.8785, -5.1418, -4.8301, -5.4214, -5.4688, -5.0158, -5.032, -5.1963, -5.1395, -5.5354, -5.5381, -5.5954, -8.0706, -8.3005, -8.5589, -8.327, -7.8536, -8.2279, -8.7207, -8.6955, -8.6667, -8.394, -8.5951, -8.4822, -7.9715, -8.9549, -8.6763, -8.9251, -8.999, -8.2956, -9.0407, -9.0172, -8.8238, -8.8142, -8.9283, -8.6809, -8.9562, -9.1265, -9.198, -9.1363, -8.7359, -9.1369, -8.1072, -7.138, -7.9058, -8.2447, -8.1599, -7.3089, -8.2492, -7.0419, -7.9245, -4.5205, -6.7774, -7.4087, -5.3308, -7.3991, -8.2029, -7.2096, -6.4634, -6.517, -6.7588, -6.9892, -5.9259, -7.4462, -7.0821, -5.5039, -6.2377, -5.2186, -5.5512, -6.3902, -7.3834, -5.7264, -7.1384, -6.4927, -6.3919, -5.8661, -4.7527, -5.2633, -5.8135, -5.6265, -4.8516, -5.6076, -4.6238, -5.2991, -5.536, -5.3555, -4.821, -5.327, -5.575, -6.0697, -5.4833, -5.6642, -4.8836, -5.0767, -5.5403, -5.6249, -5.4843, -5.1818, -5.5685, -5.2018, -5.5636, -5.317, -5.2856, -5.5819, -5.5545, -6.8833, -7.7861, -7.6788, -7.1109, -7.5938, -7.692, -7.9114, -7.9433, -7.6057, -8.0356, -7.8787, -7.2924, -8.0897, -8.2759, -8.0629, -8.2336, -8.2165, -7.9101, -8.4373, -8.1918, -6.7891, -8.5139, -8.5055, -7.9018, -8.4403, -8.4745, -8.4451, -8.57, -8.4564, -8.5714, -6.1552, -7.4416, -7.758, -7.3851, -7.1036, -8.1482, -5.9972, -7.7169, -4.8479, -6.0912, -7.1525, -6.9856, -6.1298, -5.5979, -4.9675, -6.4621, -5.7096, -5.8701, -6.8, -5.868, -6.8906, -5.9273, -7.0373, -6.5284, -6.6816, -6.6164, -4.9939, -6.0394, -5.1293, -6.562, -5.7745, -4.7238, -5.2666, -5.7916, -5.5089, -5.4896, -5.5573, -6.0781, -5.0612, -5.4204, -5.2192, -4.9276, -5.471, -5.4845, -5.6628, -5.5262, -5.7119, -5.2883, -5.3129, -5.3391, -5.4742, -5.2759, -5.5915, -5.3903, -5.5025, -5.6448, -5.6405, -5.6718, -5.6317], \"loglift\": [30.0, 29.0, 28.0, 27.0, 26.0, 25.0, 24.0, 23.0, 22.0, 21.0, 20.0, 19.0, 18.0, 17.0, 16.0, 15.0, 14.0, 13.0, 12.0, 11.0, 10.0, 9.0, 8.0, 7.0, 6.0, 5.0, 4.0, 3.0, 2.0, 1.0, 1.0766, 1.0678, 1.0663, 1.0645, 1.0623, 1.059, 1.0565, 1.0523, 1.0511, 1.0474, 1.0473, 1.0449, 1.0444, 1.0431, 1.042, 1.0399, 1.0395, 1.0381, 1.037, 1.0369, 1.0351, 1.0344, 1.0315, 1.031, 1.0289, 1.0288, 1.0282, 1.0263, 1.0259, 1.0255, 1.0194, 1.0132, 1.0216, 0.9769, 1.0137, 0.9842, 0.9798, 0.9786, 0.9514, 0.9685, 0.9102, 0.8523, 0.7578, 0.8894, 0.8413, 0.9822, 0.611, 0.4433, 0.7299, 0.6633, 0.6076, 0.6771, 0.6806, 0.7381, 0.3748, 0.8284, 0.5492, 0.2585, 0.3052, 0.4742, 0.3897, 0.4477, 0.1618, 0.314, 0.1659, 0.6409, 0.2595, 0.3702, 0.2031, 0.0671, 0.2439, 0.1412, 0.3733, 0.4133, -0.0491, 0.2452, -0.0343, -0.118, 0.0152, 0.2883, 0.0973, 0.1994, 0.0265, 0.0453, 0.1268, 0.0622, 0.0946, 1.5801, 1.5642, 1.5621, 1.5616, 1.5604, 1.546, 1.5378, 1.5376, 1.5367, 1.535, 1.5332, 1.5305, 1.5302, 1.5299, 1.5295, 1.5286, 1.5274, 1.5253, 1.5243, 1.5241, 1.523, 1.5208, 1.5177, 1.5176, 1.5172, 1.5156, 1.5156, 1.515, 1.5133, 1.5127, 1.5125, 1.5088, 1.4443, 1.4918, 1.504, 1.5112, 1.447, 1.4136, 1.3257, 1.3984, 1.3464, 1.4316, 1.3785, 1.409, 1.3844, 1.3937, 1.2063, 1.4342, 1.3637, 1.1269, 1.0057, 1.1814, 0.9184, 1.3153, 0.6925, 0.9804, 1.0451, 1.2337, 0.9523, 1.1362, 1.1288, 0.3417, 0.5422, 0.3548, 0.5909, 0.3197, 0.5724, 0.506, 0.6254, 0.1981, 0.4464, 0.8323, 0.5547, 0.4185, 0.5549, -0.0734, 0.5088, 0.3333, 0.3409, 0.1741, -0.4079, -0.0512, 0.0952, -0.2007, 0.2892, -0.2602, 0.2574, 0.264, 0.2123, -0.4184, 1.6327, 1.6293, 1.6214, 1.6211, 1.6175, 1.6157, 1.6139, 1.6109, 1.598, 1.596, 1.5958, 1.5952, 1.5933, 1.5907, 1.5887, 1.5872, 1.586, 1.5853, 1.585, 1.5813, 1.5808, 1.5794, 1.5746, 1.5745, 1.574, 1.5722, 1.5719, 1.5667, 1.5666, 1.565, 1.5604, 1.5594, 1.5595, 1.5565, 1.5476, 1.505, 1.4927, 1.4886, 1.514, 1.517, 1.3727, 1.4738, 1.5395, 1.4611, 1.398, 1.3267, 1.3145, 1.272, 1.4659, 1.3537, 1.1882, 1.2468, 1.1861, 1.3309, 1.4359, 1.0835, 1.197, 1.315, 1.2116, 1.2143, 1.0753, 1.2976, 1.0632, 1.1126, 1.3261, 0.9189, 1.0868, 1.2833, 1.2916, 1.0548, 0.5386, 0.9187, 0.9361, 0.9946, 0.2799, 0.4533, 0.7647, 0.7718, 0.9128, 0.51, -0.0852, 0.0095, 0.2652, -0.2061, 0.5167, 0.5512, -0.2735, -0.2713, -0.0321, -0.2846, 0.3124, 0.1392, -0.1838, 1.8549, 1.8484, 1.8381, 1.8362, 1.8325, 1.8302, 1.8284, 1.8276, 1.8272, 1.8224, 1.8215, 1.821, 1.8206, 1.8116, 1.811, 1.81, 1.8098, 1.8051, 1.804, 1.7945, 1.7927, 1.7907, 1.79, 1.7881, 1.7877, 1.7871, 1.7869, 1.7866, 1.786, 1.7852, 1.7844, 1.7688, 1.7762, 1.7782, 1.7771, 1.7549, 1.7664, 1.6808, 1.7362, 1.4988, 1.6517, 1.6947, 1.5153, 1.6819, 1.7441, 1.6265, 1.5298, 1.4975, 1.4947, 1.5281, 1.3253, 1.6058, 1.5219, 1.1212, 1.2743, 0.9875, 1.0369, 1.2498, 1.5276, 0.9611, 1.4362, 1.1966, 1.0937, 0.8649, 0.3362, 0.5594, 0.8107, 0.7064, 0.3127, 0.6662, 0.1184, 0.4922, 0.6069, 0.4264, 0.0339, 0.3677, 0.5125, 0.868, 0.4014, 0.5053, -0.2595, -0.1798, 0.2927, 0.3785, 0.2069, -0.2559, 0.276, -0.3139, 0.2555, -0.5563, -0.7335, 0.0642, -1.1823, 2.0233, 2.0195, 2.0177, 2.0175, 2.0166, 2.015, 2.0144, 2.0116, 2.0083, 2.0082, 2.0081, 2.0076, 2.0032, 2.0029, 2.0026, 2.0021, 2.0017, 1.9966, 1.9966, 1.9961, 1.9951, 1.991, 1.9902, 1.9884, 1.9871, 1.9845, 1.9842, 1.9835, 1.9829, 1.9821, 1.9685, 1.9791, 1.9726, 1.964, 1.9487, 1.9779, 1.8449, 1.9472, 1.7246, 1.7735, 1.8583, 1.8288, 1.6846, 1.561, 1.4406, 1.657, 1.4158, 1.4581, 1.666, 1.3053, 1.6561, 1.306, 1.7021, 1.5127, 1.5528, 1.5215, 0.7607, 1.1706, 0.6527, 1.4008, 0.8738, 0.1731, 0.5247, 0.8634, 0.62, 0.6013, 0.6349, 1.0369, 0.103, 0.3987, 0.1923, -0.1853, 0.3735, 0.3382, 0.5067, 0.3167, 0.5658, -0.1994, -0.425, -0.4132, -0.2188, -0.9038, 0.1032, -0.7662, -0.6476, 0.1017, 0.0507, 0.2128, -0.871]}, \"token.table\": {\"Topic\": [1, 2, 3, 4, 5, 1, 2, 3, 4, 5, 1, 2, 3, 4, 5, 1, 2, 3, 4, 5, 5, 2, 1, 4, 1, 4, 1, 4, 5, 1, 2, 3, 4, 5, 2, 2, 4, 2, 3, 1, 2, 3, 4, 5, 2, 4, 1, 2, 3, 4, 5, 3, 1, 2, 3, 4, 5, 1, 2, 3, 4, 5, 1, 2, 3, 4, 1, 5, 1, 3, 5, 1, 2, 3, 4, 5, 1, 2, 3, 4, 5, 1, 2, 3, 4, 5, 1, 3, 5, 1, 2, 3, 4, 5, 1, 2, 3, 4, 5, 1, 2, 3, 4, 5, 1, 2, 3, 4, 5, 1, 2, 3, 4, 5, 1, 2, 3, 4, 5, 1, 2, 3, 4, 5, 1, 2, 3, 4, 5, 4, 1, 1, 2, 3, 4, 5, 2, 4, 1, 2, 3, 4, 5, 1, 2, 3, 4, 5, 3, 1, 2, 3, 4, 5, 2, 1, 5, 1, 2, 3, 4, 5, 1, 2, 3, 4, 5, 3, 4, 1, 2, 3, 4, 2, 1, 2, 1, 2, 3, 4, 5, 1, 2, 3, 4, 5, 1, 2, 3, 4, 5, 1, 3, 4, 5, 1, 2, 3, 4, 5, 1, 2, 3, 4, 5, 1, 2, 3, 4, 5, 1, 3, 4, 5, 1, 4, 1, 2, 3, 4, 5, 3, 1, 2, 3, 4, 5, 1, 2, 3, 4, 5, 1, 2, 3, 4, 5, 3, 4, 1, 5, 5, 3, 1, 2, 3, 4, 5, 1, 2, 3, 4, 5, 3, 1, 2, 3, 4, 5, 1, 1, 2, 3, 4, 5, 5, 5, 1, 2, 3, 4, 5, 1, 2, 3, 4, 5, 1, 2, 3, 4, 5, 1, 2, 3, 4, 5, 1, 2, 3, 4, 5, 1, 2, 3, 4, 5, 5, 1, 2, 3, 4, 5, 1, 2, 3, 4, 5, 1, 1, 2, 3, 4, 5, 1, 2, 3, 4, 5, 2, 1, 2, 3, 4, 5, 1, 2, 3, 4, 5, 1, 2, 3, 4, 5, 1, 2, 3, 4, 5, 1, 1, 2, 3, 4, 5, 1, 2, 3, 4, 5, 1, 2, 3, 4, 5, 4, 1, 2, 3, 4, 5, 1, 2, 3, 4, 5, 1, 2, 3, 4, 5, 1, 2, 4, 5, 1, 3, 4, 1, 2, 3, 4, 5, 5, 1, 4, 5, 1, 3, 4, 1, 2, 3, 4, 5, 1, 1, 2, 3, 4, 5, 3, 1, 2, 3, 4, 5, 1, 2, 3, 4, 5, 1, 2, 3, 4, 5, 1, 2, 3, 4, 5, 4, 1, 2, 3, 4, 5, 1, 2, 3, 4, 5, 1, 2, 3, 4, 5, 5, 1, 2, 3, 4, 5, 1, 3, 1, 2, 3, 4, 5, 1, 2, 3, 4, 5, 1, 2, 3, 4, 5, 1, 3, 3, 1, 2, 3, 4, 5, 1, 2, 3, 4, 5, 1, 2, 3, 4, 5, 1, 2, 3, 4, 5, 1, 2, 3, 5, 1, 2, 3, 4, 5, 1, 2, 3, 4, 5, 1, 2, 3, 4, 5, 4, 1, 2, 3, 4, 5, 1, 3, 5, 1, 4, 1, 2, 3, 4, 5, 4, 2, 1, 2, 3, 4, 5, 1, 2, 1, 3, 1, 1, 2, 4, 5, 1, 2, 3, 4, 5, 3, 2, 5, 1, 2, 3, 4, 5, 1, 2, 3, 4, 5, 1, 2, 4, 5, 2, 1, 2, 3, 4, 5, 4, 1, 1, 5, 1, 2, 3, 4, 5, 4, 5, 5, 5, 1, 2, 3, 4, 5, 4, 2, 4, 1, 2, 3, 4, 5, 1, 2, 3, 4, 5, 5, 5, 3, 1, 2, 3, 5, 2, 1, 2, 5, 1, 2, 3, 4, 5, 1, 2, 3, 4, 5, 1, 2, 3, 4, 5, 1, 2, 3, 1, 2, 3, 4, 5, 5, 1, 2, 3, 4, 5, 1, 2, 3, 4, 5, 4, 3, 1, 4, 5, 1, 2, 4, 1, 2, 3, 4, 5, 2, 1, 2, 3, 4, 5, 1, 2, 3, 4, 5, 1, 2, 3, 4, 5, 1, 2, 3, 4, 5, 1, 2, 3, 4, 5, 1, 2, 3, 4, 5, 4, 3, 5, 1, 4, 1, 4, 5, 1, 2, 3, 4, 5, 1, 2, 3, 5, 1, 2, 3, 4, 5, 1, 4, 1, 1, 2, 3, 4, 5, 2, 2, 1, 2, 3, 4, 5, 3, 1, 2, 3, 4, 5, 1, 2, 4, 5, 1, 2, 3, 4, 5, 1, 2, 1, 2, 3, 4, 5, 1, 2, 3, 4, 5, 2, 1, 2, 3, 4, 5, 1, 2, 4, 5, 4, 1, 2, 3, 4, 5, 1, 2, 3, 4, 5, 1, 2, 3, 4, 5, 1, 2, 3, 4, 5, 1, 2, 3, 4, 5, 1, 1, 2, 3, 4, 5, 1, 2, 3, 4, 5, 4, 2, 4, 5, 1, 4, 1, 2, 3, 4, 5, 4, 5, 1, 2, 3, 4, 5, 2, 1, 1, 2, 3, 4, 5, 1, 2, 3, 4, 5, 1, 2, 3, 4, 5, 1, 2, 3, 5, 1, 1, 2, 3, 4, 5, 1, 2, 3, 4, 5, 1, 2, 1, 2, 5, 1, 2, 3, 4, 5, 1, 2, 3, 4, 5, 2, 3, 1, 2, 3, 4, 5, 1, 2, 3, 4, 5, 4, 1, 2, 3, 4, 5, 1, 3, 5, 1, 1, 2, 3, 4, 5, 1, 2, 3, 4, 5, 1, 2, 3, 4, 5, 1, 2, 4, 5, 1, 2, 3, 4, 5, 2, 3, 1, 2, 4, 5, 1, 2, 3, 5, 2, 1, 2, 3, 4, 5, 1, 2, 3, 4, 5, 1, 2, 3, 4, 5, 1, 1, 1, 2, 3, 4, 5, 1, 2, 3, 4, 5, 1, 2, 3, 4, 5, 1, 2, 3, 4, 5, 3, 1, 2, 3, 4, 5, 4, 1, 2, 3, 4, 5, 3, 4, 1, 2, 3, 4, 5, 1, 2, 3, 4, 5, 1, 2, 3, 4, 5, 2, 1, 2, 3, 4, 5, 1, 2, 3, 4, 5, 1, 2, 3, 4, 5, 1, 2, 3, 4, 5, 1, 2, 3, 4, 5, 1, 2, 3, 4, 5, 1, 2, 3, 4, 5, 1, 2, 3, 4, 5, 1, 5, 1, 2, 3, 4, 5, 1, 2, 3, 4, 5, 1, 2, 3, 4, 5, 4, 5, 1, 2, 3, 4, 5, 1, 2, 3, 4, 5, 3, 1, 2, 3, 4, 5, 2, 1, 2, 3, 4, 5, 1, 2, 3, 4, 5, 1, 4, 1, 2, 3, 4, 5, 1, 1, 2, 3, 4, 5, 5, 1, 5, 1, 2, 3, 4, 5, 2, 1, 2, 3, 4, 5, 1, 2, 3, 4, 5, 4, 1, 2, 3, 4, 1, 2, 3, 4, 5, 4, 5, 1, 2, 3, 4, 5, 1, 2, 3, 4, 5, 1, 2, 3, 5, 1, 2, 3, 4, 5, 3, 1, 1, 2, 3, 5, 1, 2, 3, 4, 5, 1, 2, 3, 5, 1, 2, 3, 4, 5, 1, 2, 3, 4, 5, 5, 3, 4, 2, 1, 2, 3, 4, 5, 1, 2, 3, 4, 5, 1, 2, 3, 4, 5, 1, 2, 3, 4, 5, 3, 1, 3, 1, 2, 3, 4, 5, 4, 5, 1, 2, 4, 5, 3, 1, 2, 4, 5, 4, 5, 1, 2, 3, 5, 4, 2, 2, 3, 5, 1, 2, 3, 4, 5, 1, 2, 3, 4, 5, 1, 3, 4, 1, 2, 3, 4, 5, 1, 2, 4, 5, 1, 2, 3, 4, 5, 1, 2, 3, 4, 5, 1, 2, 3, 4, 5, 1, 2, 3, 4, 5, 1, 2, 3, 4, 5, 1, 2, 3, 2, 5, 1, 4, 5], \"Freq\": [0.22766574105535506, 0.3430890908119622, 0.1563213870719404, 0.11769546294079233, 0.1549581191614293, 0.28679806038985045, 0.16574693100452395, 0.14805484286359163, 0.16109111833585754, 0.23837760863571986, 0.3013616660610237, 0.06780637486373034, 0.15390970802402282, 0.29275133274499443, 0.18512216629462885, 0.08913771408565112, 0.07131017126852089, 0.017827542817130223, 0.80223942677086, 0.017827542817130223, 0.9328335528735068, 0.9213488620628372, 0.055487901341070706, 0.943294322798202, 0.07530967045472514, 0.9037160454567016, 0.9638060366228931, 0.9438585847602228, 0.03630225326000857, 0.15585945286302533, 0.031171890572605068, 0.0701367537883614, 0.670195647311009, 0.0701367537883614, 0.9012970079480737, 0.08392104790275039, 0.881171002978879, 0.04106143877644605, 0.9033516530818131, 0.3144934819706984, 0.3603571147580919, 0.22495019890959675, 0.03712770273265189, 0.06333549289687676, 0.9426601687427387, 0.03366643459795495, 0.06520623862390693, 0.2816909508552779, 0.01825774681469394, 0.02608249544956277, 0.6103303935197688, 0.9759663261353255, 0.2975252673931608, 0.21457467441027497, 0.04524577799066501, 0.2625626207640106, 0.17961202778112476, 0.3092637405135345, 0.5161812071880576, 0.10679611183201192, 0.03782362294050422, 0.02892394695450323, 0.04009562953907545, 0.04009562953907545, 0.04009562953907545, 0.88210384985966, 0.06388087514892922, 0.8943322520850091, 0.9182998760738443, 0.04833157242493918, 0.9449224777423499, 0.29642419079652993, 0.15126801489101271, 0.09931738351430126, 0.3376791039486243, 0.11459698097803993, 0.3712159753712494, 0.14372299931408994, 0.11579967373306674, 0.21928023323921148, 0.14947191928665352, 0.8668491214601353, 0.013759509864446592, 0.06879754932223296, 0.027519019728893184, 0.013759509864446592, 0.030477679074606794, 0.9448080513128106, 0.030477679074606794, 0.28082315399058744, 0.5455722553958551, 0.07658813290652385, 0.05578641779610996, 0.04160343022082777, 0.03467214620433196, 0.8321315089039671, 0.10401643861299589, 0.01733607310216598, 0.01733607310216598, 0.14952640637150036, 0.7683995882979879, 0.008307022576194464, 0.049842135457166786, 0.02076755644048616, 0.11333548706838802, 0.014623933815275873, 0.8372202109245438, 0.007311966907637937, 0.029247867630551747, 0.12014816329340396, 0.13817038778741456, 0.018022224494010593, 0.6908519389370728, 0.03003704082335099, 0.2731417601924179, 0.029265188592044775, 0.6223730107241523, 0.025363163446438807, 0.050726326892877614, 0.31327545022434317, 0.5315684501147099, 0.08831701522282015, 0.03999261066693743, 0.02666174044462495, 0.5056822645212391, 0.1428262884525637, 0.1801412647149452, 0.10808475882896713, 0.06304944265023082, 0.9306082740587936, 0.9815005520423078, 0.6592780824992243, 0.11811170859106623, 0.1095217661480796, 0.088046910040613, 0.023622341718213247, 0.8890854040261118, 0.06350610028757941, 0.13337441986748214, 0.020519141518074175, 0.820765660722967, 0.010259570759037087, 0.010259570759037087, 0.6481767933421623, 0.03980032941574681, 0.25301637985724756, 0.029850247061810106, 0.027007366389256764, 0.928637002383319, 0.13788174285563254, 0.08740717627455277, 0.05663000152999193, 0.17850761351845282, 0.5404471885144883, 0.8955641157752244, 0.9427912003970799, 0.9327516466988665, 0.033373125115120895, 0.06094222847109033, 0.013059048958090784, 0.17557165821433166, 0.7182476926949931, 0.24108957743242493, 0.22060484209502934, 0.047272466163220575, 0.18751411578077495, 0.304119532316719, 0.05261172766116098, 0.9470110979008975, 0.9539048423502368, 0.01490476316172245, 0.01490476316172245, 0.01490476316172245, 0.9327564515805208, 0.9489225782903626, 0.8939255464147752, 0.30781258068903705, 0.14988259647930235, 0.07142056610758703, 0.4033753099879211, 0.06739687224237086, 0.33717290291707325, 0.014139508832006297, 0.5514408444482456, 0.016314817883084188, 0.08157408941542094, 0.36727744885794184, 0.022076786543373552, 0.5559336247740431, 0.013379870632347607, 0.041477598960277584, 0.8964495182628252, 0.027165136917055306, 0.027165136917055306, 0.05433027383411061, 0.1899684499746328, 0.08214851890794932, 0.6777252809905818, 0.025671412158734162, 0.025671412158734162, 0.6356779881483888, 0.04111350172104007, 0.1359908133849787, 0.028463193499181586, 0.15812885277323105, 0.699052252177848, 0.013508256080731364, 0.21613209729170182, 0.03714770422201125, 0.03377064020182841, 0.043787518114467454, 0.8757503622893491, 0.021893759057233727, 0.043787518114467454, 0.9777478559480651, 0.9285866400469563, 0.22392031685097408, 0.6200870312796205, 0.0459323726873793, 0.09760629196068102, 0.011483093171844825, 0.9195497102053193, 0.7124817357414702, 0.08189445238407704, 0.027844113810586192, 0.1572373485774279, 0.021292557619860028, 0.3930145194586939, 0.24325749580809816, 0.14142271972569304, 0.15548685759896638, 0.06693487839687498, 0.18664727081522306, 0.12359076040467473, 0.03531164582990707, 0.12611302082109666, 0.527152427032184, 0.9538726012798294, 0.9402521234240595, 0.9361131527069138, 0.04070057185682233, 0.9566250792964122, 0.8935037965401131, 0.2457112857681933, 0.037801736272029735, 0.6709808188285278, 0.01417565110201115, 0.03150144689335811, 0.2467767426836602, 0.02692109920185384, 0.686488029647273, 0.01794739946790256, 0.0224342493348782, 0.8956647440931693, 0.034378682668673916, 0.011459560889557973, 0.8938457493855219, 0.017189341334336958, 0.040108463113452904, 0.9615004405991597, 0.32181348685804567, 0.1954187747494539, 0.028685324733864793, 0.2205184338915856, 0.23396467986058472, 0.9655329769391006, 0.9538177724032382, 0.23494416236944207, 0.07979235703113127, 0.044329087239517374, 0.49648577708259456, 0.1418530791664556, 0.20173644189479245, 0.28050971920609236, 0.10503103641506654, 0.13897399330530147, 0.2741053877173688, 0.047908994986127384, 0.00684414214087534, 0.01368828428175068, 0.01368828428175068, 0.9171150468772956, 0.038007244347107394, 0.10135265159228637, 0.012669081449035797, 0.13935989593939377, 0.6967994796969689, 0.32827980324203, 0.25798434216236615, 0.25728138755156954, 0.09279000862515623, 0.06396886958249406, 0.27439581371279287, 0.14980941361478384, 0.4715939193893961, 0.032866350946100534, 0.07108303809272906, 0.9686922601463362, 0.12272417929839265, 0.08590692550887485, 0.012272417929839265, 0.66884677717624, 0.10431555240363376, 0.28549123612702637, 0.1113236266658845, 0.5081384894587954, 0.0502751862362059, 0.043093016773890776, 0.9612994175696487, 0.03646061864500729, 0.07292123729001458, 0.018230309322503645, 0.8203639195126641, 0.03646061864500729, 0.18929033491490893, 0.06206240489013408, 0.615452181827163, 0.032065575859902606, 0.1003342212390501, 0.8617505404801378, 0.15669251517710003, 0.054501744409426095, 0.027250872204713047, 0.08856533466531741, 0.6744590870666479, 0.32352376170101504, 0.5674925000329281, 0.03977751168455103, 0.018562838786123814, 0.05038484813376464, 0.8867658422877586, 0.012064841391670184, 0.06032420695835092, 0.024129682783340368, 0.012064841391670184, 0.07009565329493286, 0.017523913323733216, 0.8586717528629276, 0.017523913323733216, 0.017523913323733216, 0.9310940606213454, 0.14629226733684828, 0.0626966860015064, 0.041797790667670934, 0.07314613366842414, 0.6687646506827349, 0.12395782514375688, 0.01032981876197974, 0.03615436566692909, 0.02065963752395948, 0.8108907728154096, 0.32135297927973666, 0.500123668203374, 0.07020549322102354, 0.0832333167053372, 0.026055646968627295, 0.9540569278599537, 0.45733854326235646, 0.09990090164879843, 0.31332555517123145, 0.06292459389567173, 0.06616812966348987, 0.029956400752608355, 0.04493460112891253, 0.029956400752608355, 0.8837138222019465, 0.014978200376304178, 0.12997853313923866, 0.07645796067014039, 0.015291592134028078, 0.1758533095413229, 0.604017889294109, 0.02331002722013713, 0.02331002722013713, 0.02331002722013713, 0.9090910615853481, 0.8956080214219275, 0.09427452857072922, 0.936099487075576, 0.1664540354559724, 0.6833376192403078, 0.07008590966567259, 0.035042954832836294, 0.043803693541045366, 0.9567473007493815, 0.014973926065323162, 0.014973926065323162, 0.9733051942460056, 0.03264899757337946, 0.03264899757337946, 0.9468209296280043, 0.2462465072060275, 0.30291118642105086, 0.09024374837948167, 0.18468488040452063, 0.17559054917247985, 0.914362670650935, 0.35571382329111806, 0.2026298386247619, 0.15435439117811017, 0.14546154559583221, 0.14165032606057024, 0.9304720026561034, 0.17071506769761788, 0.09689233572026962, 0.6321071425560446, 0.03691136598867414, 0.06459489048017975, 0.24430898349067806, 0.11254683509121124, 0.027450447583222255, 0.20313331211584468, 0.4117567137483338, 0.3791261928161671, 0.016483747513746396, 0.543963667953631, 0.010143844623843936, 0.04945124254123919, 0.20972698594790867, 0.2458868111113412, 0.04339179019611904, 0.4483818320265634, 0.05062375522880554, 0.9490059810963417, 0.08116787652625913, 0.10145984565782391, 0.08116787652625913, 0.6899269504732026, 0.04058393826312957, 0.4862996677635674, 0.18546377635370748, 0.15300244649023803, 0.11599239524462641, 0.05954689809349805, 0.2754285876406246, 0.2363245289015236, 0.10031041154812873, 0.35703705805266156, 0.03230335287143128, 0.9544104735159045, 0.3766111687807712, 0.12692420605318808, 0.40366058974292607, 0.028089783306853102, 0.06554282771599057, 0.06233711519161573, 0.903888170278428, 0.10527985159814164, 0.045119936399203565, 0.06015991519893808, 0.6918390247877879, 0.0751998939986726, 0.2053580370193242, 0.028186397237946456, 0.7288197000097584, 0.016106512707397977, 0.02013314088424747, 0.3545553252439923, 0.3538419342475255, 0.16265314719442706, 0.059211452706743176, 0.06991231765374496, 0.9506093463503599, 0.04526711173096952, 0.9417728849853524, 0.4855907580306435, 0.03208749502405133, 0.40644160363798354, 0.026739579186709442, 0.04920082570354537, 0.3312372688195543, 0.4579521971599207, 0.07558434322056944, 0.0844766188935776, 0.048907516201544925, 0.06977550264034608, 0.06977550264034608, 0.027910201056138437, 0.767530529043807, 0.06977550264034608, 0.16592369416549568, 0.0286075334768096, 0.7094668302248781, 0.01144301339072384, 0.09154410712579072, 0.12601952221431448, 0.8239737990935947, 0.009693809401101114, 0.038775237604404454, 0.3392498625098897, 0.13129963297976904, 0.18204516680708518, 0.20546618241969264, 0.14194554916731789, 0.39460093775983096, 0.1895664221431715, 0.10070716176355986, 0.21030024956508087, 0.10498557059665227, 0.5205803892924401, 0.13259611644528035, 0.24879853122096243, 0.046127376266418746, 0.051913388620394615, 0.9165704403648162, 0.31808868216872416, 0.3986774690072981, 0.14340063540393302, 0.08604038124235981, 0.053567840663287375, 0.025469127278871066, 0.9423577093182295, 0.025469127278871066, 0.9720004634969307, 0.9320970265872414, 0.26526620914689036, 0.16800193245969725, 0.05747434531515958, 0.4244259346350246, 0.08547466739177578, 0.8989781058558086, 0.8984016068158622, 0.2000802054903248, 0.7515833360085277, 0.007695392518858646, 0.007695392518858646, 0.035911831754673676, 0.19237990038830582, 0.7935670891017614, 0.08179191922541582, 0.8997111114795739, 0.9714686680292279, 0.06503426910587239, 0.03251713455293619, 0.8779626329292772, 0.9616360284261298, 0.27996788920917276, 0.17091063004048337, 0.04069300715249604, 0.39228058895006185, 0.11556814031308876, 0.8918377890774015, 0.9090609325893145, 0.0534741725052538, 0.16977434624175353, 0.11445461544387878, 0.013353038468452524, 0.6829125388151434, 0.019075769240646464, 0.3095050408376376, 0.22518475727610168, 0.05654419015302994, 0.1666565604510356, 0.2410568106523908, 0.03183198798839311, 0.03183198798839311, 0.859463675686614, 0.06366397597678622, 0.8875860113988175, 0.3206472837348409, 0.07038598911252605, 0.5396259165293664, 0.04301366001321037, 0.025417162735078856, 0.9048646212183745, 0.9642274701593089, 0.9455922976033723, 0.9338702062983077, 0.930177866644419, 0.023850714529344078, 0.023850714529344078, 0.023850714529344078, 0.023850714529344078, 0.9001235999866116, 0.9611770350690646, 0.9450441515800262, 0.9592380420626115, 0.09638099357287405, 0.1638476890738859, 0.048190496786437026, 0.01927619871457481, 0.6746669550101184, 0.9617632512959029, 0.9525929534284459, 0.8376592301379918, 0.174199214491921, 0.14610256699322408, 0.03090631224856663, 0.174199214491921, 0.4720236779781085, 0.0953013270709286, 0.08025374911236093, 0.7624106165674288, 0.03009515591713535, 0.035111015236657904, 0.9542779402784303, 0.9318435951068772, 0.8623547095696936, 0.03348642097162919, 0.03348642097162919, 0.9041333662339881, 0.03348642097162919, 0.9819713126184618, 0.9027835089379547, 0.9269753945845357, 0.04634876972922679, 0.34983963016415354, 0.18577690705268843, 0.10555506082539115, 0.21714183941223322, 0.14174536739409668, 0.09587882555883885, 0.6147524697596138, 0.04511944732180652, 0.1466382037958712, 0.10151875647406466, 0.1426380522365663, 0.02113156329430612, 0.052828908235765304, 0.031697344941459184, 0.7554533877714438, 0.04820145296928158, 0.91582760641635, 0.02410072648464079, 0.8814945687377648, 0.032647946990287585, 0.04897192048543138, 0.016323973495143793, 0.016323973495143793, 0.9014477240817709, 0.013249479371868253, 0.013249479371868253, 0.013249479371868253, 0.013249479371868253, 0.940713035402646, 0.2094493805623683, 0.23563055313266434, 0.0930886135832748, 0.24920597594689192, 0.21235839973684564, 0.9519781290391358, 0.9334649791749307, 0.02219179179230635, 0.02219179179230635, 0.9542470470691731, 0.026778152156435937, 0.830122716849514, 0.10711260862574375, 0.4535911642805192, 0.16313130299940334, 0.189781466360692, 0.10983097627682602, 0.08371920005414925, 0.9067844333255838, 0.6159901545566384, 0.0860361835589671, 0.18364025734434994, 0.0679613550801925, 0.04627156090566298, 0.1074493372845346, 0.24713347575442957, 0.010744933728453459, 0.6339510899787542, 0.010744933728453459, 0.5789267991686528, 0.15195490846940607, 0.05136503948261614, 0.11985175879277099, 0.0984496590083476, 0.4333862452588254, 0.2374293066130886, 0.11404901191021723, 0.12493550850164704, 0.09072080492858188, 0.48432487006801855, 0.2151501868991002, 0.14406532338618164, 0.1194225707017032, 0.036964129026717654, 0.409397727388055, 0.21940099202564275, 0.2451862632533987, 0.0425230788668256, 0.08323666501591395, 0.9286868882515992, 0.9146169054596626, 0.9398127196905726, 0.9262640229108876, 0.03859433428795365, 0.0423825023815087, 0.847650047630174, 0.0847650047630174, 0.23414648088948967, 0.10243908538915172, 0.022996529373074878, 0.3574915020723458, 0.2843207267943803, 0.13234680788681816, 0.8087860481972221, 0.01470520087631313, 0.02941040175262626, 0.04589857038751796, 0.9294460503472387, 0.005737321298439745, 0.005737321298439745, 0.01147464259687949, 0.09078506711081437, 0.8624581375527366, 0.9618438699844205, 0.37962363419009126, 0.015757962173928317, 0.4799015752969078, 0.030083382332044967, 0.0945477730435699, 0.9272126687850022, 0.9129641263824003, 0.4077549568878472, 0.14925370120045728, 0.3154330798566365, 0.05462377724346632, 0.07231880367444837, 0.9478387889430879, 0.7829400145014108, 0.028129581359332127, 0.046882635598886876, 0.028129581359332127, 0.11251832543732851, 0.03504563652232668, 0.03504563652232668, 0.8761409130581671, 0.07009127304465336, 0.811053778726404, 0.06689103329702302, 0.08361379162127877, 0.016722758324255755, 0.02508413748638363, 0.9414440077761971, 0.03246358647504128, 0.11393324980633347, 0.20676774964853112, 0.054856749906753155, 0.5232489991105685, 0.10127399982785197, 0.18601321180429425, 0.34747645656842785, 0.0415460980679642, 0.27571501445103513, 0.14918826124405327, 0.9676815684208753, 0.09715078651088326, 0.7948700714526812, 0.04415944841403784, 0.026495669048422706, 0.03532755873123028, 0.9346441813390575, 0.02832255094966841, 0.02832255094966841, 0.02832255094966841, 0.9056907707594745, 0.3311305174068117, 0.21880871194282714, 0.06710133832913365, 0.2246436109279692, 0.1582716349719783, 0.23992738534128644, 0.37263447393665, 0.11864541033360318, 0.16610357446704446, 0.10282602228912276, 0.49342001215412234, 0.19748383115558182, 0.12045934569020827, 0.13957068418913554, 0.04864704345181488, 0.3396460554900066, 0.3319486944590716, 0.11546041546402491, 0.17703930371150486, 0.03656246489694122, 0.11840996890873849, 0.019276041450259754, 0.8481458238114292, 0.008261160621539894, 0.008261160621539894, 0.9129713506508328, 0.2872988077544574, 0.046338517379751185, 0.018535406951900476, 0.09576626925148579, 0.5498837395730474, 0.32296418397682386, 0.15379246856039233, 0.32212531596649446, 0.11632303076567856, 0.08472566904327068, 0.8997141361672001, 0.8810294123997456, 0.05069706898824916, 0.9125472417884848, 0.04942500235117662, 0.8896500423211792, 0.7678190623075722, 0.05794860847604318, 0.15935867330911876, 0.014487152119010796, 0.007243576059505398, 0.04004106352461148, 0.9209444610660641, 0.2505827784433153, 0.13986015541022248, 0.023310025901703748, 0.06410257122968531, 0.5186480763129084, 0.9398095421118485, 0.9305047832364998, 0.12406108894724359, 0.8477507744728312, 0.006892282719291311, 0.013784565438582622, 0.006892282719291311, 0.3795990567691212, 0.26668911835056874, 0.08173848302692756, 0.2015754115325078, 0.07065529888768314, 0.2461051662145162, 0.021400449236044887, 0.6848143755534364, 0.005350112309011222, 0.042800898472089774, 0.046286582468098844, 0.023143291234049422, 0.9025883581279275, 0.023143291234049422, 0.9135045742979573, 0.8335475868672867, 0.037462812892911763, 0.0936570322322794, 0.018731406446455882, 0.018731406446455882, 0.18521510451257667, 0.18521510451257667, 0.05027267122484224, 0.10583720257861523, 0.47097555147483783, 0.039004137307427446, 0.9360992953782588, 0.036976040144258926, 0.8874249634622142, 0.036976040144258926, 0.06880625570938935, 0.14377426566141058, 0.7424913862371418, 0.02464701697052753, 0.02053918080877294, 0.43288345420338753, 0.2807008709701077, 0.17276859638872977, 0.07214724236723125, 0.0415568116035252, 0.9493539996605221, 0.8992298451649637, 0.10765789263793933, 0.2672885610321252, 0.007424682250892368, 0.5382894631896967, 0.08167150475981605, 0.18657463426234142, 0.019384377585697807, 0.70752978187797, 0.007269141594636678, 0.07996055754100347, 0.8913906378983598, 0.2332783423097322, 0.1057042488590974, 0.5722609334785618, 0.03827222803519044, 0.05102963738025392, 0.8977014802468662, 0.05179047001424228, 0.05179047001424228, 0.9240736378581295, 0.6137183878803256, 0.09880296027794716, 0.15770472505903105, 0.11115333031269056, 0.019000569284220607, 0.34292385484012106, 0.33092151992071683, 0.16460345032325813, 0.0943040600810333, 0.06687015169382361, 0.1672376577432041, 0.08736295553749468, 0.03744126665892629, 0.3469557377060503, 0.3619322443696208, 0.1163346062725458, 0.033238458935013086, 0.033238458935013086, 0.8143422439078206, 0.8714365524010164, 0.01980537619093219, 0.01980537619093219, 0.059416128572796566, 0.01980537619093219, 0.9363952353607431, 0.06242634902404954, 0.034134072616247436, 0.034134072616247436, 0.034134072616247436, 0.9216199606386808, 0.15220842990310912, 0.0054360153536824685, 0.8317103491134177, 0.0054360153536824685, 0.9437936276988351, 0.361580940239852, 0.2597069451722746, 0.14778903509803473, 0.07748163005139685, 0.15281099260136602, 0.16387358044036673, 0.7374311119816503, 0.03511576723722144, 0.046821022982961924, 0.011705255745740481, 0.10843682493959945, 0.8494217953601957, 0.018072804156599908, 0.018072804156599908, 0.018072804156599908, 0.9297124452069564, 0.9124223171144983, 0.11052051947928504, 0.145686139313603, 0.020094639905324552, 0.035165619834317964, 0.6882414167573659, 0.36813036463153337, 0.18969680625135374, 0.21637291963045038, 0.10966846611406389, 0.11618929382895417, 0.3003827970133762, 0.197733999472834, 0.16099653508990308, 0.1156149614404002, 0.22582735458919292, 0.29083998196946237, 0.060666008508967605, 0.5566998427881733, 0.03747018172612705, 0.05352883103732436, 0.9318470452739241, 0.30375713355920464, 0.1688532301255579, 0.1679598267915602, 0.25104633685334266, 0.10899520674771461, 0.9472766911957871, 0.1226656097626651, 0.14853386760377135, 0.024199337980389715, 0.6725747038687624, 0.03170947735361411, 0.9013069437900595, 0.07210455550320476, 0.1773364455673968, 0.13729273205217818, 0.01144106100434818, 0.5663325197152349, 0.10869007954130772, 0.33323014484140284, 0.07922075141512597, 0.47155209175670215, 0.023891972649006242, 0.09305294610665589, 0.3140778287104537, 0.6499666177480222, 0.013086576196268903, 0.004362192065422968, 0.017448768261691873, 0.9307983547001306, 0.6585700661769497, 0.020851822675787324, 0.23979596077155424, 0.05734251235841514, 0.026064778344734155, 0.24952752405100886, 0.03823405610459007, 0.6167756945293082, 0.016098549938774766, 0.07848043095152699, 0.13840097477252555, 0.013840097477252554, 0.8165657511579008, 0.013840097477252554, 0.02768019495450511, 0.31290390773209237, 0.17604996931848083, 0.0491611235078022, 0.24580561753901098, 0.21657467923707452, 0.03139223638309254, 0.03139223638309254, 0.7952699883716777, 0.03139223638309254, 0.11510486673800598, 0.0315115807353736, 0.27099959432421294, 0.0630231614707472, 0.050418529176597754, 0.5798130855308742, 0.7764551632903658, 0.1622443624785839, 0.02317776606836913, 0.02317776606836913, 0.017383324551276846, 0.35745732154574206, 0.27461196966773954, 0.09017920269998964, 0.12549033628733497, 0.152109498530103, 0.978057654424938, 0.02507840139551123, 0.09289242119160215, 0.10218166331076237, 0.009289242119160216, 0.7802963380094581, 0.018578484238320432, 0.14999785518406192, 0.04249939230215088, 0.6999899908589556, 0.03499949954294778, 0.07249896333896326, 0.17701759730719496, 0.05531799915849842, 0.02212719966339937, 0.6859431895653805, 0.05531799915849842, 0.9078431121748234, 0.9167716561554442, 0.1957380064296926, 0.03984047918480469, 0.6547696144285292, 0.043304868679135536, 0.06755559513945143, 0.09135678640386737, 0.8039397203540328, 0.009135678640386738, 0.06394975048270717, 0.02740703592116021, 0.9493350427706061, 0.2833387123836015, 0.019710519122337494, 0.633200426805092, 0.017246704232045308, 0.049276297805843736, 0.9113783729207716, 0.3285351105430237, 0.2782301125203679, 0.11675727936122582, 0.15588338893440254, 0.12110462486935657, 0.229396265681803, 0.25386520068786195, 0.02141031813030161, 0.46032183980148467, 0.033644785633331106, 0.922260781695981, 0.0354715685267685, 0.09575430195541867, 0.7819934659692525, 0.031918100651806225, 0.04787715097770934, 0.031918100651806225, 0.9381957240715166, 0.06229781020989069, 0.06229781020989069, 0.012459562041978138, 0.809871532728579, 0.06229781020989069, 0.9626266457962875, 0.030380646792261365, 0.9418000505601023, 0.07195115369784529, 0.667346950547515, 0.23743880720288943, 0.007195115369784528, 0.01798778842446132, 0.9354778059410992, 0.4068595879329831, 0.07383748077302286, 0.46864196980428796, 0.02109642307800653, 0.030137747254295046, 0.694155583661987, 0.013976286919368867, 0.05590514767747547, 0.08152834036298506, 0.15839791841951384, 0.9457800235553877, 0.06776067949167879, 0.03388033974583939, 0.8808888333918242, 0.03388033974583939, 0.32441613535862757, 0.2452389792127854, 0.04624506465155382, 0.19829323176348077, 0.1856809414039661, 0.050080950916395466, 0.926497591953316, 0.5369411974289311, 0.05177349026530907, 0.3265070111892878, 0.03757753325707916, 0.04759820879230027, 0.2803778609540602, 0.17243896612667553, 0.07108171122778992, 0.2303573974974673, 0.2461533333258651, 0.02927129158566012, 0.05854258317132024, 0.8488674559841435, 0.04390693737849018, 0.19970768810453343, 0.02322182419820156, 0.7012990907856872, 0.02322182419820156, 0.051088013236043436, 0.9348335223337613, 0.9458188084408994, 0.021826252595220738, 0.021826252595220738, 0.9603551141897125, 0.021826252595220738, 0.08890639184325136, 0.8149752585631375, 0.029635463947750455, 0.014817731973875228, 0.04445319592162568, 0.02564408653404244, 0.8975430286914854, 0.02564408653404244, 0.05128817306808488, 0.5232773764675004, 0.09983581524708889, 0.14372914781261933, 0.15405699076921475, 0.07918012933389808, 0.42736792351123704, 0.13021907555933965, 0.19809923196793158, 0.1544619885624082, 0.09004510543996891, 0.9194312892767372, 0.9463531268949893, 0.9106443641503065, 0.8920569229213468, 0.2969390776903318, 0.2843726903899572, 0.14311718869871007, 0.1691808068031906, 0.10634887030131789, 0.041655517550012795, 0.1388517251667093, 0.013885172516670931, 0.2221627602667349, 0.583177245700179, 0.0922750526523497, 0.011534381581543712, 0.8074067107080599, 0.04613752632617485, 0.04613752632617485, 0.19139581474842068, 0.016643114325949625, 0.7114931374343465, 0.04992934297784887, 0.03328622865189925, 0.886823273785589, 0.061734601152577784, 0.9260190172886668, 0.38484034259690575, 0.13838703228737217, 0.2958217178951973, 0.07774552375695067, 0.10301281897795962, 0.04071066125549697, 0.9363452088764304, 0.15586448179651355, 0.051954827265504516, 0.7446858574722315, 0.017318275755168172, 0.8926050387347801, 0.017322545169478287, 0.05196763550843486, 0.034645090338956575, 0.9007723488128709, 0.9030383060920217, 0.9667734113010162, 0.021987744623424562, 0.043975489246849124, 0.9014975295604071, 0.021987744623424562, 0.9335720991973679, 0.9492963711877815, 0.8978704521203154, 0.9325408013852405, 0.9577647264385587, 0.27227576250597335, 0.3119450788975721, 0.09676908998556669, 0.18452242624577, 0.13463525563209278, 0.28318940518539487, 0.29575022557668257, 0.07308113682203739, 0.3048853676794372, 0.04225003222524036, 0.04572482309759351, 0.04572482309759351, 0.8687716388542767, 0.4263586246092248, 0.19938873684555392, 0.09078795510546835, 0.16031543971155487, 0.12296596450993814, 0.040967992383462055, 0.040967992383462055, 0.10924797968923215, 0.7920478527469331, 0.27078020631389743, 0.23165011869628221, 0.0657385471975936, 0.12678148388107338, 0.30677988692210345, 0.4463168238754076, 0.1526653808770086, 0.15683656614687222, 0.14849419560714497, 0.09593726120686333, 0.09933041262041081, 0.6163000601220944, 0.18737327835213857, 0.05869524382115184, 0.03612015004378575, 0.3155963990354037, 0.24660238106446045, 0.05328250892805517, 0.1940029812252265, 0.19058743578112042, 0.3311721020092993, 0.3479935421113589, 0.04310494026152784, 0.12195544073993243, 0.15664966095043045, 0.02661992375493122, 0.07985977126479366, 0.9050774076676614, 0.9240500582789107, 0.02887656432121596, 0.9888778722449308, 0.01869363809119743, 0.953375542651069], \"Term\": [\"$\", \"$\", \"$\", \"$\", \"$\", \"2\", \"2\", \"2\", \"2\", \"2\", \"3\", \"3\", \"3\", \"3\", \"3\", \"=\", \"=\", \"=\", \"=\", \"=\", \"a.m.\", \"accent\", \"accomodate\", \"accomodate\", \"ache\", \"ache\", \"acrylic\", \"airline\", \"airline\", \"airport\", \"airport\", \"airport\", \"airport\", \"airport\", \"albeit\", \"alex\", \"alex\", \"alfredo\", \"alfredo\", \"amazing\", \"amazing\", \"amazing\", \"amazing\", \"amazing\", \"anybody\", \"anybody\", \"appointment\", \"appointment\", \"appointment\", \"appointment\", \"appointment\", \"asia\", \"ask\", \"ask\", \"ask\", \"ask\", \"ask\", \"atmosphere\", \"atmosphere\", \"atmosphere\", \"atmosphere\", \"atmosphere\", \"attorney\", \"attorney\", \"attorney\", \"attorney\", \"au\", \"au\", \"audience\", \"audience\", \"avec\", \"away\", \"away\", \"away\", \"away\", \"away\", \"bad\", \"bad\", \"bad\", \"bad\", \"bad\", \"bagel\", \"bagel\", \"bagel\", \"bagel\", \"bagel\", \"balsamic\", \"balsamic\", \"balsamic\", \"bar\", \"bar\", \"bar\", \"bar\", \"bar\", \"barber\", \"barber\", \"barber\", \"barber\", \"barber\", \"bartender\", \"bartender\", \"bartender\", \"bartender\", \"bartender\", \"bbq\", \"bbq\", \"bbq\", \"bbq\", \"bbq\", \"bed\", \"bed\", \"bed\", \"bed\", \"bed\", \"beef\", \"beef\", \"beef\", \"beef\", \"beef\", \"beer\", \"beer\", \"beer\", \"beer\", \"beer\", \"big\", \"big\", \"big\", \"big\", \"big\", \"biryani\", \"brake\", \"breakfast\", \"breakfast\", \"breakfast\", \"breakfast\", \"breakfast\", \"bride\", \"bride\", \"brisket\", \"brisket\", \"brisket\", \"brisket\", \"brisket\", \"burger\", \"burger\", \"burger\", \"burger\", \"burger\", \"buttercream\", \"call\", \"call\", \"call\", \"call\", \"call\", \"came\", \"cannoli\", \"capacity\", \"car\", \"car\", \"car\", \"car\", \"car\", \"care\", \"care\", \"care\", \"care\", \"care\", \"carl\", \"carl\", \"cat\", \"cat\", \"cat\", \"cat\", \"cha\", \"chai\", \"charles\", \"check\", \"check\", \"check\", \"check\", \"check\", \"cheese\", \"cheese\", \"cheese\", \"cheese\", \"cheese\", \"chicken\", \"chicken\", \"chicken\", \"chicken\", \"chicken\", \"chile\", \"chile\", \"chile\", \"chile\", \"chinese\", \"chinese\", \"chinese\", \"chinese\", \"chinese\", \"chip\", \"chip\", \"chip\", \"chip\", \"chip\", \"chocolate\", \"chocolate\", \"chocolate\", \"chocolate\", \"chocolate\", \"chorizo\", \"chorizo\", \"chorizo\", \"chorizo\", \"church\", \"citizen\", \"club\", \"club\", \"club\", \"club\", \"club\", \"cobbler\", \"coffee\", \"coffee\", \"coffee\", \"coffee\", \"coffee\", \"come\", \"come\", \"come\", \"come\", \"come\", \"company\", \"company\", \"company\", \"company\", \"company\", \"concoction\", \"contest\", \"contractor\", \"contractor\", \"cox\", \"crate\", \"cream\", \"cream\", \"cream\", \"cream\", \"cream\", \"crispy\", \"crispy\", \"crispy\", \"crispy\", \"crispy\", \"crunchiness\", \"crust\", \"crust\", \"crust\", \"crust\", \"crust\", \"curly\", \"customer\", \"customer\", \"customer\", \"customer\", \"customer\", \"dans\", \"dash\", \"daughter\", \"daughter\", \"daughter\", \"daughter\", \"daughter\", \"day\", \"day\", \"day\", \"day\", \"day\", \"de\", \"de\", \"de\", \"de\", \"de\", \"dealership\", \"dealership\", \"dealership\", \"dealership\", \"dealership\", \"definitely\", \"definitely\", \"definitely\", \"definitely\", \"definitely\", \"delicious\", \"delicious\", \"delicious\", \"delicious\", \"delicious\", \"des\", \"desk\", \"desk\", \"desk\", \"desk\", \"desk\", \"dessert\", \"dessert\", \"dessert\", \"dessert\", \"dessert\", \"develop\", \"direct\", \"direct\", \"direct\", \"direct\", \"direct\", \"dish\", \"dish\", \"dish\", \"dish\", \"dish\", \"dishonest\", \"doctor\", \"doctor\", \"doctor\", \"doctor\", \"doctor\", \"dog\", \"dog\", \"dog\", \"dog\", \"dog\", \"donut\", \"donut\", \"donut\", \"donut\", \"donut\", \"dough\", \"dough\", \"dough\", \"dough\", \"dough\", \"doughnut\", \"dr\", \"dr\", \"dr\", \"dr\", \"dr\", \"dr.\", \"dr.\", \"dr.\", \"dr.\", \"dr.\", \"drink\", \"drink\", \"drink\", \"drink\", \"drink\", \"dunkin\", \"eat\", \"eat\", \"eat\", \"eat\", \"eat\", \"elevator\", \"elevator\", \"elevator\", \"elevator\", \"elevator\", \"email\", \"email\", \"email\", \"email\", \"email\", \"en\", \"en\", \"en\", \"en\", \"enchilada\", \"enchilada\", \"enterprise\", \"environment\", \"environment\", \"environment\", \"environment\", \"environment\", \"est\", \"et\", \"et\", \"et\", \"exhibit\", \"exhibit\", \"exhibit\", \"experience\", \"experience\", \"experience\", \"experience\", \"experience\", \"festival\", \"find\", \"find\", \"find\", \"find\", \"find\", \"firmly\", \"fish\", \"fish\", \"fish\", \"fish\", \"fish\", \"fix\", \"fix\", \"fix\", \"fix\", \"fix\", \"flavor\", \"flavor\", \"flavor\", \"flavor\", \"flavor\", \"floor\", \"floor\", \"floor\", \"floor\", \"floor\", \"floral\", \"fly\", \"fly\", \"fly\", \"fly\", \"fly\", \"food\", \"food\", \"food\", \"food\", \"food\", \"free\", \"free\", \"free\", \"free\", \"free\", \"freezer\", \"fresh\", \"fresh\", \"fresh\", \"fresh\", \"fresh\", \"freshness\", \"freshness\", \"fridge\", \"fridge\", \"fridge\", \"fridge\", \"fridge\", \"fried\", \"fried\", \"fried\", \"fried\", \"fried\", \"friendly\", \"friendly\", \"friendly\", \"friendly\", \"friendly\", \"frost\", \"frost\", \"froyo\", \"fry\", \"fry\", \"fry\", \"fry\", \"fry\", \"fun\", \"fun\", \"fun\", \"fun\", \"fun\", \"furniture\", \"furniture\", \"furniture\", \"furniture\", \"furniture\", \"garlic\", \"garlic\", \"garlic\", \"garlic\", \"garlic\", \"gel\", \"gel\", \"gel\", \"gel\", \"get\", \"get\", \"get\", \"get\", \"get\", \"go\", \"go\", \"go\", \"go\", \"go\", \"good\", \"good\", \"good\", \"good\", \"good\", \"goodyear\", \"great\", \"great\", \"great\", \"great\", \"great\", \"grilled\", \"grilled\", \"grilled\", \"grub\", \"grubhub\", \"guy\", \"guy\", \"guy\", \"guy\", \"guy\", \"h\", \"hahaha\", \"hair\", \"hair\", \"hair\", \"hair\", \"hair\", \"haircut\", \"haircut\", \"halibut\", \"halibut\", \"hall\", \"harness\", \"harness\", \"harness\", \"heartbeat\", \"help\", \"help\", \"help\", \"help\", \"help\", \"helping\", \"hills\", \"hills\", \"hotel\", \"hotel\", \"hotel\", \"hotel\", \"hotel\", \"hour\", \"hour\", \"hour\", \"hour\", \"hour\", \"housekeeping\", \"housekeeping\", \"housekeeping\", \"housekeeping\", \"howard\", \"ice\", \"ice\", \"ice\", \"ice\", \"ice\", \"iffy\", \"ihop\", \"ikea\", \"incompetent\", \"inexpensive\", \"inexpensive\", \"inexpensive\", \"inexpensive\", \"inexpensive\", \"informed\", \"inspector\", \"installer\", \"instruct\", \"insurance\", \"insurance\", \"insurance\", \"insurance\", \"insurance\", \"involved\", \"iphone\", \"isle\", \"issue\", \"issue\", \"issue\", \"issue\", \"issue\", \"italian\", \"italian\", \"italian\", \"italian\", \"italian\", \"je\", \"johnny\", \"justice\", \"kale\", \"kale\", \"kale\", \"kale\", \"keg\", \"kink\", \"knife\", \"knife\", \"know\", \"know\", \"know\", \"know\", \"know\", \"knowledgeable\", \"knowledgeable\", \"knowledgeable\", \"knowledgeable\", \"knowledgeable\", \"la\", \"la\", \"la\", \"la\", \"la\", \"lash\", \"lash\", \"lash\", \"latte\", \"latte\", \"latte\", \"latte\", \"latte\", \"lawyer\", \"le\", \"le\", \"le\", \"le\", \"le\", \"leave\", \"leave\", \"leave\", \"leave\", \"leave\", \"lense\", \"lentil\", \"les\", \"les\", \"les\", \"library\", \"library\", \"library\", \"like\", \"like\", \"like\", \"like\", \"like\", \"lion\", \"little\", \"little\", \"little\", \"little\", \"little\", \"lobby\", \"lobby\", \"lobby\", \"lobby\", \"lobby\", \"location\", \"location\", \"location\", \"location\", \"location\", \"look\", \"look\", \"look\", \"look\", \"look\", \"lot\", \"lot\", \"lot\", \"lot\", \"lot\", \"love\", \"love\", \"love\", \"love\", \"love\", \"lump\", \"mahi\", \"mais\", \"makeup\", \"makeup\", \"male\", \"male\", \"male\", \"manager\", \"manager\", \"manager\", \"manager\", \"manager\", \"manicure\", \"manicure\", \"manicure\", \"manicure\", \"massage\", \"massage\", \"massage\", \"massage\", \"massage\", \"mattress\", \"mattress\", \"maze\", \"meat\", \"meat\", \"meat\", \"meat\", \"meat\", \"meatloaf\", \"mel\", \"menu\", \"menu\", \"menu\", \"menu\", \"menu\", \"met\", \"mexican\", \"mexican\", \"mexican\", \"mexican\", \"mexican\", \"mgm\", \"mgm\", \"mgm\", \"mgm\", \"milk\", \"milk\", \"milk\", \"milk\", \"milk\", \"milkshake\", \"milkshake\", \"min\", \"min\", \"min\", \"min\", \"min\", \"minute\", \"minute\", \"minute\", \"minute\", \"minute\", \"mojito\", \"movie\", \"movie\", \"movie\", \"movie\", \"movie\", \"muffin\", \"muffin\", \"muffin\", \"muffin\", \"mystere\", \"need\", \"need\", \"need\", \"need\", \"need\", \"new\", \"new\", \"new\", \"new\", \"new\", \"nice\", \"nice\", \"nice\", \"nice\", \"nice\", \"night\", \"night\", \"night\", \"night\", \"night\", \"noodle\", \"noodle\", \"noodle\", \"noodle\", \"noodle\", \"nordstrom\", \"office\", \"office\", \"office\", \"office\", \"office\", \"order\", \"order\", \"order\", \"order\", \"order\", \"outfit\", \"overrate\", \"owe\", \"owe\", \"pakora\", \"pakora\", \"pancake\", \"pancake\", \"pancake\", \"pancake\", \"pancake\", \"pas\", \"pas\", \"patient\", \"patient\", \"patient\", \"patient\", \"patient\", \"patronize\", \"pearl\", \"pedicure\", \"pedicure\", \"pedicure\", \"pedicure\", \"pedicure\", \"people\", \"people\", \"people\", \"people\", \"people\", \"pepper\", \"pepper\", \"pepper\", \"pepper\", \"pepper\", \"pepperoni\", \"pepperoni\", \"pepperoni\", \"pepperoni\", \"persian\", \"pho\", \"pho\", \"pho\", \"pho\", \"pho\", \"phone\", \"phone\", \"phone\", \"phone\", \"phone\", \"photography\", \"photography\", \"pistachio\", \"pistachio\", \"pistachio\", \"pizza\", \"pizza\", \"pizza\", \"pizza\", \"pizza\", \"place\", \"place\", \"place\", \"place\", \"place\", \"pond\", \"ponzu\", \"pool\", \"pool\", \"pool\", \"pool\", \"pool\", \"pork\", \"pork\", \"pork\", \"pork\", \"pork\", \"porter\", \"portion\", \"portion\", \"portion\", \"portion\", \"portion\", \"poutine\", \"poutine\", \"poutine\", \"powder\", \"pretty\", \"pretty\", \"pretty\", \"pretty\", \"pretty\", \"price\", \"price\", \"price\", \"price\", \"price\", \"problem\", \"problem\", \"problem\", \"problem\", \"problem\", \"procedure\", \"procedure\", \"procedure\", \"procedure\", \"produce\", \"produce\", \"produce\", \"produce\", \"produce\", \"pup\", \"pup\", \"que\", \"que\", \"que\", \"que\", \"raman\", \"raman\", \"raman\", \"raman\", \"recline\", \"recommend\", \"recommend\", \"recommend\", \"recommend\", \"recommend\", \"relax\", \"relax\", \"relax\", \"relax\", \"relax\", \"relaxing\", \"relaxing\", \"relaxing\", \"relaxing\", \"relaxing\", \"relleno\", \"renovate\", \"repair\", \"repair\", \"repair\", \"repair\", \"repair\", \"restaurant\", \"restaurant\", \"restaurant\", \"restaurant\", \"restaurant\", \"review\", \"review\", \"review\", \"review\", \"review\", \"rice\", \"rice\", \"rice\", \"rice\", \"rice\", \"rick\", \"right\", \"right\", \"right\", \"right\", \"right\", \"roach\", \"room\", \"room\", \"room\", \"room\", \"room\", \"roti\", \"roti\", \"rude\", \"rude\", \"rude\", \"rude\", \"rude\", \"salad\", \"salad\", \"salad\", \"salad\", \"salad\", \"salon\", \"salon\", \"salon\", \"salon\", \"salon\", \"sampling\", \"sandwich\", \"sandwich\", \"sandwich\", \"sandwich\", \"sandwich\", \"sauce\", \"sauce\", \"sauce\", \"sauce\", \"sauce\", \"savory\", \"savory\", \"savory\", \"savory\", \"savory\", \"say\", \"say\", \"say\", \"say\", \"say\", \"scallop\", \"scallop\", \"scallop\", \"scallop\", \"scallop\", \"schedule\", \"schedule\", \"schedule\", \"schedule\", \"schedule\", \"seating\", \"seating\", \"seating\", \"seating\", \"seating\", \"service\", \"service\", \"service\", \"service\", \"service\", \"shawarma\", \"shawarma\", \"shower\", \"shower\", \"shower\", \"shower\", \"shower\", \"shrimp\", \"shrimp\", \"shrimp\", \"shrimp\", \"shrimp\", \"sleep\", \"sleep\", \"sleep\", \"sleep\", \"sleep\", \"smog\", \"sont\", \"soup\", \"soup\", \"soup\", \"soup\", \"soup\", \"spa\", \"spa\", \"spa\", \"spa\", \"spa\", \"specially\", \"spicy\", \"spicy\", \"spicy\", \"spicy\", \"spicy\", \"sporting\", \"staff\", \"staff\", \"staff\", \"staff\", \"staff\", \"stay\", \"stay\", \"stay\", \"stay\", \"stay\", \"stretch\", \"stretch\", \"studio\", \"studio\", \"studio\", \"studio\", \"studio\", \"stunning\", \"suite\", \"suite\", \"suite\", \"suite\", \"suite\", \"sur\", \"surgery\", \"surgery\", \"sushi\", \"sushi\", \"sushi\", \"sushi\", \"sushi\", \"suzi\", \"sweet\", \"sweet\", \"sweet\", \"sweet\", \"sweet\", \"taco\", \"taco\", \"taco\", \"taco\", \"taco\", \"tai\", \"taiwanese\", \"taiwanese\", \"taiwanese\", \"taiwanese\", \"take\", \"take\", \"take\", \"take\", \"take\", \"tart\", \"tart\", \"taste\", \"taste\", \"taste\", \"taste\", \"taste\", \"tell\", \"tell\", \"tell\", \"tell\", \"tell\", \"tempura\", \"tempura\", \"tempura\", \"tempura\", \"tender\", \"tender\", \"tender\", \"tender\", \"tender\", \"teppan\", \"tequila\", \"teriyaki\", \"teriyaki\", \"teriyaki\", \"teriyaki\", \"theater\", \"theater\", \"theater\", \"theater\", \"theater\", \"therapist\", \"therapist\", \"therapist\", \"therapist\", \"thing\", \"thing\", \"thing\", \"thing\", \"thing\", \"think\", \"think\", \"think\", \"think\", \"think\", \"thread\", \"thrill\", \"tick\", \"tiki\", \"time\", \"time\", \"time\", \"time\", \"time\", \"tire\", \"tire\", \"tire\", \"tire\", \"tire\", \"tofu\", \"tofu\", \"tofu\", \"tofu\", \"tofu\", \"tomato\", \"tomato\", \"tomato\", \"tomato\", \"tomato\", \"toro\", \"trout\", \"trout\", \"try\", \"try\", \"try\", \"try\", \"try\", \"tr\\u00e8s\", \"tr\\u00e8s\", \"tub\", \"tub\", \"tub\", \"tub\", \"umami\", \"un\", \"un\", \"un\", \"un\", \"und\", \"une\", \"uni\", \"uni\", \"uni\", \"uni\", \"unorganized\", \"uptown\", \"vaccination\", \"variation\", \"vous\", \"wait\", \"wait\", \"wait\", \"wait\", \"wait\", \"walk\", \"walk\", \"walk\", \"walk\", \"walk\", \"walkway\", \"walkway\", \"walkway\", \"want\", \"want\", \"want\", \"want\", \"want\", \"warranty\", \"warranty\", \"warranty\", \"warranty\", \"week\", \"week\", \"week\", \"week\", \"week\", \"well\", \"well\", \"well\", \"well\", \"well\", \"wine\", \"wine\", \"wine\", \"wine\", \"wine\", \"work\", \"work\", \"work\", \"work\", \"work\", \"year\", \"year\", \"year\", \"year\", \"year\", \"yellowtail\", \"yellowtail\", \"yellowtail\", \"yoga\", \"yoga\", \"yuk\", \"\\u00e0\", \"\\u00e0\"]}, \"R\": 30, \"lambda.step\": 0.01, \"plot.opts\": {\"xlab\": \"PC1\", \"ylab\": \"PC2\"}, \"topic.order\": [4, 1, 3, 2, 5]};\n",
              "\n",
              "function LDAvis_load_lib(url, callback){\n",
              "  var s = document.createElement('script');\n",
              "  s.src = url;\n",
              "  s.async = true;\n",
              "  s.onreadystatechange = s.onload = callback;\n",
              "  s.onerror = function(){console.warn(\"failed to load library \" + url);};\n",
              "  document.getElementsByTagName(\"head\")[0].appendChild(s);\n",
              "}\n",
              "\n",
              "if(typeof(LDAvis) !== \"undefined\"){\n",
              "   // already loaded: just create the visualization\n",
              "   !function(LDAvis){\n",
              "       new LDAvis(\"#\" + \"ldavis_el14361336644214140489455039788\", ldavis_el14361336644214140489455039788_data);\n",
              "   }(LDAvis);\n",
              "}else if(typeof define === \"function\" && define.amd){\n",
              "   // require.js is available: use it to load d3/LDAvis\n",
              "   require.config({paths: {d3: \"https://d3js.org/d3.v5\"}});\n",
              "   require([\"d3\"], function(d3){\n",
              "      window.d3 = d3;\n",
              "      LDAvis_load_lib(\"https://cdn.jsdelivr.net/gh/bmabey/pyLDAvis@3.4.0/pyLDAvis/js/ldavis.v3.0.0.js\", function(){\n",
              "        new LDAvis(\"#\" + \"ldavis_el14361336644214140489455039788\", ldavis_el14361336644214140489455039788_data);\n",
              "      });\n",
              "    });\n",
              "}else{\n",
              "    // require.js not available: dynamically load d3 & LDAvis\n",
              "    LDAvis_load_lib(\"https://d3js.org/d3.v5.js\", function(){\n",
              "         LDAvis_load_lib(\"https://cdn.jsdelivr.net/gh/bmabey/pyLDAvis@3.4.0/pyLDAvis/js/ldavis.v3.0.0.js\", function(){\n",
              "                 new LDAvis(\"#\" + \"ldavis_el14361336644214140489455039788\", ldavis_el14361336644214140489455039788_data);\n",
              "            })\n",
              "         });\n",
              "}\n",
              "</script>"
            ]
          },
          "metadata": {},
          "execution_count": 43
        }
      ],
      "source": [
        "# Cell for pyLDAvis visualization\n",
        "#YOUR CODE HERE\n",
        "# pyLDAvis.enable_notebook()\n",
        "# vis = pyLDAvis.gensim_models.prepare(lda, corpus, id2word)\n",
        "# vis"
      ]
    },
    {
      "cell_type": "code",
      "execution_count": null,
      "metadata": {
        "colab": {
          "base_uri": "https://localhost:8080/",
          "height": 529
        },
        "id": "BkBxt93UQSFg",
        "outputId": "ae4367d5-e71f-4c6e-ab66-a0f4499befb3"
      },
      "outputs": [
        {
          "output_type": "stream",
          "name": "stderr",
          "text": [
            "/usr/local/lib/python3.10/dist-packages/ipykernel/ipkernel.py:283: DeprecationWarning: `should_run_async` will not call `transform_cell` automatically in the future. Please pass the result to `transformed_cell` argument and any exception that happen during thetransform in `preprocessing_exc_tuple` in IPython 7.17 and above.\n",
            "  and should_run_async(code)\n"
          ]
        },
        {
          "output_type": "display_data",
          "data": {
            "text/plain": [
              "<Figure size 640x480 with 1 Axes>"
            ],
            "image/png": "[encoded data removed]"
          },
          "metadata": {}
        }
      ],
      "source": [
        "# Cell for matplotlib visualzation\n",
        "# YOUR CODE HERE\n",
        "fig, ax = plt.subplots()\n",
        "\n",
        "# Let's create a simple line plot\n",
        "x = range(10)  # X values from 0 to 9\n",
        "y = [i ** 2 for i in x]  # Y values are the squares of X values\n",
        "\n",
        "ax.plot(x, y)\n",
        "\n",
        "# Set the title and labels\n",
        "ax.set_title(\"A Simple Line Plot\")\n",
        "ax.set_xlabel(\"X values\")\n",
        "ax.set_ylabel(\"Y values\")\n",
        "\n",
        "# Show the plot\n",
        "plt.show()\n",
        "\n",
        "# Assign the figure (which includes the plot) to visual_plot\n",
        "visual_plot = fig"
      ]
    },
    {
      "cell_type": "code",
      "execution_count": null,
      "metadata": {
        "colab": {
          "base_uri": "https://localhost:8080/"
        },
        "id": "8OQdOvowQSFg",
        "outputId": "95674134-ef30-4af4-84ab-1863eed03d4a"
      },
      "outputs": [
        {
          "output_type": "stream",
          "name": "stderr",
          "text": [
            "/usr/local/lib/python3.10/dist-packages/ipykernel/ipkernel.py:283: DeprecationWarning: `should_run_async` will not call `transform_cell` automatically in the future. Please pass the result to `transformed_cell` argument and any exception that happen during thetransform in `preprocessing_exc_tuple` in IPython 7.17 and above.\n",
            "  and should_run_async(code)\n"
          ]
        }
      ],
      "source": [
        "# Visible testing\n",
        "assert visual_plot is not None, \"Variable 'visual_plot' is not created.\""
      ]
    },
    {
      "cell_type": "code",
      "source": [
        "from google.colab import auth\n",
        "auth.authenticate_user()"
      ],
      "metadata": {
        "id": "MY5wQZvYh8qJ"
      },
      "execution_count": null,
      "outputs": []
    },
    {
      "cell_type": "code",
      "source": [
        "!apt-get install git"
      ],
      "metadata": {
        "colab": {
          "base_uri": "https://localhost:8080/"
        },
        "id": "1DbNSaGGiBdu",
        "outputId": "2f75e83e-dd07-42a0-ebfe-6b5e3ce09fb7"
      },
      "execution_count": 1,
      "outputs": [
        {
          "output_type": "stream",
          "name": "stdout",
          "text": [
            "Reading package lists... Done\n",
            "Building dependency tree... Done\n",
            "Reading state information... Done\n",
            "git is already the newest version (1:2.34.1-1ubuntu1.11).\n",
            "0 upgraded, 0 newly installed, 0 to remove and 49 not upgraded.\n"
          ]
        }
      ]
    },
    {
      "cell_type": "code",
      "source": [
        "!git clone https://github.com/Angel078m/Reviews-analyzer.git"
      ],
      "metadata": {
        "colab": {
          "base_uri": "https://localhost:8080/"
        },
        "id": "oKXXObWtw3sH",
        "outputId": "4bc3b11c-a298-44b9-cf90-2df875120dfd"
      },
      "execution_count": 2,
      "outputs": [
        {
          "output_type": "stream",
          "name": "stdout",
          "text": [
            "Cloning into 'Reviews-analyzer'...\n",
            "remote: Enumerating objects: 4, done.\u001b[K\n",
            "remote: Counting objects: 100% (4/4), done.\u001b[K\n",
            "remote: Compressing objects: 100% (3/3), done.\u001b[K\n",
            "remote: Total 4 (delta 0), reused 0 (delta 0), pack-reused 0 (from 0)\u001b[K\n",
            "Receiving objects: 100% (4/4), done.\n"
          ]
        }
      ]
    },
    {
      "cell_type": "code",
      "source": [
        "!mv Reviews-analyzer.ipynb your-repo-name/"
      ],
      "metadata": {
        "colab": {
          "base_uri": "https://localhost:8080/"
        },
        "id": "WY1Xe_mfxLjI",
        "outputId": "a966912d-61de-4f9a-d3be-27b1600d2626"
      },
      "execution_count": 3,
      "outputs": [
        {
          "output_type": "stream",
          "name": "stdout",
          "text": [
            "mv: cannot stat 'Reviews-analyzer.ipynb': No such file or directory\n"
          ]
        }
      ]
    },
    {
      "cell_type": "code",
      "source": [],
      "metadata": {
        "id": "7nE8HhJNxm6Y"
      },
      "execution_count": null,
      "outputs": []
    }
  ],
  "metadata": {
    "colab": {
      "provenance": []
    },
    "kernel_info": {
      "name": "u4-s1-nlp"
    },
    "kernelspec": {
      "display_name": "Python 3.10.2 64-bit",
      "language": "python",
      "name": "python3"
    },
    "language_info": {
      "codemirror_mode": {
        "name": "ipython",
        "version": 3
      },
      "file_extension": ".py",
      "mimetype": "text/x-python",
      "name": "python",
      "nbconvert_exporter": "python",
      "pygments_lexer": "ipython3",
      "version": "3.10.2"
    },
    "nteract": {
      "version": "0.15.0"
    },
    "toc-autonumbering": false,
    "vscode": {
      "interpreter": {
        "hash": "aee8b7b246df8f9039afb4144a1f6fd8d2ca17a180786b69acc140d282b71a49"
      }
    }
  },
  "nbformat": 4,
  "nbformat_minor": 0
}